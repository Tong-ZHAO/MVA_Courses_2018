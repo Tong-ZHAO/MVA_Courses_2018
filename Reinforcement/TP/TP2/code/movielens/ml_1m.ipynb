{
 "cells": [
  {
   "cell_type": "code",
   "execution_count": 1,
   "metadata": {},
   "outputs": [],
   "source": [
    "import numpy as np\n",
    "import pandas as pd\n",
    "# from scipy.linalg import clarkson_woodruff_transform\n",
    "from scipy.sparse.linalg import svds\n",
    "from sklearn.decomposition import NMF"
   ]
  },
  {
   "cell_type": "code",
   "execution_count": 3,
   "metadata": {},
   "outputs": [],
   "source": [
    "ratings = pd.read_table('ml-1m/ratings.dat', sep='::', \n",
    "                        names = ['UserID', 'MovieID', 'Rating', 'Timestamp'],\n",
    "                        encoding = 'latin1',\n",
    "                        engine = 'python')\n",
    "movies  = pd.read_table('ml-1m/movies.dat',  sep='::',\n",
    "                        names = ['MovieID', 'Title', 'Genres'], \n",
    "                        encoding = 'latin1',\n",
    "                        engine ='python')\n",
    "users   = pd.read_table('ml-1m/users.dat',  sep='::', \n",
    "                        names = ['UserID', 'Gender', 'Age', 'Occupation', 'Zip'], \n",
    "                        encoding = 'latin1',\n",
    "                        engine = 'python')"
   ]
  },
  {
   "cell_type": "code",
   "execution_count": null,
   "metadata": {},
   "outputs": [],
   "source": [
    "movies.head()"
   ]
  },
  {
   "cell_type": "markdown",
   "metadata": {},
   "source": [
    "# Films with sufficient numbers of reviews\n",
    "Let's just get those titles which have at least N reviews\n",
    "\n",
    "The output is **ratings_topN**"
   ]
  },
  {
   "cell_type": "code",
   "execution_count": null,
   "metadata": {},
   "outputs": [],
   "source": [
    "N = 1000\n",
    "ratings_count = ratings.groupby(by='MovieID', as_index=True).size()\n",
    "# top_ratings = ratings_count.sort_values(ascending=False)[:N]\n",
    "top_ratings = ratings_count[ratings_count>=N]\n",
    "top_ratings.head(10)"
   ]
  },
  {
   "cell_type": "code",
   "execution_count": null,
   "metadata": {},
   "outputs": [],
   "source": [
    "# movies_topN = movies[movies.MovieID.isin(top_ratings.index)]\n",
    "# print('Shape: {}'.format(movies_topN.shape))\n",
    "# movies_topN\n",
    "ratings_topN = ratings[ratings.MovieID.isin(top_ratings.index)]\n",
    "print('Shape: {}'.format(ratings_topN.shape))\n",
    "ratings_topN.head(10)"
   ]
  },
  {
   "cell_type": "code",
   "execution_count": null,
   "metadata": {},
   "outputs": [],
   "source": [
    "n_users = ratings_topN.UserID.unique().shape[0]\n",
    "n_movies = ratings_topN.MovieID.unique().shape[0]\n",
    "print('Number of users = {} | Number of movies = {}'.format(n_users, n_movies))"
   ]
  },
  {
   "cell_type": "markdown",
   "metadata": {
    "collapsed": true
   },
   "source": [
    "# Low Rank Matrix Factorization\n",
    "build our model of users, the rating that user i assigns to movie j. We factor the user-movie matrix using low-rank matrix factorization: M = UV'"
   ]
  },
  {
   "cell_type": "code",
   "execution_count": null,
   "metadata": {},
   "outputs": [],
   "source": [
    "R_df = ratings_topN.pivot(index = 'UserID', columns ='MovieID', values = 'Rating').fillna(0)\n",
    "R_df.head()"
   ]
  },
  {
   "cell_type": "code",
   "execution_count": null,
   "metadata": {},
   "outputs": [],
   "source": [
    "M = R_df.as_matrix()\n",
    "sparsity=round(1.0-np.count_nonzero(M)/float(n_users*n_movies),3)\n",
    "print('Number of users = {} | Number of movies = {}'.format(n_users, n_movies))\n",
    "print('The sparsity level is {}%'.format(sparsity*100))"
   ]
  },
  {
   "cell_type": "markdown",
   "metadata": {},
   "source": [
    "We should define how many components we want for the low rank matrix factorization"
   ]
  },
  {
   "cell_type": "code",
   "execution_count": null,
   "metadata": {
    "collapsed": true
   },
   "outputs": [],
   "source": [
    "K = 30"
   ]
  },
  {
   "cell_type": "markdown",
   "metadata": {},
   "source": [
    "### Sparse SVD"
   ]
  },
  {
   "cell_type": "code",
   "execution_count": null,
   "metadata": {},
   "outputs": [],
   "source": [
    "U, s, Vt = svds(M, k = K)\n",
    "s=np.diag(s)\n",
    "U = np.dot(U,s)\n",
    "print('U: {}'.format(U.shape))\n",
    "print('Vt: {}'.format(Vt.shape))"
   ]
  },
  {
   "cell_type": "markdown",
   "metadata": {},
   "source": [
    "### Non-negative matrix factorization (NMF)\n",
    "Find two non-negative matrices (W, H) whose product approximates the non- negative matrix X."
   ]
  },
  {
   "cell_type": "code",
   "execution_count": null,
   "metadata": {},
   "outputs": [],
   "source": [
    "model = NMF(n_components=K, init='random', random_state=0)\n",
    "W = model.fit_transform(M)\n",
    "H = model.components_\n",
    "print('W: {}'.format(W.shape))\n",
    "print('H: {}'.format(H.shape))"
   ]
  },
  {
   "cell_type": "code",
   "execution_count": null,
   "metadata": {
    "collapsed": true
   },
   "outputs": [],
   "source": [
    "np.savetxt('U.csv', W, delimiter=',') \n",
    "np.savetxt('Vt.csv', H, delimiter=',') "
   ]
  },
  {
   "cell_type": "code",
   "execution_count": null,
   "metadata": {
    "collapsed": true
   },
   "outputs": [],
   "source": []
  }
 ],
 "metadata": {
  "kernelspec": {
   "display_name": "Python 3",
   "language": "python",
   "name": "python3"
  },
  "language_info": {
   "codemirror_mode": {
    "name": "ipython",
    "version": 3
   },
   "file_extension": ".py",
   "mimetype": "text/x-python",
   "name": "python",
   "nbconvert_exporter": "python",
   "pygments_lexer": "ipython3",
   "version": "3.7.0"
  }
 },
 "nbformat": 4,
 "nbformat_minor": 2
}
