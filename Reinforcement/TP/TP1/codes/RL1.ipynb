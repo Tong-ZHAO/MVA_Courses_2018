{
 "cells": [
  {
   "cell_type": "code",
   "execution_count": 1,
   "metadata": {},
   "outputs": [],
   "source": [
    "import numpy as np\n",
    "import matplotlib.pyplot as plt\n",
    "\n",
    "from bidict import bidict\n",
    "from collections import defaultdict\n",
    "from datetime import datetime\n",
    "\n",
    "%matplotlib inline"
   ]
  },
  {
   "cell_type": "markdown",
   "metadata": {},
   "source": [
    "# Dynamic Programming"
   ]
  },
  {
   "cell_type": "markdown",
   "metadata": {},
   "source": [
    "## Q1"
   ]
  },
  {
   "cell_type": "markdown",
   "metadata": {},
   "source": [
    "Implement the discrete MDP model."
   ]
  },
  {
   "cell_type": "code",
   "execution_count": 2,
   "metadata": {},
   "outputs": [],
   "source": [
    "class MDP:\n",
    "    \"\"\"This class implements a Markov Decision Process.\n",
    "    \n",
    "    It saves all the information for the states, the actions and the rewards.\n",
    "    \n",
    "    Attributes:\n",
    "        num_states (int)   : the total number of the states\n",
    "        name_states(bidict): the bi-directional dict for the pairs \n",
    "                             [name(str), index(int)]. eg: (\"s0\" -> 1 && 1 -> \"s0\")\n",
    "        set_states (list)  : the list of State instances, the order is consistant \n",
    "                             with the one of the indices in name_states\n",
    "    \"\"\"\n",
    "    \n",
    "    def __init__(self, set_states, set_acts, set_rewards):\n",
    "        \"\"\"Init MDP with given parameters. \n",
    "        \n",
    "        After the initialization, the class can be used directly for the simulation.\n",
    "        \n",
    "        Args:\n",
    "            set_states(list(str))  : the names of all states, eg. [\"a0\", \"a1\", ...]\n",
    "            set_acts  (list(list)) : each sub-list contains the info for one action, namely \n",
    "                                     [name_start_state(str), name_end_state(str), name_action(str), proba(float)],\n",
    "                                     eg. [\"s0\", \"s0\", \"a0\", 0.55]\n",
    "            set_rewards(list(list)): each sub-list contains the info for one reward, namely\n",
    "                                     [name_start_state(str), name_action(str), reward(float)],\n",
    "                                     eg. [\"s0\", \"a0\", 1.]\n",
    "        \"\"\"\n",
    "        \n",
    "        self.num_states = len(set_states)\n",
    "        self.name_states = bidict(zip(set_states, range(self.num_states)))\n",
    "        self.set_states = [State(i, set_states[i], self.num_states) for i in range(self.num_states)]\n",
    "\n",
    "        self.set_acts_matrix(set_acts)\n",
    "        self.set_rewards_matrix(set_rewards)\n",
    "        \n",
    "    def set_rewards_matrix(self, set_rewards):\n",
    "        \"\"\"Save reward information in each State instance.\n",
    "        \n",
    "        Args:\n",
    "            set_rewards(list(list)): Descriptions given in the __init__ func.\n",
    "        \"\"\"\n",
    "        \n",
    "        # reward = (state, action, reward)\n",
    "        for reward in set_rewards:\n",
    "            self.set_states[self.name_states[reward[0]]].set_reward_dict(reward[1], reward[2])\n",
    "            \n",
    "    def set_acts_matrix(self, set_acts):\n",
    "        \"\"\"Save action information in each State instance.\n",
    "        \n",
    "        Args:\n",
    "            set_acts(list(list)): Descriptions given in the __init__ func.\n",
    "        \"\"\"\n",
    "        \n",
    "        # act = (state_in, state_out, action, proba)\n",
    "        for act in set_acts:\n",
    "            self.set_states[self.name_states[act[0]]].add_action(act[2], self.name_states[act[1]], act[3])\n",
    "            \n",
    "        for i in range(self.num_states):\n",
    "            self.set_states[i].set_action_matrix()"
   ]
  },
  {
   "cell_type": "code",
   "execution_count": 3,
   "metadata": {},
   "outputs": [],
   "source": [
    "class State:\n",
    "    \"\"\"The class simulates one state of an MDP. \n",
    "    \n",
    "    It keeps the informations of a state: the name, the index, the actions, the rewards and so on.\n",
    "    \n",
    "    Attributes:\n",
    "        idx       (int)       : the index of this state in the MDP\n",
    "        name      (str)       : the name of this state\n",
    "        num_states(int)       : the total number of states in the MDP\n",
    "        set_acts  (set(str))  : the set contains the names of all actions\n",
    "        list_acts (list(list)): each sub-list contains the info for one action, namely\n",
    "                                [name_action(str), idx_end_state(int), proba(float)]\n",
    "        num_acts  (int)       : the total number of actions in this state\n",
    "        idx_acts  (bidict)    : the bi-directional dict for the pairs \n",
    "                                [name(str), index(int)]. eg: (\"a0\" -> 1 && 1 -> \"a0\")\n",
    "        mat_acts  (np.array)  : a matrix of size (num_actions, num_states), which saves the \n",
    "                                transition probability for each action\n",
    "        rewards   (np.array)  : a matrix of size (num_actions,), each entry saves the reward\n",
    "                                we obtain when we choose this action\n",
    "    \"\"\"\n",
    "    \n",
    "    def __init__(self, idx, name, num_states):\n",
    "        \"\"\"Init a state of an MDP with given parameters. \n",
    "        \n",
    "        The instance is initialized by an MDP instance. Then it can be used directly.\n",
    "        \n",
    "        Args:\n",
    "            idx        (int): the index of the state in the MDP\n",
    "            name       (str): the name of the state\n",
    "            num_states (int): the total number of states in the MDP\n",
    "        \"\"\"\n",
    "        self.idx = idx\n",
    "        self.name = name\n",
    "        self.num_states = num_states\n",
    "        \n",
    "        self.set_acts = set()\n",
    "        self.list_acts = []\n",
    "        \n",
    "    def add_action(self, action, state_out, proba):\n",
    "        \"\"\"Add one action for the state\n",
    "        \n",
    "        Args:\n",
    "            action    (str)  : the name of the action\n",
    "            state_out (int)  : the index of the end state\n",
    "            proba     (float): the probability of transition when we take a certain action \n",
    "                               and get into a certain state.\n",
    "        \n",
    "        \"\"\"\n",
    "        self.set_acts.add(action)\n",
    "        self.list_acts.append([action, state_out, proba])\n",
    "        \n",
    "    \n",
    "    def set_action_matrix(self):\n",
    "        \"\"\"Set the action matrix for the state\n",
    "        \n",
    "        After calling this function, the action matrix is well defined.\n",
    "        \"\"\"        \n",
    "        self.num_acts = len(self.set_acts)\n",
    "        self.rewards = np.zeros((self.num_acts))\n",
    "        self.idx_acts = bidict(zip(self.set_acts, range(self.num_acts)))\n",
    "        self.mat_acts = np.zeros((self.num_acts, self.num_states))\n",
    "        \n",
    "        # act = (action_name, state_out_idx, proba, reward)\n",
    "        for act in self.list_acts:\n",
    "            self.mat_acts[self.idx_acts[act[0]], act[1]] = act[2]\n",
    "            \n",
    "    def set_reward_dict(self, action, reward):\n",
    "        \"\"\"Set the reward for one  action\n",
    "        \n",
    "        Args:\n",
    "            action (str)  : the name of the action \n",
    "            reward (float): the reward for the action\n",
    "        \"\"\"\n",
    "        self.rewards[self.idx_acts[action]] = reward"
   ]
  },
  {
   "cell_type": "code",
   "execution_count": 4,
   "metadata": {},
   "outputs": [],
   "source": [
    "states = [\"s0\", \"s1\", \"s2\"]\n",
    "\n",
    "actions = [ [\"s0\", \"s0\", \"a0\", 0.55],\n",
    "            [\"s0\", \"s1\", \"a0\", 0.45],\n",
    "            [\"s0\", \"s0\", \"a1\", 0.3],\n",
    "            [\"s0\", \"s1\", \"a1\", 0.7],\n",
    "            [\"s0\", \"s0\", \"a2\", 1.0],\n",
    "            [\"s1\", \"s0\", \"a0\", 1.0],\n",
    "            [\"s1\", \"s1\", \"a1\", 0.4],\n",
    "            [\"s1\", \"s2\", \"a1\", 0.6],\n",
    "            [\"s1\", \"s1\", \"a2\", 1.0],\n",
    "            [\"s2\", \"s1\", \"a0\", 1.0],\n",
    "            [\"s2\", \"s2\", \"a1\", 0.4],\n",
    "            [\"s2\", \"s1\", \"a1\", 0.6],\n",
    "            [\"s2\", \"s2\", \"a2\", 1.0]]\n",
    "\n",
    "rewards = [ [\"s0\", \"a0\", 0],\n",
    "            [\"s0\", \"a1\", 0],\n",
    "            [\"s0\", \"a2\", 0.05],\n",
    "            [\"s1\", \"a0\", 0],\n",
    "            [\"s1\", \"a1\", 0],\n",
    "            [\"s1\", \"a2\", 0],\n",
    "            [\"s2\", \"a0\", 0],\n",
    "            [\"s2\", \"a1\", 1],\n",
    "            [\"s2\", \"a2\", 0.9]]\n",
    "\n",
    "gamma = 0.95"
   ]
  },
  {
   "cell_type": "code",
   "execution_count": 5,
   "metadata": {},
   "outputs": [],
   "source": [
    "my_mdp = MDP(states, actions, rewards)"
   ]
  },
  {
   "cell_type": "markdown",
   "metadata": {},
   "source": [
    "## Q2"
   ]
  },
  {
   "cell_type": "markdown",
   "metadata": {},
   "source": [
    "Implement the value iteration in order to identify a 0.1-optimal policy."
   ]
  },
  {
   "cell_type": "code",
   "execution_count": 56,
   "metadata": {},
   "outputs": [],
   "source": [
    "def value_iteration(mdp, gamma = 0.95, K = 1000, epsilon = 0.01):\n",
    "    \"\"\"This function implements the value iteration method for an MDP\n",
    "    \n",
    "    It aims to find the optimal policy for a given MDP by optimizing the matrix V iteratively.\n",
    "    \n",
    "    Args:\n",
    "        mdp     (MDP)  : the markov decision process\n",
    "        gamma   (float): the discount factor\n",
    "        K       (int)  : the maximum number of iterations\n",
    "        epsilon (float): the acceptable inifinity norm difference, it decides when we stop the iteration\n",
    "        \n",
    "    Returns:\n",
    "        V_history (list(np.array)): a list which contains the V for each iteration,\n",
    "                                    the last V is the optimal V.\n",
    "    \"\"\"\n",
    "    \n",
    "    V_history = [np.zeros((mdp.num_states))]\n",
    "    \n",
    "    for k in range(K):\n",
    "        V1 = np.zeros_like(V_history[-1])\n",
    "        # Bellman equation for state i\n",
    "        for i in range(mdp.num_states):\n",
    "            # Max value for action j\n",
    "            curr_acts = [my_mdp.set_states[i].rewards[j] + gamma * (V_history[-1] * my_mdp.set_states[i].mat_acts[j]).sum()\n",
    "                         for j in range(mdp.set_states[i].num_acts)]\n",
    "            V1[i] = max(curr_acts)\n",
    "            \n",
    "        if np.max(np.abs(V_history[-1] - V1)) < epsilon:\n",
    "            break\n",
    "        else:\n",
    "            V_history.append(V1)\n",
    "            \n",
    "    return V_history"
   ]
  },
  {
   "cell_type": "code",
   "execution_count": 7,
   "metadata": {},
   "outputs": [],
   "source": [
    "def greedy_policy(mdp, V_opt, gamma = 0.95):\n",
    "    \"\"\"This function find the greedy policy according to a value matrix\n",
    "    \n",
    "    It simply takes the action which maximizes the reward for each state.\n",
    "    \n",
    "    Args:\n",
    "        mdp     (MDP)     : the markov decision process\n",
    "        V_opt   (np.array): the optimal value matrix\n",
    "        gamma   (float)   : the discount factor\n",
    "        \n",
    "    Returns:\n",
    "        P_opt (list(str)): each entry represents the name of the chosen action at the corresponding state\n",
    "    \"\"\"\n",
    "    \n",
    "    P_opt = [None] * mdp.num_states\n",
    "    \n",
    "    for i in range(mdp.num_states):\n",
    "        curr_acts = [my_mdp.set_states[i].rewards[j] + gamma * (V_opt * my_mdp.set_states[i].mat_acts[j]).sum()\n",
    "                         for j in range(mdp.set_states[i].num_acts)]\n",
    "        curr_opt = curr_acts.index(max(curr_acts))\n",
    "        P_opt[i] = my_mdp.set_states[i].idx_acts.inv[curr_opt]\n",
    "        \n",
    "    return P_opt"
   ]
  },
  {
   "cell_type": "markdown",
   "metadata": {},
   "source": [
    "Implement policy evaluation to compute $v^\\star$."
   ]
  },
  {
   "cell_type": "code",
   "execution_count": 8,
   "metadata": {},
   "outputs": [],
   "source": [
    "def policy_evaluation(mdp, policy, gamma = 0.95):\n",
    "    \"\"\"This function implements the policy evaluation method for an MDP\n",
    "    \n",
    "    It calculates the corresponding value matrix given a policy.\n",
    "    \n",
    "    Args:\n",
    "        mdp      (MDP)      : the markov decision process\n",
    "        policy   (list(str)): the chosen policy, each entry indicates the chosen action for the corresponding state\n",
    "        gamma    (float)    : the maximum number of iterations\n",
    "        \n",
    "    Returns:\n",
    "        value (np.array): the value matrix of size (num_states,)\n",
    "    \"\"\"\n",
    "    \n",
    "    mat_policy = np.zeros((mdp.num_states, mdp.num_states))\n",
    "    mat_reward = np.zeros((mdp.num_states, 1))\n",
    "    \n",
    "    for i in range(mdp.num_states):\n",
    "        idx_act = my_mdp.set_states[i].idx_acts[policy[i]]\n",
    "        mat_policy[i] = my_mdp.set_states[i].mat_acts[idx_act]\n",
    "        mat_reward[i, 0] = my_mdp.set_states[i].rewards[idx_act]\n",
    "        \n",
    "    value = np.dot(np.linalg.inv(np.eye(mdp.num_states) - gamma * mat_policy), mat_reward)\n",
    "    \n",
    "    return value.reshape((-1))"
   ]
  },
  {
   "cell_type": "markdown",
   "metadata": {},
   "source": [
    "Plot $\\|v^k - v^\\star\\|_\\infty$ as a function of iteration $k$."
   ]
  },
  {
   "cell_type": "code",
   "execution_count": 9,
   "metadata": {},
   "outputs": [],
   "source": [
    "def plot_loss(V_loss):\n",
    "    \n",
    "    plt.figure()\n",
    "    plt.plot(range(len(V_loss)), V_loss)\n",
    "    plt.xlabel(\"Iter\")\n",
    "    plt.ylabel(\"|v_k - v^*|_{inf}\")\n",
    "    plt.title(\"Inf Norm of (v-v*) w.r.t. Number of Iteration\")\n",
    "    plt.grid()\n",
    "    plt.show()"
   ]
  },
  {
   "cell_type": "markdown",
   "metadata": {},
   "source": [
    "Run all the functions and show the results."
   ]
  },
  {
   "cell_type": "code",
   "execution_count": 59,
   "metadata": {},
   "outputs": [
    {
     "name": "stdout",
     "output_type": "stream",
     "text": [
      "VI uses 0.007932s\n"
     ]
    }
   ],
   "source": [
    "start = datetime.now()\n",
    "# estimate VI time\n",
    "V_history = value_iteration(my_mdp, gamma)\n",
    "# show VI tiome\n",
    "stop = datetime.now()\n",
    "print('VI uses %fs' % (stop - start).total_seconds())\n",
    "\n",
    "P_opt = greedy_policy(my_mdp, V_history[-1], gamma)"
   ]
  },
  {
   "cell_type": "code",
   "execution_count": 11,
   "metadata": {
    "scrolled": false
   },
   "outputs": [
    {
     "name": "stdout",
     "output_type": "stream",
     "text": [
      "The optimal policy\n",
      "------------------\n",
      "     s0 :  a1\n",
      "     s1 :  a1\n",
      "     s2 :  a2\n"
     ]
    }
   ],
   "source": [
    "print(\"The optimal policy\")\n",
    "print(\"-\" * 18)\n",
    "for i in range(my_mdp.num_states):\n",
    "    print(\"    \", my_mdp.name_states.inv[i], \": \", P_opt[i])"
   ]
  },
  {
   "cell_type": "code",
   "execution_count": 12,
   "metadata": {},
   "outputs": [
    {
     "data": {
      "image/png": "[encoded data removed]",
      "text/plain": [
       "<Figure size 432x288 with 1 Axes>"
      ]
     },
     "metadata": {
      "needs_background": "light"
     },
     "output_type": "display_data"
    }
   ],
   "source": [
    "V_star = policy_evaluation(my_mdp, P_opt, gamma)\n",
    "plot_loss([np.max(np.abs(V_star - V)) for V in V_history])"
   ]
  },
  {
   "cell_type": "markdown",
   "metadata": {},
   "source": [
    "## Q3"
   ]
  },
  {
   "cell_type": "markdown",
   "metadata": {},
   "source": [
    "Implement the exact policy iteration."
   ]
  },
  {
   "cell_type": "code",
   "execution_count": 13,
   "metadata": {},
   "outputs": [],
   "source": [
    "def policy_iteration(mdp, p_init, gamma = 0.95, K = 1000):\n",
    "    \"\"\"This function implements the policy iteration method for an MDP\n",
    "    \n",
    "    It aims to find the optimal policy for a given MDP by optimizing the policy P iteratively.\n",
    "    We stop the iteration when the policy does not change.\n",
    "    \n",
    "    Args:\n",
    "        mdp     (MDP)      : the markov decision process\n",
    "        p_init  (list(str)): the initial policy\n",
    "        gamma   (float)    : the discount factor\n",
    "        K       (int)      : the maximum number of iterations\n",
    "        \n",
    "    Returns:\n",
    "        p0 (list(str)): the final optimal policy\n",
    "        k  (int)      : the iteration where the algorithm converges\n",
    "    \"\"\"\n",
    "    \n",
    "    p0 = p_init\n",
    "    \n",
    "    for k in range(K):\n",
    "        v0 = policy_evaluation(mdp, p0, gamma)\n",
    "        p1 = greedy_policy(mdp, v0, gamma)\n",
    "        \n",
    "        if p1 == p0:\n",
    "            return p0, k\n",
    "        else:\n",
    "            p0 = p1\n",
    "            \n",
    "    return p0, K"
   ]
  },
  {
   "cell_type": "code",
   "execution_count": 14,
   "metadata": {},
   "outputs": [
    {
     "name": "stdout",
     "output_type": "stream",
     "text": [
      "PI uses 0.001115s\n",
      "PI converges at iteration 4.\n"
     ]
    }
   ],
   "source": [
    "start = datetime.now()\n",
    "# estimate VI time\n",
    "P_opt_pi, K_pi = policy_iteration(my_mdp, [\"a0\", \"a0\", \"a0\"], gamma)\n",
    "# show VI tiome\n",
    "stop = datetime.now()\n",
    "print('PI uses %fs' % (stop - start).total_seconds())\n",
    "print(\"PI converges at iteration %d.\" % K_pi)"
   ]
  },
  {
   "cell_type": "markdown",
   "metadata": {},
   "source": [
    "# Exercise 2"
   ]
  },
  {
   "cell_type": "code",
   "execution_count": 15,
   "metadata": {},
   "outputs": [],
   "source": [
    "from gridworld import GridWorld1\n",
    "import gridrender as gui\n",
    "import matplotlib.pyplot as plt\n",
    "import numpy as np\n",
    "import time"
   ]
  },
  {
   "cell_type": "code",
   "execution_count": 16,
   "metadata": {},
   "outputs": [],
   "source": [
    "my_env = GridWorld1"
   ]
  },
  {
   "cell_type": "code",
   "execution_count": 17,
   "metadata": {},
   "outputs": [
    {
     "name": "stdout",
     "output_type": "stream",
     "text": [
      "State to Coord:  [[0, 0], [0, 1], [0, 2], [0, 3], [1, 0], [1, 2], [1, 3], [2, 0], [2, 1], [2, 2], [2, 3]]\n",
      "Coord to State:  [[ 0  1  2  3]\n",
      " [ 4 -1  5  6]\n",
      " [ 7  8  9 10]]\n",
      "State Actions :  [[0, 1], [0, 2], [0, 1, 2], [0], [1, 3], [0, 1, 3], [0], [0, 3], [0, 2], [0, 2, 3], [2, 3]]\n",
      "\t\t s0: ['right' 'down']\n",
      "\t\t s1: ['right' 'left']\n",
      "\t\t s2: ['right' 'down' 'left']\n",
      "\t\t s3: ['right']\n",
      "\t\t s4: ['down' 'up']\n",
      "\t\t s5: ['right' 'down' 'up']\n",
      "\t\t s6: ['right']\n",
      "\t\t s7: ['right' 'up']\n",
      "\t\t s8: ['right' 'left']\n",
      "\t\t s9: ['right' 'left' 'up']\n",
      "\t\t s10: ['left' 'up']\n"
     ]
    }
   ],
   "source": [
    "print(\"State to Coord: \", my_env.state2coord)\n",
    "print(\"Coord to State: \", my_env.coord2state)\n",
    "print(\"State Actions : \", my_env.state_actions)\n",
    "\n",
    "for i, el in enumerate(my_env.state_actions):\n",
    "        print(\"\\t\\t s{}: {}\".format(i, my_env.action_names[el]))"
   ]
  },
  {
   "cell_type": "markdown",
   "metadata": {},
   "source": [
    "## Q4"
   ]
  },
  {
   "cell_type": "markdown",
   "metadata": {},
   "source": [
    "Implement value function estimation using Monte-Carlo. "
   ]
  },
  {
   "cell_type": "code",
   "execution_count": 18,
   "metadata": {},
   "outputs": [],
   "source": [
    "def mc_value_estimation(env, policy, gamma = 0.95, K = 1000, T_max = 20):\n",
    "    \"\"\"This function estimates the value matrix given a chosen policy.\n",
    "    \n",
    "    It simulates the process for many times and estimates the matrix by Monte-Carlo method.\n",
    "    \n",
    "    Args:\n",
    "        env    (GridWorld): an instance of GridWorld, which describes the whole environment\n",
    "        policy (list(int)): the chosen policy, each entry indicates the action in the corresponding state\n",
    "        gamma  (float)    : the discount factor\n",
    "        K      (int)      : the total number of episoids\n",
    "        T_max  (int)      : the maximum time we move in each episoid\n",
    "        \n",
    "    Returns:\n",
    "        v_history (list(np.array)): a list which contains the V for each iteration,\n",
    "                                    the last V is the optimal V.\n",
    "        n_mc      (np.array)      : the visit probability for each state during the simulation.\n",
    "    \"\"\"\n",
    "    \n",
    "    v_history = []\n",
    "    v_mc = np.zeros((env.n_states))\n",
    "    n_mc = np.zeros((env.n_states))\n",
    "        \n",
    "    for k in range(K):\n",
    "        s0 = env.reset()\n",
    "        state = s0\n",
    "        t = 0\n",
    "        coord = env.state2coord[state]\n",
    "        while type(env.grid[coord[0]][coord[1]]) != int and t < T_max:\n",
    "            action = policy[state]\n",
    "            state = env.step(state, action)[0]\n",
    "            coord = env.state2coord[state]\n",
    "            t += 1\n",
    "        if type(env.grid[coord[0]][coord[1]]) == int:\n",
    "            # If the initial state is s3 or s6, we restart a new simulation\n",
    "            v_mc[s0] += pow(gamma, t - 1) * env.grid[coord[0]][coord[1]] if t > 0 else 0\n",
    "            n_mc[s0] += 1\n",
    "            # avoid divided by 0\n",
    "            v_history.append(v_mc / (n_mc + 1e-8))\n",
    "\n",
    "    n_mc = n_mc / float(K)\n",
    "    \n",
    "    return v_history, n_mc"
   ]
  },
  {
   "cell_type": "markdown",
   "metadata": {},
   "source": [
    "Plot $J_n - J^\\pi$ as a function of the number of the iteration $n$."
   ]
  },
  {
   "cell_type": "code",
   "execution_count": 19,
   "metadata": {},
   "outputs": [],
   "source": [
    "def plot_estimator(J_diff):\n",
    "    \n",
    "    plt.figure()\n",
    "    plt.plot(J_diff)\n",
    "    plt.xlabel(\"Iter\")\n",
    "    plt.ylabel(\"J_n - J_pi\")\n",
    "    plt.title(\"J_n - J_pi w.r.t. the number of the iteration\")\n",
    "    plt.grid()\n",
    "    plt.show()"
   ]
  },
  {
   "cell_type": "code",
   "execution_count": 63,
   "metadata": {},
   "outputs": [],
   "source": [
    "my_env.compute_available_actions()\n",
    "# Set policy\n",
    "policy = [0 if (0 in my_env.state_actions[i]) else 3 for i in range(my_env.n_states)]\n",
    "# Value estimation\n",
    "v_history, n_mc = mc_value_estimation(my_env, policy, K = 1000)\n",
    "# Given value\n",
    "v_q4 = np.array([0.87691855, 0.92820033, 0.98817903, 0.00000000, 0.67106071, -0.99447514, 0.00000000, -0.82847001, -0.87691855,\n",
    "        -0.93358351, -0.99447514])"
   ]
  },
  {
   "cell_type": "code",
   "execution_count": 21,
   "metadata": {},
   "outputs": [
    {
     "data": {
      "image/png": "[encoded data removed]",
      "text/plain": [
       "<Figure size 432x288 with 1 Axes>"
      ]
     },
     "metadata": {
      "needs_background": "light"
     },
     "output_type": "display_data"
    }
   ],
   "source": [
    "J_pi = np.sum(n_mc * v_q4)\n",
    "plot_estimator([np.sum(n_mc * v) - J_pi for v in v_history])"
   ]
  },
  {
   "cell_type": "markdown",
   "metadata": {},
   "source": [
    "## Q5"
   ]
  },
  {
   "cell_type": "markdown",
   "metadata": {},
   "source": [
    "Implement Q-learning algorithm for a grid in order to find an optimal policy."
   ]
  },
  {
   "cell_type": "code",
   "execution_count": 22,
   "metadata": {},
   "outputs": [],
   "source": [
    "def q_learning(env, actions, v_opt = None, epsilon = 0.1, gamma = 0.95, K = 1000, T_max = 20, a = 1.):\n",
    "    \"\"\"This function implements the q-learning algorithm to find an optimal policy.\n",
    "    \n",
    "    Args:\n",
    "        env     (GridWorld)      : an instance of GridWorld, which describes the whole environment\n",
    "        actions (list(list(int))): each sub-list contains the possible actions for the corresponding state\n",
    "        v_opt   (np.array)       : a matrix of size (n_state,), which is used to evaluate the convergence speed.\n",
    "                                   If it is None (default), this metric will not be tracked.\n",
    "        epsilon (float)          : the probability for choosing actions randomly\n",
    "        gamma   (float)          : the discount factor\n",
    "        K       (int)            : the total number of episoids\n",
    "        T_max   (int)            : the maximum time we move in each episoid\n",
    "        a       (float)          : the learning rate\n",
    "    \n",
    "    Returns:\n",
    "        mat_q          (np.array)   : a matrix of size (n_states, n_actions)\n",
    "        reward_history (list(float)): the accumulated rewards for each episoid\n",
    "        loss_history   (list(float)): the infinity norm of the difference between the optimal V \n",
    "                                      and the V we learnt in each episoid.\n",
    "                                      If the optimal is not provided, loss_history is None.\n",
    "    \"\"\"\n",
    "    \n",
    "    mat_q = np.zeros((env.n_states, len(env.action_names)))\n",
    "    mat_n = np.zeros((env.n_states, len(env.action_names)))\n",
    "    reward_history = [0]\n",
    "    loss_history = None if type(v_opt) == type(None) else []\n",
    "    \n",
    "    for k in range(K):\n",
    "        t = 0\n",
    "        accum_reward = reward_history[-1]\n",
    "        # choose the initial state randomly\n",
    "        s1 = env.reset()\n",
    "        coord = env.state2coord[s1]\n",
    "        # iteration for each episoid\n",
    "        while type(env.grid[coord[0]][coord[1]]) != int and t < T_max:\n",
    "            s0 = s1\n",
    "            # choose action by the defined strategy\n",
    "            if np.random.rand() < 1 - epsilon:\n",
    "                action = actions[s0][np.argmax(mat_q[s0, actions[s0]])]\n",
    "            else:\n",
    "                action = np.random.choice(actions[s0])\n",
    "            # move to the new state\n",
    "            s1, reward, absorb = env.step(s0, action)\n",
    "            # record the result\n",
    "            mat_n[s0, action] += 1\n",
    "            accum_reward += reward\n",
    "            delta = reward + gamma * mat_q[s1].max() - mat_q[s0, action]\n",
    "            mat_q[s0, action] += a / mat_n[s0, action] * delta\n",
    "            # stop condition\n",
    "            if absorb:\n",
    "                break\n",
    "            else:\n",
    "                coord = env.state2coord[s1]\n",
    "                t += 1\n",
    "        # record infinity norm        \n",
    "        if type(v_opt) != type(None):        \n",
    "            loss_history.append(np.max(np.abs(v_opt - mat_q.max(1))))\n",
    "        # record accumulated reward\n",
    "        reward_history.append(accum_reward)\n",
    "    \n",
    "    return mat_q, reward_history, loss_history"
   ]
  },
  {
   "cell_type": "code",
   "execution_count": 23,
   "metadata": {},
   "outputs": [],
   "source": [
    "def plot_qlearning(reward_history, loss_history, x_data = None, xlabel = \"Iter\", x_title = \"Number of iteration\"):\n",
    "    \"\"\"The plot function for the two metrics for q-learning algorithm.\n",
    "    \n",
    "    Args:\n",
    "        reward_history (list(float))           : the accumulated reward for each x\n",
    "        loss_history   (list(float))           : the infinity norm for each x\n",
    "        x_data         (np.array / list(float)): the data for x axis. If it is None, the x data is\n",
    "                                                 [0, 1, ..., len(reward_history)]\n",
    "        xlabel         (str)                   : the name for x axis\n",
    "        x_title        (str)                   : the name for completing the figure title\n",
    "    \"\"\" \n",
    "    plt.figure(figsize = (12, 5))\n",
    "    plt.subplot(1, 2, 1)\n",
    "    plt.plot(reward_history) if type(x_data) == type(None) else plt.plot(x_data, reward_history)\n",
    "    plt.xlabel(xlabel)\n",
    "    plt.ylabel(\"Accumulated Reward\")\n",
    "    plt.title(\"Accumulated Reward w.r.t. \" + x_title)\n",
    "    plt.grid()\n",
    "    \n",
    "    plt.subplot(1, 2, 2)\n",
    "    plt.plot(loss_history) if type(x_data) == type(None) else plt.plot(x_data, loss_history)\n",
    "    plt.xlabel(xlabel)\n",
    "    plt.ylabel(\"|v^* - v^pi|_{inf}\")\n",
    "    plt.title(\"Infinity norm w.r.t. \" + x_title)\n",
    "    plt.grid()\n",
    "    \n",
    "    plt.show()"
   ]
  },
  {
   "cell_type": "code",
   "execution_count": 24,
   "metadata": {},
   "outputs": [],
   "source": [
    "v_opt = np.array([0.87691855, 0.92820033, 0.98817903, 0.00000000, 0.82369294, 0.92820033, 0.00000000, 0.77818504, 0.82369294,\n",
    "         0.87691855, 0.82847001])"
   ]
  },
  {
   "cell_type": "markdown",
   "metadata": {},
   "source": [
    "Observe the influence of $\\epsilon$"
   ]
  },
  {
   "cell_type": "code",
   "execution_count": 53,
   "metadata": {},
   "outputs": [],
   "source": [
    "lepsilon = np.arange(0.01, 0.9, 0.05)\n",
    "lreward, lloss = [], []\n",
    "\n",
    "for epsilon in lepsilon:\n",
    "    my_matq, reward_history, loss_history = q_learning(my_env, my_env.state_actions, v_opt = v_opt, K = 10000, epsilon = epsilon)\n",
    "    lreward.append(reward_history[-1])\n",
    "    lloss.append(loss_history[-1])"
   ]
  },
  {
   "cell_type": "code",
   "execution_count": 54,
   "metadata": {},
   "outputs": [
    {
     "data": {
      "image/png": "[encoded data removed]",
      "text/plain": [
       "<Figure size 864x360 with 2 Axes>"
      ]
     },
     "metadata": {
      "needs_background": "light"
     },
     "output_type": "display_data"
    }
   ],
   "source": [
    "plot_qlearning(lreward, lloss, lepsilon, \"epsilon\", \"Epsilon\")"
   ]
  },
  {
   "cell_type": "code",
   "execution_count": 55,
   "metadata": {},
   "outputs": [
    {
     "name": "stdout",
     "output_type": "stream",
     "text": [
      "The highest accumulated reward : epsilon equals to 0.010000\n",
      "The lowest infinity norm       : epsilon equals to 0.810000\n"
     ]
    }
   ],
   "source": [
    "print(\"The highest accumulated reward : epsilon equals to %f\" % lepsilon[lreward.index(max(lreward))])\n",
    "print(\"The lowest infinity norm       : epsilon equals to %f\" % lepsilon[lloss.index(min(lloss))])"
   ]
  },
  {
   "cell_type": "markdown",
   "metadata": {},
   "source": [
    "Observe the influence of the learning rate strategy."
   ]
  },
  {
   "cell_type": "code",
   "execution_count": 46,
   "metadata": {},
   "outputs": [],
   "source": [
    "la = np.arange(0.5, 5, 0.5)\n",
    "lreward, lloss = [], []\n",
    "\n",
    "for a in la:\n",
    "    my_matq, reward_history, loss_history = q_learning(my_env, my_env.state_actions, v_opt = v_opt, K = 10000, epsilon = 0.1, a = a)\n",
    "    lreward.append(reward_history[-1])\n",
    "    lloss.append(loss_history[-1])"
   ]
  },
  {
   "cell_type": "code",
   "execution_count": 47,
   "metadata": {},
   "outputs": [
    {
     "data": {
      "image/png": "[encoded data removed]",
      "text/plain": [
       "<Figure size 864x360 with 2 Axes>"
      ]
     },
     "metadata": {
      "needs_background": "light"
     },
     "output_type": "display_data"
    }
   ],
   "source": [
    "plot_qlearning(lreward, lloss, la, \"lr\", \"Learning Rate\")"
   ]
  },
  {
   "cell_type": "code",
   "execution_count": 48,
   "metadata": {},
   "outputs": [
    {
     "name": "stdout",
     "output_type": "stream",
     "text": [
      "The highest accumulated reward : epsilon equals to 2.000000\n",
      "The lowest infinity norm       : epsilon equals to 3.500000\n"
     ]
    }
   ],
   "source": [
    "print(\"The highest accumulated reward : epsilon equals to %f\" % la[lreward.index(max(lreward))])\n",
    "print(\"The lowest infinity norm       : epsilon equals to %f\" % la[lloss.index(min(lloss))])"
   ]
  },
  {
   "cell_type": "markdown",
   "metadata": {},
   "source": [
    "For the final model, we choose the parameters as below:\n",
    "\n",
    "* $\\epsilon = 0.1$\n",
    "* Learning rate $\\alpha_i (x_t, a_t) = \\cfrac{2.}{\\mbox{The time we visited the pair}}$\n",
    "* $K = 100000$\n",
    "\n",
    "And we visualize the speed of the convergence."
   ]
  },
  {
   "cell_type": "code",
   "execution_count": 66,
   "metadata": {},
   "outputs": [],
   "source": [
    "my_matq, reward_history, loss_history = q_learning(my_env, my_env.state_actions, v_opt = v_opt, K = 100000, epsilon = 0.1, a = 2)"
   ]
  },
  {
   "cell_type": "code",
   "execution_count": 67,
   "metadata": {},
   "outputs": [
    {
     "data": {
      "image/png": "[encoded data removed]",
      "text/plain": [
       "<Figure size 864x360 with 2 Axes>"
      ]
     },
     "metadata": {
      "needs_background": "light"
     },
     "output_type": "display_data"
    }
   ],
   "source": [
    "plot_qlearning(reward_history, loss_history)"
   ]
  },
  {
   "cell_type": "code",
   "execution_count": 68,
   "metadata": {},
   "outputs": [],
   "source": [
    "gui.render_q(my_env, my_matq)"
   ]
  }
 ],
 "metadata": {
  "kernelspec": {
   "display_name": "Python 3",
   "language": "python",
   "name": "python3"
  },
  "language_info": {
   "codemirror_mode": {
    "name": "ipython",
    "version": 3
   },
   "file_extension": ".py",
   "mimetype": "text/x-python",
   "name": "python",
   "nbconvert_exporter": "python",
   "pygments_lexer": "ipython3",
   "version": "3.7.1"
  }
 },
 "nbformat": 4,
 "nbformat_minor": 2
}
