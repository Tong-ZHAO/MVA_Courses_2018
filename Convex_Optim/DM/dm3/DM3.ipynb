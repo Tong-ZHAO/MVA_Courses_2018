{
 "cells": [
  {
   "cell_type": "code",
   "execution_count": 1,
   "metadata": {},
   "outputs": [],
   "source": [
    "import numpy as np\n",
    "import matplotlib.pyplot as plt"
   ]
  },
  {
   "cell_type": "markdown",
   "metadata": {},
   "source": [
    "We use the barrier method to solve the following QP.\n",
    "\n",
    "\\begin{align}\n",
    "\\min_v & &v^T Q v + p^T v \\\\\n",
    "s.t. &\\ &Av \\preceq b\n",
    "\\end{align}\n",
    "\n",
    "in variable $v \\in \\mathbb{R}^n$, where $Q \\succeq 0$"
   ]
  },
  {
   "cell_type": "code",
   "execution_count": 12,
   "metadata": {},
   "outputs": [],
   "source": [
    "def centering_step(Q, p, A, b, t, v0, eps, max_iter = 100):\n",
    "    \"\"\"This function implements the centering step for the barrier method.\n",
    "    \n",
    "    We compute x*(t) by minimizing tf0 + phi. The x*(t) is calculated by using Newton method\n",
    "    \n",
    "    Params:\n",
    "        Q    (np.array): a matrix of size nxn, which defines the problem\n",
    "        p    (np.array): a matrix of size nx1, which defines the problem\n",
    "        A    (np.array): a matrix of size dxn, which defines the problem\n",
    "        b    (float)   : defines the problem\n",
    "        \n",
    "        t    (float)   : optimization parameter, which will be updated after each iteration\n",
    "        v0   (np.array): a matrix of size nx1, which is the initialization for v\n",
    "        esp  (float)   : target precision\n",
    "    \"\"\"\n",
    "    \n",
    "    v = v0\n",
    "    v0 = np.zeros_like(v)\n",
    "    i = 0\n",
    "    \n",
    "    while i < max_iter and np.linalg.norm(v - v0) > eps:\n",
    "        v0 = v\n",
    "        # b - Av\n",
    "        residu = (b - np.dot(A, v0)).reshape((-1, 1))\n",
    "        # L(v)\n",
    "        fv = ((2 * np.dot(Q, v) + p) + (A / residu)).sum(1).reshape((-1, 1))\n",
    "        # Jac(L(v))\n",
    "        J = 2 * t * Q - (np.dot(A.T, A)[:, :, np.newaxis] / residu.reshape((1, 1, -1))).sum(2)\n",
    "        # v_new = v - Jn v'\n",
    "        v = v0 - np.dot(np.dot(np.linalg.inv(np.dot(J.T, J)), J.T), fv)\n",
    "        i = i + 1\n",
    "        \n",
    "    return v      "
   ]
  },
  {
   "cell_type": "code",
   "execution_count": 13,
   "metadata": {},
   "outputs": [],
   "source": [
    "def barr_method(Q, p, A, b, v0, eps, max_iter = 1000):\n",
    "    \"\"\"This function implements the barrier method for a QP problem.\n",
    "    \n",
    "    Params:\n",
    "        Q    (np.array): a matrix of size nxn, which defines the problem\n",
    "        p    (np.array): a matrix of size nx1, which defines the problem\n",
    "        A    (np.array): a matrix of size dxn, which defines the problem\n",
    "        b    (float)   : defines the problem\n",
    "        \n",
    "        v0   (np.array): a matrix of size nx1, which is the initialization for v\n",
    "        esp  (float)   : target precision\n",
    "    \"\"\"\n",
    "    \n",
    "    t, i, mu, m = 1, 0, 2, A.shape[0]\n",
    "    \n",
    "    while i < max_iter:\n",
    "        \n",
    "        v0 = centering_step(Q, p, A, b, t, v0, eps)\n",
    "        if (m / t) < eps:\n",
    "            break\n",
    "        else:\n",
    "            t = mu * t\n",
    "            \n",
    "    return v0"
   ]
  },
  {
   "cell_type": "code",
   "execution_count": 16,
   "metadata": {},
   "outputs": [],
   "source": [
    "from sklearn.datasets import load_boston"
   ]
  },
  {
   "cell_type": "code",
   "execution_count": 22,
   "metadata": {},
   "outputs": [],
   "source": [
    "boston = load_boston()\n",
    "X, Y, class_names = boston[\"data\"], boston[\"target\"], boston[\"feature_names\"]"
   ]
  },
  {
   "cell_type": "code",
   "execution_count": null,
   "metadata": {},
   "outputs": [],
   "source": []
  }
 ],
 "metadata": {
  "kernelspec": {
   "display_name": "Python 3",
   "language": "python",
   "name": "python3"
  },
  "language_info": {
   "codemirror_mode": {
    "name": "ipython",
    "version": 3
   },
   "file_extension": ".py",
   "mimetype": "text/x-python",
   "name": "python",
   "nbconvert_exporter": "python",
   "pygments_lexer": "ipython3",
   "version": "3.7.0"
  }
 },
 "nbformat": 4,
 "nbformat_minor": 2
}
