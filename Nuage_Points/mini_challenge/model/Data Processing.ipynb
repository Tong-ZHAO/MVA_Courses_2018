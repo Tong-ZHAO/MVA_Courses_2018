{
 "cells": [
  {
   "cell_type": "code",
   "execution_count": 1,
   "metadata": {},
   "outputs": [],
   "source": [
    "import numpy as np\n",
    "import pandas as pd\n",
    "\n",
    "import matplotlib.pyplot as plt\n",
    "from matplotlib import colors\n",
    "\n",
    "from plyfile import PlyData, PlyElement\n",
    "\n",
    "from sklearn.model_selection import KFold\n",
    "\n",
    "import lightgbm as lgb"
   ]
  },
  {
   "cell_type": "code",
   "execution_count": 2,
   "metadata": {},
   "outputs": [],
   "source": [
    "def read_ply(file_name):\n",
    "    \n",
    "    plydata = PlyData.read(file_name)\n",
    "    \n",
    "    num_features = len(plydata.elements[0].properties)\n",
    "    name_features = [plydata.elements[0].properties[i].name for i in range(num_features)]\n",
    "    \n",
    "    df = pd.DataFrame(columns = name_features)\n",
    "    for name in name_features:\n",
    "        df[name] = plydata.elements[0].data[name]\n",
    "        \n",
    "    return df"
   ]
  },
  {
   "cell_type": "code",
   "execution_count": 3,
   "metadata": {},
   "outputs": [],
   "source": [
    "def plot_histogram(x, title = 'Hist'):\n",
    "    \n",
    "    fig, axs = plt.subplots(1, 1)\n",
    "    axs.set_title(title)\n",
    "\n",
    "    # N is the count in each bin, bins is the lower-limit of the bin\n",
    "    N, bins, patches = axs.hist(x, bins = 7, align = 'mid', rwidth = 0.5)\n",
    "\n",
    "    # We'll color code by height, but you could use any scalar\n",
    "    fracs = N / N.max()\n",
    "\n",
    "    # we need to normalize the data to 0..1 for the full range of the colormap\n",
    "    norm = colors.Normalize(fracs.min(), fracs.max())\n",
    "\n",
    "    # Now, we'll loop through our objects and set the color of each accordingly\n",
    "    for thisfrac, thispatch in zip(fracs, patches):\n",
    "        color = plt.cm.viridis(norm(thisfrac))\n",
    "        thispatch.set_facecolor(color)\n",
    "        \n",
    "    plt.grid()\n",
    "    plt.show()"
   ]
  },
  {
   "cell_type": "code",
   "execution_count": 4,
   "metadata": {},
   "outputs": [],
   "source": [
    "dict_labels = { 0: 'unclassified',\n",
    "                1: 'ground',\n",
    "                2: 'buildings',\n",
    "                3: 'poles',\n",
    "                4: 'pedestrians',\n",
    "                5: 'cars',\n",
    "                6: 'vegetation'}"
   ]
  },
  {
   "cell_type": "code",
   "execution_count": 5,
   "metadata": {},
   "outputs": [],
   "source": [
    "df_lille_1 = read_ply('../Benchmark_MVA/training/MiniLille1_fd.ply')"
   ]
  },
  {
   "cell_type": "code",
   "execution_count": 6,
   "metadata": {},
   "outputs": [
    {
     "data": {
      "image/png": "[encoded data removed]",
      "text/plain": [
       "<Figure size 432x288 with 1 Axes>"
      ]
     },
     "metadata": {
      "needs_background": "light"
     },
     "output_type": "display_data"
    }
   ],
   "source": [
    "plot_histogram(df_lille_1['class'], \"Label Distribution\")"
   ]
  },
  {
   "cell_type": "code",
   "execution_count": 17,
   "metadata": {},
   "outputs": [],
   "source": [
    "df_lille_2 = read_ply('../Benchmark_MVA/training/MiniLille2_fd.ply')"
   ]
  },
  {
   "cell_type": "code",
   "execution_count": 18,
   "metadata": {},
   "outputs": [
    {
     "data": {
      "image/png": "[encoded data removed]",
      "text/plain": [
       "<Figure size 432x288 with 1 Axes>"
      ]
     },
     "metadata": {
      "needs_background": "light"
     },
     "output_type": "display_data"
    }
   ],
   "source": [
    "plot_histogram(df_lille_2['class'], \"Label Distribution\")"
   ]
  },
  {
   "cell_type": "code",
   "execution_count": 19,
   "metadata": {},
   "outputs": [],
   "source": [
    "df_paris_1 = read_ply('../Benchmark_MVA/training/MiniParis1_fd.ply')"
   ]
  },
  {
   "cell_type": "code",
   "execution_count": 20,
   "metadata": {},
   "outputs": [
    {
     "data": {
      "image/png": "[encoded data removed]",
      "text/plain": [
       "<Figure size 432x288 with 1 Axes>"
      ]
     },
     "metadata": {
      "needs_background": "light"
     },
     "output_type": "display_data"
    }
   ],
   "source": [
    "plot_histogram(df_paris_1['class'], \"Label Distribution\")"
   ]
  },
  {
   "cell_type": "code",
   "execution_count": 21,
   "metadata": {},
   "outputs": [],
   "source": [
    "df = pd.concat([df_lille_1, df_lille_2, df_paris_1]).reset_index(drop = True)"
   ]
  },
  {
   "cell_type": "code",
   "execution_count": 22,
   "metadata": {},
   "outputs": [],
   "source": [
    "df.to_csv(\"all_data.csv\", index = False, header = True)"
   ]
  },
  {
   "cell_type": "code",
   "execution_count": 5,
   "metadata": {},
   "outputs": [],
   "source": [
    "df = pd.read_csv(\"all_data.csv\")"
   ]
  },
  {
   "cell_type": "code",
   "execution_count": 6,
   "metadata": {},
   "outputs": [],
   "source": [
    "df = df[df['class'] != 0]"
   ]
  },
  {
   "cell_type": "code",
   "execution_count": 7,
   "metadata": {},
   "outputs": [
    {
     "data": {
      "text/plain": [
       "(array([1, 2, 3, 4, 5, 6]),\n",
       " array([3052023, 2937473,   43413,  136578,  260837, 1716521]))"
      ]
     },
     "execution_count": 7,
     "metadata": {},
     "output_type": "execute_result"
    }
   ],
   "source": [
    "np.unique(df[\"class\"], return_counts = True)"
   ]
  },
  {
   "cell_type": "markdown",
   "metadata": {},
   "source": [
    "# Data Split"
   ]
  },
  {
   "cell_type": "code",
   "execution_count": 11,
   "metadata": {},
   "outputs": [],
   "source": [
    "X = df.iloc[:, 4:].values\n",
    "Y = df.iloc[:, 3].values - 1"
   ]
  },
  {
   "cell_type": "code",
   "execution_count": 10,
   "metadata": {},
   "outputs": [],
   "source": [
    "kf = KFold(n_splits = 2)"
   ]
  },
  {
   "cell_type": "code",
   "execution_count": 11,
   "metadata": {},
   "outputs": [
    {
     "data": {
      "text/plain": [
       "2"
      ]
     },
     "execution_count": 11,
     "metadata": {},
     "output_type": "execute_result"
    }
   ],
   "source": [
    "kf.get_n_splits(X)"
   ]
  },
  {
   "cell_type": "code",
   "execution_count": 14,
   "metadata": {},
   "outputs": [
    {
     "name": "stdout",
     "output_type": "stream",
     "text": [
      "[1]\tvalid_0's multi_logloss: 1.48639\tvalid_0's multi_error: 0.94852\n",
      "Training until validation scores don't improve for 5 rounds.\n",
      "[2]\tvalid_0's multi_logloss: 1.41413\tvalid_0's multi_error: 0.546863\n",
      "[3]\tvalid_0's multi_logloss: 1.35177\tvalid_0's multi_error: 0.330933\n",
      "[4]\tvalid_0's multi_logloss: 1.29563\tvalid_0's multi_error: 0.268306\n",
      "[5]\tvalid_0's multi_logloss: 1.24436\tvalid_0's multi_error: 0.229489\n",
      "[6]\tvalid_0's multi_logloss: 1.19802\tvalid_0's multi_error: 0.214848\n",
      "[7]\tvalid_0's multi_logloss: 1.15541\tvalid_0's multi_error: 0.204775\n",
      "[8]\tvalid_0's multi_logloss: 1.11648\tvalid_0's multi_error: 0.198323\n",
      "[9]\tvalid_0's multi_logloss: 1.081\tvalid_0's multi_error: 0.190417\n",
      "[10]\tvalid_0's multi_logloss: 1.04777\tvalid_0's multi_error: 0.185328\n",
      "[11]\tvalid_0's multi_logloss: 1.01608\tvalid_0's multi_error: 0.180877\n",
      "[12]\tvalid_0's multi_logloss: 0.986676\tvalid_0's multi_error: 0.17779\n",
      "[13]\tvalid_0's multi_logloss: 0.959648\tvalid_0's multi_error: 0.174249\n",
      "[14]\tvalid_0's multi_logloss: 0.933992\tvalid_0's multi_error: 0.172278\n",
      "[15]\tvalid_0's multi_logloss: 0.910591\tvalid_0's multi_error: 0.170718\n",
      "[16]\tvalid_0's multi_logloss: 0.887611\tvalid_0's multi_error: 0.170023\n",
      "[17]\tvalid_0's multi_logloss: 0.866662\tvalid_0's multi_error: 0.168831\n",
      "[18]\tvalid_0's multi_logloss: 0.847357\tvalid_0's multi_error: 0.168897\n",
      "[19]\tvalid_0's multi_logloss: 0.828981\tvalid_0's multi_error: 0.168522\n",
      "[20]\tvalid_0's multi_logloss: 0.811617\tvalid_0's multi_error: 0.168164\n",
      "[21]\tvalid_0's multi_logloss: 0.795776\tvalid_0's multi_error: 0.167957\n",
      "[22]\tvalid_0's multi_logloss: 0.780551\tvalid_0's multi_error: 0.167402\n",
      "[23]\tvalid_0's multi_logloss: 0.765579\tvalid_0's multi_error: 0.16728\n",
      "[24]\tvalid_0's multi_logloss: 0.752684\tvalid_0's multi_error: 0.167412\n",
      "[25]\tvalid_0's multi_logloss: 0.740229\tvalid_0's multi_error: 0.167459\n",
      "[26]\tvalid_0's multi_logloss: 0.728513\tvalid_0's multi_error: 0.167464\n",
      "[27]\tvalid_0's multi_logloss: 0.717005\tvalid_0's multi_error: 0.167263\n",
      "[28]\tvalid_0's multi_logloss: 0.706618\tvalid_0's multi_error: 0.167302\n",
      "[29]\tvalid_0's multi_logloss: 0.694911\tvalid_0's multi_error: 0.167066\n",
      "[30]\tvalid_0's multi_logloss: 0.685616\tvalid_0's multi_error: 0.167089\n",
      "[31]\tvalid_0's multi_logloss: 0.676371\tvalid_0's multi_error: 0.166871\n",
      "[32]\tvalid_0's multi_logloss: 0.667998\tvalid_0's multi_error: 0.166835\n",
      "[33]\tvalid_0's multi_logloss: 0.659954\tvalid_0's multi_error: 0.166482\n",
      "[34]\tvalid_0's multi_logloss: 0.652488\tvalid_0's multi_error: 0.166689\n",
      "[35]\tvalid_0's multi_logloss: 0.645398\tvalid_0's multi_error: 0.166677\n",
      "[36]\tvalid_0's multi_logloss: 0.638525\tvalid_0's multi_error: 0.166491\n",
      "[37]\tvalid_0's multi_logloss: 0.631801\tvalid_0's multi_error: 0.16614\n",
      "[38]\tvalid_0's multi_logloss: 0.625586\tvalid_0's multi_error: 0.165943\n",
      "[39]\tvalid_0's multi_logloss: 0.619605\tvalid_0's multi_error: 0.166201\n",
      "[40]\tvalid_0's multi_logloss: 0.614459\tvalid_0's multi_error: 0.166159\n",
      "[41]\tvalid_0's multi_logloss: 0.609508\tvalid_0's multi_error: 0.165982\n",
      "[42]\tvalid_0's multi_logloss: 0.60405\tvalid_0's multi_error: 0.165901\n",
      "[43]\tvalid_0's multi_logloss: 0.599226\tvalid_0's multi_error: 0.165784\n",
      "[44]\tvalid_0's multi_logloss: 0.594892\tvalid_0's multi_error: 0.165723\n",
      "[45]\tvalid_0's multi_logloss: 0.591078\tvalid_0's multi_error: 0.165813\n",
      "[46]\tvalid_0's multi_logloss: 0.587129\tvalid_0's multi_error: 0.165695\n",
      "[47]\tvalid_0's multi_logloss: 0.583117\tvalid_0's multi_error: 0.165488\n",
      "[48]\tvalid_0's multi_logloss: 0.579536\tvalid_0's multi_error: 0.165249\n",
      "[49]\tvalid_0's multi_logloss: 0.576275\tvalid_0's multi_error: 0.165221\n",
      "[50]\tvalid_0's multi_logloss: 0.573118\tvalid_0's multi_error: 0.16506\n",
      "[51]\tvalid_0's multi_logloss: 0.570056\tvalid_0's multi_error: 0.165041\n",
      "[52]\tvalid_0's multi_logloss: 0.566969\tvalid_0's multi_error: 0.164857\n",
      "[53]\tvalid_0's multi_logloss: 0.564322\tvalid_0's multi_error: 0.164935\n",
      "[54]\tvalid_0's multi_logloss: 0.562153\tvalid_0's multi_error: 0.165061\n",
      "[55]\tvalid_0's multi_logloss: 0.559762\tvalid_0's multi_error: 0.165158\n",
      "[56]\tvalid_0's multi_logloss: 0.557499\tvalid_0's multi_error: 0.165107\n",
      "[57]\tvalid_0's multi_logloss: 0.555478\tvalid_0's multi_error: 0.16495\n",
      "Early stopping, best iteration is:\n",
      "[52]\tvalid_0's multi_logloss: 0.566969\tvalid_0's multi_error: 0.164857\n",
      "0.8351431975331713\n",
      "[1]\tvalid_0's multi_logloss: 1.78659\tvalid_0's multi_error: 0.463463\n",
      "Training until validation scores don't improve for 5 rounds.\n",
      "[2]\tvalid_0's multi_logloss: 1.70464\tvalid_0's multi_error: 0.458014\n",
      "[3]\tvalid_0's multi_logloss: 1.63299\tvalid_0's multi_error: 0.455975\n",
      "[4]\tvalid_0's multi_logloss: 1.57102\tvalid_0's multi_error: 0.455538\n",
      "[5]\tvalid_0's multi_logloss: 1.51511\tvalid_0's multi_error: 0.454712\n",
      "[6]\tvalid_0's multi_logloss: 1.46412\tvalid_0's multi_error: 0.454516\n",
      "[7]\tvalid_0's multi_logloss: 1.41985\tvalid_0's multi_error: 0.454385\n",
      "[8]\tvalid_0's multi_logloss: 1.3783\tvalid_0's multi_error: 0.453978\n",
      "[9]\tvalid_0's multi_logloss: 1.34125\tvalid_0's multi_error: 0.453559\n",
      "[10]\tvalid_0's multi_logloss: 1.30528\tvalid_0's multi_error: 0.453425\n",
      "[11]\tvalid_0's multi_logloss: 1.27377\tvalid_0's multi_error: 0.447769\n",
      "[12]\tvalid_0's multi_logloss: 1.24371\tvalid_0's multi_error: 0.441723\n",
      "[13]\tvalid_0's multi_logloss: 1.21596\tvalid_0's multi_error: 0.434411\n",
      "[14]\tvalid_0's multi_logloss: 1.18969\tvalid_0's multi_error: 0.415176\n",
      "[15]\tvalid_0's multi_logloss: 1.16636\tvalid_0's multi_error: 0.399612\n",
      "[16]\tvalid_0's multi_logloss: 1.14378\tvalid_0's multi_error: 0.387577\n",
      "[17]\tvalid_0's multi_logloss: 1.12226\tvalid_0's multi_error: 0.376527\n",
      "[18]\tvalid_0's multi_logloss: 1.10216\tvalid_0's multi_error: 0.367159\n",
      "[19]\tvalid_0's multi_logloss: 1.08395\tvalid_0's multi_error: 0.356862\n",
      "[20]\tvalid_0's multi_logloss: 1.06604\tvalid_0's multi_error: 0.345673\n",
      "[21]\tvalid_0's multi_logloss: 1.05013\tvalid_0's multi_error: 0.337334\n",
      "[22]\tvalid_0's multi_logloss: 1.03522\tvalid_0's multi_error: 0.330694\n",
      "[23]\tvalid_0's multi_logloss: 1.02187\tvalid_0's multi_error: 0.325322\n",
      "[24]\tvalid_0's multi_logloss: 1.00749\tvalid_0's multi_error: 0.319187\n",
      "[25]\tvalid_0's multi_logloss: 0.995574\tvalid_0's multi_error: 0.315426\n",
      "[26]\tvalid_0's multi_logloss: 0.984444\tvalid_0's multi_error: 0.311651\n",
      "[27]\tvalid_0's multi_logloss: 0.973005\tvalid_0's multi_error: 0.306952\n",
      "[28]\tvalid_0's multi_logloss: 0.962275\tvalid_0's multi_error: 0.302916\n",
      "[29]\tvalid_0's multi_logloss: 0.951741\tvalid_0's multi_error: 0.299316\n",
      "[30]\tvalid_0's multi_logloss: 0.941663\tvalid_0's multi_error: 0.296123\n",
      "[31]\tvalid_0's multi_logloss: 0.931715\tvalid_0's multi_error: 0.292939\n",
      "[32]\tvalid_0's multi_logloss: 0.921984\tvalid_0's multi_error: 0.289898\n",
      "[33]\tvalid_0's multi_logloss: 0.913622\tvalid_0's multi_error: 0.287711\n",
      "[34]\tvalid_0's multi_logloss: 0.905239\tvalid_0's multi_error: 0.285705\n",
      "[35]\tvalid_0's multi_logloss: 0.897206\tvalid_0's multi_error: 0.283536\n",
      "[36]\tvalid_0's multi_logloss: 0.889198\tvalid_0's multi_error: 0.2816\n",
      "[37]\tvalid_0's multi_logloss: 0.881576\tvalid_0's multi_error: 0.279735\n"
     ]
    },
    {
     "ename": "KeyboardInterrupt",
     "evalue": "",
     "output_type": "error",
     "traceback": [
      "\u001b[0;31m---------------------------------------------------------------------------\u001b[0m",
      "\u001b[0;31mKeyboardInterrupt\u001b[0m                         Traceback (most recent call last)",
      "\u001b[0;32m<ipython-input-14-c35cd95eb4ea>\u001b[0m in \u001b[0;36m<module>\u001b[0;34m\u001b[0m\n\u001b[1;32m     21\u001b[0m                     \u001b[0mnum_boost_round\u001b[0m \u001b[0;34m=\u001b[0m \u001b[0;36m200\u001b[0m\u001b[0;34m,\u001b[0m\u001b[0;34m\u001b[0m\u001b[0;34m\u001b[0m\u001b[0m\n\u001b[1;32m     22\u001b[0m                     \u001b[0mvalid_sets\u001b[0m \u001b[0;34m=\u001b[0m \u001b[0mlgb_eval\u001b[0m\u001b[0;34m,\u001b[0m\u001b[0;34m\u001b[0m\u001b[0;34m\u001b[0m\u001b[0m\n\u001b[0;32m---> 23\u001b[0;31m                     early_stopping_rounds = 5)\n\u001b[0m\u001b[1;32m     24\u001b[0m \u001b[0;34m\u001b[0m\u001b[0m\n\u001b[1;32m     25\u001b[0m     \u001b[0my_hat\u001b[0m \u001b[0;34m=\u001b[0m \u001b[0mgbm\u001b[0m\u001b[0;34m.\u001b[0m\u001b[0mpredict\u001b[0m\u001b[0;34m(\u001b[0m\u001b[0mX\u001b[0m\u001b[0;34m[\u001b[0m\u001b[0mtest_index\u001b[0m\u001b[0;34m]\u001b[0m\u001b[0;34m)\u001b[0m\u001b[0;34m\u001b[0m\u001b[0;34m\u001b[0m\u001b[0m\n",
      "\u001b[0;32m~/anaconda3/envs/challenge/lib/python3.6/site-packages/lightgbm/engine.py\u001b[0m in \u001b[0;36mtrain\u001b[0;34m(params, train_set, num_boost_round, valid_sets, valid_names, fobj, feval, init_model, feature_name, categorical_feature, early_stopping_rounds, evals_result, verbose_eval, learning_rates, keep_training_booster, callbacks)\u001b[0m\n\u001b[1;32m    214\u001b[0m                                     evaluation_result_list=None))\n\u001b[1;32m    215\u001b[0m \u001b[0;34m\u001b[0m\u001b[0m\n\u001b[0;32m--> 216\u001b[0;31m         \u001b[0mbooster\u001b[0m\u001b[0;34m.\u001b[0m\u001b[0mupdate\u001b[0m\u001b[0;34m(\u001b[0m\u001b[0mfobj\u001b[0m\u001b[0;34m=\u001b[0m\u001b[0mfobj\u001b[0m\u001b[0;34m)\u001b[0m\u001b[0;34m\u001b[0m\u001b[0;34m\u001b[0m\u001b[0m\n\u001b[0m\u001b[1;32m    217\u001b[0m \u001b[0;34m\u001b[0m\u001b[0m\n\u001b[1;32m    218\u001b[0m         \u001b[0mevaluation_result_list\u001b[0m \u001b[0;34m=\u001b[0m \u001b[0;34m[\u001b[0m\u001b[0;34m]\u001b[0m\u001b[0;34m\u001b[0m\u001b[0;34m\u001b[0m\u001b[0m\n",
      "\u001b[0;32m~/anaconda3/envs/challenge/lib/python3.6/site-packages/lightgbm/basic.py\u001b[0m in \u001b[0;36mupdate\u001b[0;34m(self, train_set, fobj)\u001b[0m\n\u001b[1;32m   1758\u001b[0m             _safe_call(_LIB.LGBM_BoosterUpdateOneIter(\n\u001b[1;32m   1759\u001b[0m                 \u001b[0mself\u001b[0m\u001b[0;34m.\u001b[0m\u001b[0mhandle\u001b[0m\u001b[0;34m,\u001b[0m\u001b[0;34m\u001b[0m\u001b[0;34m\u001b[0m\u001b[0m\n\u001b[0;32m-> 1760\u001b[0;31m                 ctypes.byref(is_finished)))\n\u001b[0m\u001b[1;32m   1761\u001b[0m             \u001b[0mself\u001b[0m\u001b[0;34m.\u001b[0m\u001b[0m__is_predicted_cur_iter\u001b[0m \u001b[0;34m=\u001b[0m \u001b[0;34m[\u001b[0m\u001b[0;32mFalse\u001b[0m \u001b[0;32mfor\u001b[0m \u001b[0m_\u001b[0m \u001b[0;32min\u001b[0m \u001b[0mrange_\u001b[0m\u001b[0;34m(\u001b[0m\u001b[0mself\u001b[0m\u001b[0;34m.\u001b[0m\u001b[0m__num_dataset\u001b[0m\u001b[0;34m)\u001b[0m\u001b[0;34m]\u001b[0m\u001b[0;34m\u001b[0m\u001b[0;34m\u001b[0m\u001b[0m\n\u001b[1;32m   1762\u001b[0m             \u001b[0;32mreturn\u001b[0m \u001b[0mis_finished\u001b[0m\u001b[0;34m.\u001b[0m\u001b[0mvalue\u001b[0m \u001b[0;34m==\u001b[0m \u001b[0;36m1\u001b[0m\u001b[0;34m\u001b[0m\u001b[0;34m\u001b[0m\u001b[0m\n",
      "\u001b[0;31mKeyboardInterrupt\u001b[0m: "
     ]
    }
   ],
   "source": [
    "for train_index, test_index in kf.split(X):\n",
    "    \n",
    "    lgb_train = lgb.Dataset(X[train_index], Y[train_index])\n",
    "    lgb_eval = lgb.Dataset(X[test_index], Y[test_index], reference = lgb_train)\n",
    "    \n",
    "    params = {\n",
    "        'boosting_type': 'gbdt',\n",
    "        'objective': 'multiclass',\n",
    "        'metric': ['multi_error', 'multi_logloss'],\n",
    "        'num_class': 7,\n",
    "        'num_leaves': 25,\n",
    "        'learning_rate': 0.05,\n",
    "        'feature_fraction': 0.9,\n",
    "        'bagging_fraction': 0.8,\n",
    "        'bagging_freq': 5,\n",
    "        'verbose': 0\n",
    "    }\n",
    "    \n",
    "    gbm = lgb.train(params,\n",
    "                    lgb_train,\n",
    "                    num_boost_round = 200,\n",
    "                    valid_sets = lgb_eval,\n",
    "                    early_stopping_rounds = 5)\n",
    "    \n",
    "    y_hat = gbm.predict(X[test_index])\n",
    "    print((y_hat.argmax(1) == Y[test_index]).sum() / len(Y[test_index]))"
   ]
  },
  {
   "cell_type": "code",
   "execution_count": 12,
   "metadata": {},
   "outputs": [
    {
     "name": "stdout",
     "output_type": "stream",
     "text": [
      "[1]\tvalid_0's multi_logloss: 1.2892\tvalid_0's multi_error: 0.159296\n",
      "Training until validation scores don't improve for 200 rounds.\n",
      "[2]\tvalid_0's multi_logloss: 1.22179\tvalid_0's multi_error: 0.141228\n",
      "[3]\tvalid_0's multi_logloss: 1.16063\tvalid_0's multi_error: 0.139502\n",
      "[4]\tvalid_0's multi_logloss: 1.1071\tvalid_0's multi_error: 0.136487\n",
      "[5]\tvalid_0's multi_logloss: 1.05889\tvalid_0's multi_error: 0.136173\n",
      "[6]\tvalid_0's multi_logloss: 1.01455\tvalid_0's multi_error: 0.137273\n",
      "[7]\tvalid_0's multi_logloss: 0.974371\tvalid_0's multi_error: 0.137808\n",
      "[8]\tvalid_0's multi_logloss: 0.93648\tvalid_0's multi_error: 0.138559\n",
      "[9]\tvalid_0's multi_logloss: 0.900548\tvalid_0's multi_error: 0.137869\n",
      "[10]\tvalid_0's multi_logloss: 0.868102\tvalid_0's multi_error: 0.13769\n",
      "[11]\tvalid_0's multi_logloss: 0.837522\tvalid_0's multi_error: 0.136222\n",
      "[12]\tvalid_0's multi_logloss: 0.809528\tvalid_0's multi_error: 0.133988\n",
      "[13]\tvalid_0's multi_logloss: 0.782359\tvalid_0's multi_error: 0.13006\n",
      "[14]\tvalid_0's multi_logloss: 0.757419\tvalid_0's multi_error: 0.127186\n",
      "[15]\tvalid_0's multi_logloss: 0.733878\tvalid_0's multi_error: 0.12424\n",
      "[16]\tvalid_0's multi_logloss: 0.711683\tvalid_0's multi_error: 0.120893\n",
      "[17]\tvalid_0's multi_logloss: 0.690704\tvalid_0's multi_error: 0.11728\n",
      "[18]\tvalid_0's multi_logloss: 0.671068\tvalid_0's multi_error: 0.115218\n",
      "[19]\tvalid_0's multi_logloss: 0.651773\tvalid_0's multi_error: 0.113349\n",
      "[20]\tvalid_0's multi_logloss: 0.634034\tvalid_0's multi_error: 0.111756\n",
      "[21]\tvalid_0's multi_logloss: 0.617029\tvalid_0's multi_error: 0.11021\n",
      "[22]\tvalid_0's multi_logloss: 0.601186\tvalid_0's multi_error: 0.108864\n",
      "[23]\tvalid_0's multi_logloss: 0.586252\tvalid_0's multi_error: 0.10772\n",
      "[24]\tvalid_0's multi_logloss: 0.572394\tvalid_0's multi_error: 0.106694\n",
      "[25]\tvalid_0's multi_logloss: 0.558994\tvalid_0's multi_error: 0.105727\n",
      "[26]\tvalid_0's multi_logloss: 0.545977\tvalid_0's multi_error: 0.104968\n",
      "[27]\tvalid_0's multi_logloss: 0.53369\tvalid_0's multi_error: 0.104512\n",
      "[28]\tvalid_0's multi_logloss: 0.52229\tvalid_0's multi_error: 0.10421\n",
      "[29]\tvalid_0's multi_logloss: 0.51141\tvalid_0's multi_error: 0.103689\n",
      "[30]\tvalid_0's multi_logloss: 0.501029\tvalid_0's multi_error: 0.103247\n",
      "[31]\tvalid_0's multi_logloss: 0.491285\tvalid_0's multi_error: 0.102776\n",
      "[32]\tvalid_0's multi_logloss: 0.481961\tvalid_0's multi_error: 0.102342\n",
      "[33]\tvalid_0's multi_logloss: 0.473093\tvalid_0's multi_error: 0.101932\n",
      "[34]\tvalid_0's multi_logloss: 0.463602\tvalid_0's multi_error: 0.101701\n",
      "[35]\tvalid_0's multi_logloss: 0.455426\tvalid_0's multi_error: 0.101389\n",
      "[36]\tvalid_0's multi_logloss: 0.4476\tvalid_0's multi_error: 0.101092\n",
      "[37]\tvalid_0's multi_logloss: 0.440246\tvalid_0's multi_error: 0.100817\n",
      "[38]\tvalid_0's multi_logloss: 0.43317\tvalid_0's multi_error: 0.100572\n",
      "[39]\tvalid_0's multi_logloss: 0.426475\tvalid_0's multi_error: 0.100159\n",
      "[40]\tvalid_0's multi_logloss: 0.42011\tvalid_0's multi_error: 0.100002\n",
      "[41]\tvalid_0's multi_logloss: 0.413866\tvalid_0's multi_error: 0.0997074\n",
      "[42]\tvalid_0's multi_logloss: 0.408054\tvalid_0's multi_error: 0.0993391\n",
      "[43]\tvalid_0's multi_logloss: 0.402584\tvalid_0's multi_error: 0.0991526\n",
      "[44]\tvalid_0's multi_logloss: 0.396597\tvalid_0's multi_error: 0.0989341\n",
      "[45]\tvalid_0's multi_logloss: 0.391239\tvalid_0's multi_error: 0.09861\n",
      "[46]\tvalid_0's multi_logloss: 0.3854\tvalid_0's multi_error: 0.0983694\n",
      "[47]\tvalid_0's multi_logloss: 0.380638\tvalid_0's multi_error: 0.0981534\n",
      "[48]\tvalid_0's multi_logloss: 0.376077\tvalid_0's multi_error: 0.0979398\n",
      "[49]\tvalid_0's multi_logloss: 0.371539\tvalid_0's multi_error: 0.0976329\n",
      "[50]\tvalid_0's multi_logloss: 0.366235\tvalid_0's multi_error: 0.0973924\n",
      "[51]\tvalid_0's multi_logloss: 0.361756\tvalid_0's multi_error: 0.0972966\n",
      "[52]\tvalid_0's multi_logloss: 0.357552\tvalid_0's multi_error: 0.0970806\n",
      "[53]\tvalid_0's multi_logloss: 0.353794\tvalid_0's multi_error: 0.0968916\n",
      "[54]\tvalid_0's multi_logloss: 0.350024\tvalid_0's multi_error: 0.0966043\n",
      "[55]\tvalid_0's multi_logloss: 0.346406\tvalid_0's multi_error: 0.096349\n",
      "[56]\tvalid_0's multi_logloss: 0.342601\tvalid_0's multi_error: 0.0962189\n",
      "[57]\tvalid_0's multi_logloss: 0.339498\tvalid_0's multi_error: 0.0960741\n",
      "[58]\tvalid_0's multi_logloss: 0.335998\tvalid_0's multi_error: 0.0959341\n",
      "[59]\tvalid_0's multi_logloss: 0.332523\tvalid_0's multi_error: 0.0957647\n",
      "[60]\tvalid_0's multi_logloss: 0.329358\tvalid_0's multi_error: 0.0956371\n",
      "[61]\tvalid_0's multi_logloss: 0.326486\tvalid_0's multi_error: 0.0954014\n",
      "[62]\tvalid_0's multi_logloss: 0.323711\tvalid_0's multi_error: 0.0951805\n",
      "[63]\tvalid_0's multi_logloss: 0.32093\tvalid_0's multi_error: 0.0949841\n",
      "[64]\tvalid_0's multi_logloss: 0.318355\tvalid_0's multi_error: 0.094854\n",
      "[65]\tvalid_0's multi_logloss: 0.315895\tvalid_0's multi_error: 0.0946477\n",
      "[66]\tvalid_0's multi_logloss: 0.313454\tvalid_0's multi_error: 0.0944293\n",
      "[67]\tvalid_0's multi_logloss: 0.311159\tvalid_0's multi_error: 0.0943139\n",
      "[68]\tvalid_0's multi_logloss: 0.308871\tvalid_0's multi_error: 0.0941126\n",
      "[69]\tvalid_0's multi_logloss: 0.306404\tvalid_0's multi_error: 0.0939113\n",
      "[70]\tvalid_0's multi_logloss: 0.304277\tvalid_0's multi_error: 0.0937591\n",
      "[71]\tvalid_0's multi_logloss: 0.302233\tvalid_0's multi_error: 0.0935823\n",
      "[72]\tvalid_0's multi_logloss: 0.30029\tvalid_0's multi_error: 0.093435\n",
      "[73]\tvalid_0's multi_logloss: 0.298218\tvalid_0's multi_error: 0.0932214\n",
      "[74]\tvalid_0's multi_logloss: 0.296397\tvalid_0's multi_error: 0.093133\n",
      "[75]\tvalid_0's multi_logloss: 0.294432\tvalid_0's multi_error: 0.0929587\n",
      "[76]\tvalid_0's multi_logloss: 0.292692\tvalid_0's multi_error: 0.0928434\n",
      "[77]\tvalid_0's multi_logloss: 0.291113\tvalid_0's multi_error: 0.0926936\n",
      "[78]\tvalid_0's multi_logloss: 0.289264\tvalid_0's multi_error: 0.0924236\n",
      "[79]\tvalid_0's multi_logloss: 0.287642\tvalid_0's multi_error: 0.0922493\n",
      "[80]\tvalid_0's multi_logloss: 0.286159\tvalid_0's multi_error: 0.0920995\n",
      "[81]\tvalid_0's multi_logloss: 0.284674\tvalid_0's multi_error: 0.0920087\n",
      "[82]\tvalid_0's multi_logloss: 0.283107\tvalid_0's multi_error: 0.0919056\n",
      "[83]\tvalid_0's multi_logloss: 0.281703\tvalid_0's multi_error: 0.091773\n",
      "[84]\tvalid_0's multi_logloss: 0.280254\tvalid_0's multi_error: 0.0916797\n",
      "[85]\tvalid_0's multi_logloss: 0.278812\tvalid_0's multi_error: 0.0914539\n",
      "[86]\tvalid_0's multi_logloss: 0.277463\tvalid_0's multi_error: 0.0912501\n",
      "[87]\tvalid_0's multi_logloss: 0.275955\tvalid_0's multi_error: 0.0910439\n",
      "[88]\tvalid_0's multi_logloss: 0.274771\tvalid_0's multi_error: 0.0909089\n",
      "[89]\tvalid_0's multi_logloss: 0.27331\tvalid_0's multi_error: 0.0907247\n",
      "[90]\tvalid_0's multi_logloss: 0.272037\tvalid_0's multi_error: 0.0905284\n",
      "[91]\tvalid_0's multi_logloss: 0.2706\tvalid_0's multi_error: 0.0903811\n",
      "[92]\tvalid_0's multi_logloss: 0.269503\tvalid_0's multi_error: 0.0901896\n",
      "[93]\tvalid_0's multi_logloss: 0.26847\tvalid_0's multi_error: 0.0900668\n",
      "[94]\tvalid_0's multi_logloss: 0.2673\tvalid_0's multi_error: 0.0899195\n",
      "[95]\tvalid_0's multi_logloss: 0.266197\tvalid_0's multi_error: 0.0897207\n",
      "[96]\tvalid_0's multi_logloss: 0.265213\tvalid_0's multi_error: 0.0895513\n",
      "[97]\tvalid_0's multi_logloss: 0.264222\tvalid_0's multi_error: 0.0894506\n",
      "[98]\tvalid_0's multi_logloss: 0.263237\tvalid_0's multi_error: 0.0893598\n",
      "[99]\tvalid_0's multi_logloss: 0.262383\tvalid_0's multi_error: 0.0892984\n",
      "[100]\tvalid_0's multi_logloss: 0.261497\tvalid_0's multi_error: 0.0891315\n",
      "[101]\tvalid_0's multi_logloss: 0.26067\tvalid_0's multi_error: 0.0890357\n",
      "[102]\tvalid_0's multi_logloss: 0.259767\tvalid_0's multi_error: 0.0888762\n",
      "[103]\tvalid_0's multi_logloss: 0.258939\tvalid_0's multi_error: 0.0888025\n",
      "[104]\tvalid_0's multi_logloss: 0.258132\tvalid_0's multi_error: 0.0886871\n",
      "[105]\tvalid_0's multi_logloss: 0.257233\tvalid_0's multi_error: 0.0885497\n",
      "[106]\tvalid_0's multi_logloss: 0.256373\tvalid_0's multi_error: 0.0885055\n",
      "[107]\tvalid_0's multi_logloss: 0.255378\tvalid_0's multi_error: 0.0883705\n",
      "[108]\tvalid_0's multi_logloss: 0.254612\tvalid_0's multi_error: 0.0882894\n",
      "[109]\tvalid_0's multi_logloss: 0.253806\tvalid_0's multi_error: 0.0882109\n",
      "[110]\tvalid_0's multi_logloss: 0.252977\tvalid_0's multi_error: 0.0880268\n",
      "[111]\tvalid_0's multi_logloss: 0.252109\tvalid_0's multi_error: 0.0878328\n",
      "[112]\tvalid_0's multi_logloss: 0.251397\tvalid_0's multi_error: 0.087715\n",
      "[113]\tvalid_0's multi_logloss: 0.250784\tvalid_0's multi_error: 0.0876487\n",
      "[114]\tvalid_0's multi_logloss: 0.249963\tvalid_0's multi_error: 0.087499\n"
     ]
    },
    {
     "name": "stdout",
     "output_type": "stream",
     "text": [
      "[115]\tvalid_0's multi_logloss: 0.249382\tvalid_0's multi_error: 0.0873615\n",
      "[116]\tvalid_0's multi_logloss: 0.248666\tvalid_0's multi_error: 0.0872829\n",
      "[117]\tvalid_0's multi_logloss: 0.247641\tvalid_0's multi_error: 0.0870399\n",
      "[118]\tvalid_0's multi_logloss: 0.247089\tvalid_0's multi_error: 0.0869417\n",
      "[119]\tvalid_0's multi_logloss: 0.246466\tvalid_0's multi_error: 0.0868852\n",
      "[120]\tvalid_0's multi_logloss: 0.245837\tvalid_0's multi_error: 0.0867158\n",
      "[121]\tvalid_0's multi_logloss: 0.245144\tvalid_0's multi_error: 0.0865906\n",
      "[122]\tvalid_0's multi_logloss: 0.244574\tvalid_0's multi_error: 0.0865121\n",
      "[123]\tvalid_0's multi_logloss: 0.243878\tvalid_0's multi_error: 0.0863893\n",
      "[124]\tvalid_0's multi_logloss: 0.243207\tvalid_0's multi_error: 0.0862592\n",
      "[125]\tvalid_0's multi_logloss: 0.242545\tvalid_0's multi_error: 0.0861316\n",
      "[126]\tvalid_0's multi_logloss: 0.241904\tvalid_0's multi_error: 0.0859892\n",
      "[127]\tvalid_0's multi_logloss: 0.241266\tvalid_0's multi_error: 0.0858885\n",
      "[128]\tvalid_0's multi_logloss: 0.240743\tvalid_0's multi_error: 0.0858149\n",
      "[129]\tvalid_0's multi_logloss: 0.240306\tvalid_0's multi_error: 0.0857093\n",
      "[130]\tvalid_0's multi_logloss: 0.239819\tvalid_0's multi_error: 0.085616\n",
      "[131]\tvalid_0's multi_logloss: 0.239315\tvalid_0's multi_error: 0.0855326\n",
      "[132]\tvalid_0's multi_logloss: 0.238812\tvalid_0's multi_error: 0.0854073\n",
      "[133]\tvalid_0's multi_logloss: 0.238338\tvalid_0's multi_error: 0.0853533\n",
      "[134]\tvalid_0's multi_logloss: 0.23789\tvalid_0's multi_error: 0.0852993\n",
      "[135]\tvalid_0's multi_logloss: 0.237346\tvalid_0's multi_error: 0.0851741\n",
      "[136]\tvalid_0's multi_logloss: 0.236944\tvalid_0's multi_error: 0.0850808\n",
      "[137]\tvalid_0's multi_logloss: 0.236614\tvalid_0's multi_error: 0.0850416\n",
      "[138]\tvalid_0's multi_logloss: 0.236138\tvalid_0's multi_error: 0.0848771\n",
      "[139]\tvalid_0's multi_logloss: 0.235718\tvalid_0's multi_error: 0.0847985\n",
      "[140]\tvalid_0's multi_logloss: 0.235258\tvalid_0's multi_error: 0.084661\n",
      "[141]\tvalid_0's multi_logloss: 0.234806\tvalid_0's multi_error: 0.0845702\n",
      "[142]\tvalid_0's multi_logloss: 0.234355\tvalid_0's multi_error: 0.0844745\n",
      "[143]\tvalid_0's multi_logloss: 0.233979\tvalid_0's multi_error: 0.0843517\n",
      "[144]\tvalid_0's multi_logloss: 0.233551\tvalid_0's multi_error: 0.0842781\n",
      "[145]\tvalid_0's multi_logloss: 0.23309\tvalid_0's multi_error: 0.0841553\n",
      "[146]\tvalid_0's multi_logloss: 0.232673\tvalid_0's multi_error: 0.0840964\n",
      "[147]\tvalid_0's multi_logloss: 0.232207\tvalid_0's multi_error: 0.0840105\n",
      "[148]\tvalid_0's multi_logloss: 0.231701\tvalid_0's multi_error: 0.0838681\n",
      "[149]\tvalid_0's multi_logloss: 0.231223\tvalid_0's multi_error: 0.083819\n",
      "[150]\tvalid_0's multi_logloss: 0.230772\tvalid_0's multi_error: 0.0837085\n",
      "[151]\tvalid_0's multi_logloss: 0.230348\tvalid_0's multi_error: 0.0836005\n",
      "[152]\tvalid_0's multi_logloss: 0.229957\tvalid_0's multi_error: 0.0835293\n",
      "[153]\tvalid_0's multi_logloss: 0.229579\tvalid_0's multi_error: 0.0834434\n",
      "[154]\tvalid_0's multi_logloss: 0.229092\tvalid_0's multi_error: 0.0833624\n",
      "[155]\tvalid_0's multi_logloss: 0.228657\tvalid_0's multi_error: 0.0832347\n",
      "[156]\tvalid_0's multi_logloss: 0.228267\tvalid_0's multi_error: 0.0831807\n",
      "[157]\tvalid_0's multi_logloss: 0.228001\tvalid_0's multi_error: 0.0831341\n",
      "[158]\tvalid_0's multi_logloss: 0.227628\tvalid_0's multi_error: 0.0830702\n",
      "[159]\tvalid_0's multi_logloss: 0.227259\tvalid_0's multi_error: 0.0829819\n",
      "[160]\tvalid_0's multi_logloss: 0.22693\tvalid_0's multi_error: 0.0828935\n",
      "[161]\tvalid_0's multi_logloss: 0.226596\tvalid_0's multi_error: 0.0827781\n",
      "[162]\tvalid_0's multi_logloss: 0.226334\tvalid_0's multi_error: 0.0827167\n",
      "[163]\tvalid_0's multi_logloss: 0.225833\tvalid_0's multi_error: 0.0826455\n",
      "[164]\tvalid_0's multi_logloss: 0.225525\tvalid_0's multi_error: 0.0825964\n",
      "[165]\tvalid_0's multi_logloss: 0.225031\tvalid_0's multi_error: 0.0824271\n",
      "[166]\tvalid_0's multi_logloss: 0.224658\tvalid_0's multi_error: 0.0823829\n",
      "[167]\tvalid_0's multi_logloss: 0.224307\tvalid_0's multi_error: 0.0823092\n",
      "[168]\tvalid_0's multi_logloss: 0.224058\tvalid_0's multi_error: 0.0822405\n",
      "[169]\tvalid_0's multi_logloss: 0.223655\tvalid_0's multi_error: 0.0821619\n",
      "[170]\tvalid_0's multi_logloss: 0.223408\tvalid_0's multi_error: 0.0821128\n",
      "[171]\tvalid_0's multi_logloss: 0.223038\tvalid_0's multi_error: 0.0820244\n",
      "[172]\tvalid_0's multi_logloss: 0.222817\tvalid_0's multi_error: 0.0819974\n",
      "[173]\tvalid_0's multi_logloss: 0.222514\tvalid_0's multi_error: 0.0819213\n",
      "[174]\tvalid_0's multi_logloss: 0.222232\tvalid_0's multi_error: 0.0818919\n",
      "[175]\tvalid_0's multi_logloss: 0.221883\tvalid_0's multi_error: 0.0818256\n",
      "[176]\tvalid_0's multi_logloss: 0.221641\tvalid_0's multi_error: 0.0816955\n",
      "[177]\tvalid_0's multi_logloss: 0.221348\tvalid_0's multi_error: 0.0816145\n",
      "[178]\tvalid_0's multi_logloss: 0.220909\tvalid_0's multi_error: 0.0814377\n",
      "[179]\tvalid_0's multi_logloss: 0.220591\tvalid_0's multi_error: 0.0813567\n",
      "[180]\tvalid_0's multi_logloss: 0.220257\tvalid_0's multi_error: 0.081256\n",
      "[181]\tvalid_0's multi_logloss: 0.219947\tvalid_0's multi_error: 0.0811529\n",
      "[182]\tvalid_0's multi_logloss: 0.21963\tvalid_0's multi_error: 0.081094\n",
      "[183]\tvalid_0's multi_logloss: 0.219305\tvalid_0's multi_error: 0.0810351\n",
      "[184]\tvalid_0's multi_logloss: 0.218943\tvalid_0's multi_error: 0.0809762\n",
      "[185]\tvalid_0's multi_logloss: 0.21869\tvalid_0's multi_error: 0.0808903\n",
      "[186]\tvalid_0's multi_logloss: 0.218348\tvalid_0's multi_error: 0.0808289\n",
      "[187]\tvalid_0's multi_logloss: 0.218158\tvalid_0's multi_error: 0.0807651\n",
      "[188]\tvalid_0's multi_logloss: 0.217984\tvalid_0's multi_error: 0.0807209\n",
      "[189]\tvalid_0's multi_logloss: 0.217712\tvalid_0's multi_error: 0.0806423\n",
      "[190]\tvalid_0's multi_logloss: 0.217484\tvalid_0's multi_error: 0.0805662\n",
      "[191]\tvalid_0's multi_logloss: 0.217236\tvalid_0's multi_error: 0.0805147\n",
      "[192]\tvalid_0's multi_logloss: 0.217028\tvalid_0's multi_error: 0.0804336\n",
      "[193]\tvalid_0's multi_logloss: 0.216645\tvalid_0's multi_error: 0.0803698\n",
      "[194]\tvalid_0's multi_logloss: 0.216369\tvalid_0's multi_error: 0.0802913\n",
      "[195]\tvalid_0's multi_logloss: 0.216015\tvalid_0's multi_error: 0.0802274\n",
      "[196]\tvalid_0's multi_logloss: 0.215776\tvalid_0's multi_error: 0.0801734\n",
      "[197]\tvalid_0's multi_logloss: 0.21556\tvalid_0's multi_error: 0.0801047\n",
      "[198]\tvalid_0's multi_logloss: 0.21535\tvalid_0's multi_error: 0.0800237\n",
      "[199]\tvalid_0's multi_logloss: 0.215163\tvalid_0's multi_error: 0.0799746\n",
      "[200]\tvalid_0's multi_logloss: 0.214975\tvalid_0's multi_error: 0.0799353\n",
      "[201]\tvalid_0's multi_logloss: 0.214647\tvalid_0's multi_error: 0.0799206\n",
      "[202]\tvalid_0's multi_logloss: 0.21446\tvalid_0's multi_error: 0.0799009\n",
      "[203]\tvalid_0's multi_logloss: 0.214291\tvalid_0's multi_error: 0.079842\n",
      "[204]\tvalid_0's multi_logloss: 0.214183\tvalid_0's multi_error: 0.0798297\n",
      "[205]\tvalid_0's multi_logloss: 0.213951\tvalid_0's multi_error: 0.0797389\n",
      "[206]\tvalid_0's multi_logloss: 0.213657\tvalid_0's multi_error: 0.0796726\n",
      "[207]\tvalid_0's multi_logloss: 0.213359\tvalid_0's multi_error: 0.0795376\n",
      "[208]\tvalid_0's multi_logloss: 0.213194\tvalid_0's multi_error: 0.0794934\n",
      "[209]\tvalid_0's multi_logloss: 0.212914\tvalid_0's multi_error: 0.0793977\n",
      "[210]\tvalid_0's multi_logloss: 0.212702\tvalid_0's multi_error: 0.0793461\n",
      "[211]\tvalid_0's multi_logloss: 0.212496\tvalid_0's multi_error: 0.0792872\n",
      "[212]\tvalid_0's multi_logloss: 0.212089\tvalid_0's multi_error: 0.0792872\n",
      "[213]\tvalid_0's multi_logloss: 0.21192\tvalid_0's multi_error: 0.0792258\n",
      "[214]\tvalid_0's multi_logloss: 0.211635\tvalid_0's multi_error: 0.0791252\n",
      "[215]\tvalid_0's multi_logloss: 0.211444\tvalid_0's multi_error: 0.0790319\n",
      "[216]\tvalid_0's multi_logloss: 0.2111\tvalid_0's multi_error: 0.0789901\n",
      "[217]\tvalid_0's multi_logloss: 0.210863\tvalid_0's multi_error: 0.0789312\n",
      "[218]\tvalid_0's multi_logloss: 0.210665\tvalid_0's multi_error: 0.0788428\n",
      "[219]\tvalid_0's multi_logloss: 0.210409\tvalid_0's multi_error: 0.0787766\n",
      "[220]\tvalid_0's multi_logloss: 0.210194\tvalid_0's multi_error: 0.0786882\n",
      "[221]\tvalid_0's multi_logloss: 0.209981\tvalid_0's multi_error: 0.0786317\n",
      "[222]\tvalid_0's multi_logloss: 0.20977\tvalid_0's multi_error: 0.078563\n",
      "[223]\tvalid_0's multi_logloss: 0.209597\tvalid_0's multi_error: 0.0784771\n",
      "[224]\tvalid_0's multi_logloss: 0.209408\tvalid_0's multi_error: 0.0784599\n",
      "[225]\tvalid_0's multi_logloss: 0.209235\tvalid_0's multi_error: 0.0784034\n",
      "[226]\tvalid_0's multi_logloss: 0.209054\tvalid_0's multi_error: 0.0783838\n",
      "[227]\tvalid_0's multi_logloss: 0.208854\tvalid_0's multi_error: 0.078315\n"
     ]
    },
    {
     "name": "stdout",
     "output_type": "stream",
     "text": [
      "[228]\tvalid_0's multi_logloss: 0.208642\tvalid_0's multi_error: 0.0782389\n",
      "[229]\tvalid_0's multi_logloss: 0.208474\tvalid_0's multi_error: 0.0781751\n",
      "[230]\tvalid_0's multi_logloss: 0.208208\tvalid_0's multi_error: 0.0781628\n",
      "[231]\tvalid_0's multi_logloss: 0.20808\tvalid_0's multi_error: 0.0780818\n",
      "[232]\tvalid_0's multi_logloss: 0.207909\tvalid_0's multi_error: 0.0779959\n",
      "[233]\tvalid_0's multi_logloss: 0.207641\tvalid_0's multi_error: 0.0779026\n",
      "[234]\tvalid_0's multi_logloss: 0.207436\tvalid_0's multi_error: 0.0778707\n",
      "[235]\tvalid_0's multi_logloss: 0.207334\tvalid_0's multi_error: 0.077856\n",
      "[236]\tvalid_0's multi_logloss: 0.207208\tvalid_0's multi_error: 0.0778314\n",
      "[237]\tvalid_0's multi_logloss: 0.207072\tvalid_0's multi_error: 0.0778142\n",
      "[238]\tvalid_0's multi_logloss: 0.206975\tvalid_0's multi_error: 0.077797\n",
      "[239]\tvalid_0's multi_logloss: 0.206812\tvalid_0's multi_error: 0.0777774\n",
      "[240]\tvalid_0's multi_logloss: 0.206685\tvalid_0's multi_error: 0.0777308\n",
      "[241]\tvalid_0's multi_logloss: 0.206506\tvalid_0's multi_error: 0.0776596\n",
      "[242]\tvalid_0's multi_logloss: 0.206275\tvalid_0's multi_error: 0.0775957\n",
      "[243]\tvalid_0's multi_logloss: 0.206051\tvalid_0's multi_error: 0.0775368\n",
      "[244]\tvalid_0's multi_logloss: 0.205822\tvalid_0's multi_error: 0.0774656\n",
      "[245]\tvalid_0's multi_logloss: 0.205612\tvalid_0's multi_error: 0.0773846\n",
      "[246]\tvalid_0's multi_logloss: 0.205376\tvalid_0's multi_error: 0.0773429\n",
      "[247]\tvalid_0's multi_logloss: 0.205143\tvalid_0's multi_error: 0.0772545\n",
      "[248]\tvalid_0's multi_logloss: 0.205006\tvalid_0's multi_error: 0.0772447\n",
      "[249]\tvalid_0's multi_logloss: 0.204762\tvalid_0's multi_error: 0.0771563\n",
      "[250]\tvalid_0's multi_logloss: 0.204589\tvalid_0's multi_error: 0.07709\n",
      "[251]\tvalid_0's multi_logloss: 0.20445\tvalid_0's multi_error: 0.0770532\n",
      "[252]\tvalid_0's multi_logloss: 0.204307\tvalid_0's multi_error: 0.0770139\n",
      "[253]\tvalid_0's multi_logloss: 0.204226\tvalid_0's multi_error: 0.0769967\n",
      "[254]\tvalid_0's multi_logloss: 0.204083\tvalid_0's multi_error: 0.0769697\n",
      "[255]\tvalid_0's multi_logloss: 0.203921\tvalid_0's multi_error: 0.0768985\n",
      "[256]\tvalid_0's multi_logloss: 0.203737\tvalid_0's multi_error: 0.0768494\n",
      "[257]\tvalid_0's multi_logloss: 0.203707\tvalid_0's multi_error: 0.0768494\n",
      "[258]\tvalid_0's multi_logloss: 0.203488\tvalid_0's multi_error: 0.0767684\n",
      "[259]\tvalid_0's multi_logloss: 0.203336\tvalid_0's multi_error: 0.0766874\n",
      "[260]\tvalid_0's multi_logloss: 0.203194\tvalid_0's multi_error: 0.0766408\n",
      "[261]\tvalid_0's multi_logloss: 0.203092\tvalid_0's multi_error: 0.0766408\n",
      "[262]\tvalid_0's multi_logloss: 0.202969\tvalid_0's multi_error: 0.0765917\n",
      "[263]\tvalid_0's multi_logloss: 0.202694\tvalid_0's multi_error: 0.0765205\n",
      "[264]\tvalid_0's multi_logloss: 0.202631\tvalid_0's multi_error: 0.0765057\n",
      "[265]\tvalid_0's multi_logloss: 0.202511\tvalid_0's multi_error: 0.0764763\n",
      "[266]\tvalid_0's multi_logloss: 0.202388\tvalid_0's multi_error: 0.0764247\n",
      "[267]\tvalid_0's multi_logloss: 0.202234\tvalid_0's multi_error: 0.0763732\n",
      "[268]\tvalid_0's multi_logloss: 0.202104\tvalid_0's multi_error: 0.0763265\n",
      "[269]\tvalid_0's multi_logloss: 0.201935\tvalid_0's multi_error: 0.0762823\n",
      "[270]\tvalid_0's multi_logloss: 0.201788\tvalid_0's multi_error: 0.0762308\n",
      "[271]\tvalid_0's multi_logloss: 0.201587\tvalid_0's multi_error: 0.0761866\n",
      "[272]\tvalid_0's multi_logloss: 0.201448\tvalid_0's multi_error: 0.0761866\n",
      "[273]\tvalid_0's multi_logloss: 0.201286\tvalid_0's multi_error: 0.076135\n",
      "[274]\tvalid_0's multi_logloss: 0.201161\tvalid_0's multi_error: 0.0761031\n",
      "[275]\tvalid_0's multi_logloss: 0.200905\tvalid_0's multi_error: 0.0760418\n",
      "[276]\tvalid_0's multi_logloss: 0.200752\tvalid_0's multi_error: 0.0759853\n",
      "[277]\tvalid_0's multi_logloss: 0.200654\tvalid_0's multi_error: 0.0759779\n",
      "[278]\tvalid_0's multi_logloss: 0.200549\tvalid_0's multi_error: 0.0759288\n",
      "[279]\tvalid_0's multi_logloss: 0.200458\tvalid_0's multi_error: 0.0759092\n",
      "[280]\tvalid_0's multi_logloss: 0.200319\tvalid_0's multi_error: 0.0758773\n",
      "[281]\tvalid_0's multi_logloss: 0.200201\tvalid_0's multi_error: 0.0758552\n",
      "[282]\tvalid_0's multi_logloss: 0.200022\tvalid_0's multi_error: 0.0757938\n",
      "[283]\tvalid_0's multi_logloss: 0.199853\tvalid_0's multi_error: 0.0757619\n",
      "[284]\tvalid_0's multi_logloss: 0.199683\tvalid_0's multi_error: 0.0757177\n",
      "[285]\tvalid_0's multi_logloss: 0.199599\tvalid_0's multi_error: 0.0757054\n",
      "[286]\tvalid_0's multi_logloss: 0.199401\tvalid_0's multi_error: 0.0756637\n",
      "[287]\tvalid_0's multi_logloss: 0.199239\tvalid_0's multi_error: 0.0755729\n",
      "[288]\tvalid_0's multi_logloss: 0.199114\tvalid_0's multi_error: 0.0755287\n",
      "[289]\tvalid_0's multi_logloss: 0.198984\tvalid_0's multi_error: 0.0754918\n",
      "[290]\tvalid_0's multi_logloss: 0.198876\tvalid_0's multi_error: 0.0754648\n",
      "[291]\tvalid_0's multi_logloss: 0.198837\tvalid_0's multi_error: 0.0754575\n",
      "[292]\tvalid_0's multi_logloss: 0.198729\tvalid_0's multi_error: 0.0754403\n",
      "[293]\tvalid_0's multi_logloss: 0.198604\tvalid_0's multi_error: 0.0754108\n",
      "[294]\tvalid_0's multi_logloss: 0.198474\tvalid_0's multi_error: 0.0753666\n",
      "[295]\tvalid_0's multi_logloss: 0.198354\tvalid_0's multi_error: 0.075347\n",
      "[296]\tvalid_0's multi_logloss: 0.198201\tvalid_0's multi_error: 0.0753298\n",
      "[297]\tvalid_0's multi_logloss: 0.198057\tvalid_0's multi_error: 0.0752537\n",
      "[298]\tvalid_0's multi_logloss: 0.197969\tvalid_0's multi_error: 0.0752218\n",
      "[299]\tvalid_0's multi_logloss: 0.197865\tvalid_0's multi_error: 0.0751752\n",
      "[300]\tvalid_0's multi_logloss: 0.197794\tvalid_0's multi_error: 0.0751727\n",
      "Did not meet early stopping. Best iteration is:\n",
      "[300]\tvalid_0's multi_logloss: 0.197794\tvalid_0's multi_error: 0.0751727\n",
      "0.92482729500027\n"
     ]
    }
   ],
   "source": [
    "split = round(len(X) * 0.05)\n",
    "X_val, Y_val = X[:split], Y[:split]\n",
    "X_train, Y_train = X[split:], Y[split:]\n",
    "\n",
    "lgb_train = lgb.Dataset(X_train, Y_train)\n",
    "lgb_eval = lgb.Dataset(X_val, Y_val, reference = lgb_train)\n",
    "    \n",
    "params = {\n",
    "    'boosting_type': 'gbdt',\n",
    "    'objective': 'multiclass',\n",
    "    'metric': ['multi_error', 'multi_logloss'],\n",
    "    'num_class': 6,\n",
    "    'num_leaves': 20,\n",
    "    'learning_rate': 0.05,\n",
    "    'feature_fraction': 0.9,\n",
    "    'bagging_fraction': 0.8,\n",
    "    'bagging_freq': 5,\n",
    "    'verbose': 0\n",
    "}\n",
    "    \n",
    "gbm = lgb.train(params,\n",
    "                lgb_train,\n",
    "                num_boost_round = 300,\n",
    "                valid_sets = lgb_eval,\n",
    "                early_stopping_rounds = 200)\n",
    "    \n",
    "y_hat = gbm.predict(X_val)\n",
    "print((y_hat.argmax(1) == Y_val).sum() / len(Y_val))"
   ]
  },
  {
   "cell_type": "code",
   "execution_count": 13,
   "metadata": {},
   "outputs": [
    {
     "data": {
      "text/plain": [
       "<lightgbm.basic.Booster at 0x7f7e0f6f92b0>"
      ]
     },
     "execution_count": 13,
     "metadata": {},
     "output_type": "execute_result"
    }
   ],
   "source": [
    "gbm.save_model('model.txt')"
   ]
  },
  {
   "cell_type": "code",
   "execution_count": 14,
   "metadata": {},
   "outputs": [],
   "source": [
    "df_dijon = read_ply('../Benchmark_MVA/test/MiniDijon9_fd.ply')"
   ]
  },
  {
   "cell_type": "code",
   "execution_count": 15,
   "metadata": {},
   "outputs": [],
   "source": [
    "X_test = df_dijon.iloc[:, 3:]"
   ]
  },
  {
   "cell_type": "code",
   "execution_count": 16,
   "metadata": {},
   "outputs": [],
   "source": [
    "y_hat = gbm.predict(X_test)"
   ]
  },
  {
   "cell_type": "code",
   "execution_count": 17,
   "metadata": {},
   "outputs": [],
   "source": [
    "df_dijon['pred'] = y_hat.argmax(axis = 1) + 1"
   ]
  },
  {
   "cell_type": "code",
   "execution_count": 26,
   "metadata": {},
   "outputs": [
    {
     "data": {
      "text/plain": [
       "(array([0, 1, 2, 3, 4, 5, 6]),\n",
       " array([ 111019, 1315354, 1207925,   15218,    5120,   22460,  402091]))"
      ]
     },
     "execution_count": 26,
     "metadata": {},
     "output_type": "execute_result"
    }
   ],
   "source": [
    "np.unique(df_dijon['pred'], return_counts = True)"
   ]
  },
  {
   "cell_type": "code",
   "execution_count": 42,
   "metadata": {},
   "outputs": [
    {
     "data": {
      "text/plain": [
       "0.9508111041237699"
      ]
     },
     "execution_count": 42,
     "metadata": {},
     "output_type": "execute_result"
    }
   ],
   "source": [
    "(y_hat.argmax(1) == Y[test_index]).sum() / len(Y[test_index])"
   ]
  },
  {
   "cell_type": "code",
   "execution_count": 19,
   "metadata": {},
   "outputs": [
    {
     "data": {
      "text/plain": [
       "array([1, 1, 2, ..., 1, 1, 1])"
      ]
     },
     "execution_count": 19,
     "metadata": {},
     "output_type": "execute_result"
    }
   ],
   "source": [
    "df_dijon['pred'].values"
   ]
  },
  {
   "cell_type": "code",
   "execution_count": 21,
   "metadata": {},
   "outputs": [],
   "source": [
    "np.savetxt('dijon_final.txt', df_dijon['pred'].values, fmt = '%d')"
   ]
  },
  {
   "cell_type": "code",
   "execution_count": 23,
   "metadata": {},
   "outputs": [],
   "source": [
    "%reload_ext autoreload\n",
    "%autoreload 2\n",
    "\n",
    "from ply import *"
   ]
  },
  {
   "cell_type": "code",
   "execution_count": 42,
   "metadata": {},
   "outputs": [
    {
     "data": {
      "text/plain": [
       "(array([0, 1, 2, 3, 4, 5, 6]),\n",
       " array([ 111019, 1315354, 1207925,   15218,    5120,   22460,  402091]))"
      ]
     },
     "execution_count": 42,
     "metadata": {},
     "output_type": "execute_result"
    }
   ],
   "source": [
    "np.unique(df_dijon['pred'].values, return_counts=True)"
   ]
  },
  {
   "cell_type": "code",
   "execution_count": 24,
   "metadata": {},
   "outputs": [
    {
     "data": {
      "text/plain": [
       "True"
      ]
     },
     "execution_count": 24,
     "metadata": {},
     "output_type": "execute_result"
    }
   ],
   "source": [
    "write_ply(\"dijon_pred.ply\", [df_dijon.iloc[:, :3].values, df_dijon['pred'].values.astype(np.int32)], ['x', 'y', 'z', 'class'])"
   ]
  },
  {
   "cell_type": "code",
   "execution_count": null,
   "metadata": {},
   "outputs": [],
   "source": []
  },
  {
   "cell_type": "markdown",
   "metadata": {},
   "source": [
    "# LightGBM"
   ]
  },
  {
   "cell_type": "code",
   "execution_count": 45,
   "metadata": {},
   "outputs": [],
   "source": [
    "learning_rate = 0.1\n",
    "num_leaves = 255\n",
    "num_trees = 500\n",
    "num_threads = 16\n",
    "min_data_in_leaf = 0\n",
    "min_sum_hessian_in_leaf = 100"
   ]
  }
 ],
 "metadata": {
  "kernelspec": {
   "display_name": "Python 3",
   "language": "python",
   "name": "python3"
  },
  "language_info": {
   "codemirror_mode": {
    "name": "ipython",
    "version": 3
   },
   "file_extension": ".py",
   "mimetype": "text/x-python",
   "name": "python",
   "nbconvert_exporter": "python",
   "pygments_lexer": "ipython3",
   "version": "3.6.8"
  }
 },
 "nbformat": 4,
 "nbformat_minor": 2
}
