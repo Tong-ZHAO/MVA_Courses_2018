{
 "cells": [
  {
   "cell_type": "markdown",
   "metadata": {},
   "source": [
    "# Linear Classifier"
   ]
  },
  {
   "cell_type": "code",
   "execution_count": 1,
   "metadata": {},
   "outputs": [],
   "source": [
    "import numpy as np\n",
    "import matplotlib.pyplot as plt"
   ]
  },
  {
   "cell_type": "markdown",
   "metadata": {},
   "source": [
    "## Help Functions"
   ]
  },
  {
   "cell_type": "code",
   "execution_count": 2,
   "metadata": {},
   "outputs": [],
   "source": [
    "def read_file(file_name):\n",
    "    \n",
    "    with open(file_name, \"r\") as fp:\n",
    "        fp_line = fp.read().split(\"\\n\")[:-1]\n",
    "        \n",
    "    fp_line = np.array([list(map(float, line.split())) for line in fp_line])\n",
    "    \n",
    "    X, Y = fp_line[:, :2], fp_line[:, -1].reshape((-1, 1))\n",
    "    \n",
    "    return X, Y.astype(int)"
   ]
  },
  {
   "cell_type": "code",
   "execution_count": 31,
   "metadata": {},
   "outputs": [],
   "source": [
    "X, Y = read_file(\"classificationB.train\")\n",
    "TX, TY = read_file(\"classificationB.test\")"
   ]
  },
  {
   "cell_type": "markdown",
   "metadata": {},
   "source": [
    "## LDA"
   ]
  },
  {
   "cell_type": "code",
   "execution_count": 8,
   "metadata": {},
   "outputs": [],
   "source": [
    "class lda:\n",
    "    \n",
    "    def __init__(self):\n",
    "        # avoid evaluation before training\n",
    "        self.flag_trained = False\n",
    "        \n",
    "    def train(self, X, Y):\n",
    "        N, N1 = len(X), Y.sum()\n",
    "        self.pi = float(N1) / N\n",
    "        self.mu_0 = ((X * (1 - Y)).sum(0) / (N - N1)).reshape((1, 2))\n",
    "        self.mu_1 = ((X * Y).sum(0) / N1).reshape((1, 2))\n",
    "        var_elem = X - (1 - Y) * self.mu_0 - Y * self.mu_1\n",
    "        self.sigma = np.matmul(var_elem.T, var_elem) / N\n",
    "        self.inv_sigma = np.linalg.inv(self.sigma)\n",
    "        # Training finished\n",
    "        self.flag_trained = True\n",
    "        self.find_boundary()\n",
    "        \n",
    "    def score(self, test_X, test_Y):\n",
    "        N = len(test_X)\n",
    "        pred_Y = self.test(test_X)\n",
    "        err = float(np.abs(pred_Y - test_Y).sum()) / N\n",
    "        print(\"The misclassification rate of the prediction is: %f\" % err)\n",
    "        \n",
    "    def test(self, test_X):\n",
    "        if self.flag_trained:\n",
    "            N = len(test_X)\n",
    "            avg_0, avg_1 = (test_X - self.mu_0), (test_X - self.mu_1) \n",
    "            pred_0, pred_1 = np.zeros((N, 3)), np.zeros((N, 3))\n",
    "            pred_0[:, 0] = (avg_0[:, 0] ** 2) * self.inv_sigma[0, 0]\n",
    "            pred_0[:, 1] = (avg_0[:, 1] ** 2) * self.inv_sigma[1, 1]\n",
    "            pred_0[:, 2] = 2 * avg_0.prod(1) * self.inv_sigma[0, 1]\n",
    "            pred_0 = np.exp(-0.5 * pred_0.sum(1)) * (1 - self.pi)\n",
    "\n",
    "            pred_1[:, 0] = (avg_1[:, 0] ** 2) * self.inv_sigma[0, 0]\n",
    "            pred_1[:, 1] = (avg_1[:, 1] ** 2) * self.inv_sigma[1, 1]\n",
    "            pred_1[:, 2] = 2 * avg_1.prod(1) * self.inv_sigma[0, 1]\n",
    "            pred_1 = np.exp(-0.5 * pred_1.sum(1)) * self.pi\n",
    "\n",
    "            pred = (pred_1 >= pred_0).reshape((-1, 1)).astype(int)\n",
    "            return pred\n",
    "        else:\n",
    "            print(\"Error! The classifier has not been trained yet!\")\n",
    "            \n",
    "    def find_boundary(self):\n",
    "        if self.flag_trained:\n",
    "            c = np.log(1 - self.pi) - np.log(self.pi) + 0.5 * np.matmul(np.matmul(self.mu_1, self.inv_sigma), self.mu_1.T) - 0.5 * np.matmul(np.matmul(self.mu_0, self.inv_sigma), self.mu_0.T)\n",
    "            # find (0, b)\n",
    "            self.zero_x = float(np.squeeze(c / np.matmul(self.mu_1 - self.mu_0, self.inv_sigma[1].reshape((-1, 1)))))\n",
    "            # find (a, 0)\n",
    "            self.zero_y = float(np.squeeze(c / np.matmul(self.mu_1 - self.mu_0, self.inv_sigma[0].reshape((-1, 1)))))\n",
    "            self.k = -self.zero_x / self.zero_y\n",
    "        else:\n",
    "            print(\"Error! The classifier has not been trained yet!\")"
   ]
  },
  {
   "cell_type": "code",
   "execution_count": 49,
   "metadata": {},
   "outputs": [
    {
     "name": "stdout",
     "output_type": "stream",
     "text": [
      "---Train---\n",
      "The misclassification rate of the prediction is: 0.030000\n",
      "---Test---\n",
      "The misclassification rate of the prediction is: 0.041500\n"
     ]
    }
   ],
   "source": [
    "my_lda = lda()\n",
    "my_lda.train(X, Y)\n",
    "print(\"---Train---\")\n",
    "my_lda.score(X, Y)\n",
    "print(\"---Test---\")\n",
    "my_lda.score(TX, TY)"
   ]
  },
  {
   "cell_type": "code",
   "execution_count": 10,
   "metadata": {},
   "outputs": [
    {
     "data": {
      "image/png": "[encoded data removed]",
      "text/plain": [
       "<Figure size 432x288 with 1 Axes>"
      ]
     },
     "metadata": {
      "needs_background": "light"
     },
     "output_type": "display_data"
    }
   ],
   "source": [
    "xmin, xmax = TX[:, 0].min(), TX[:, 0].max()\n",
    "plt.figure()\n",
    "plt.scatter(TX[TY.reshape((-1)) == 1, 0], TX[TY.reshape((-1)) == 1, 1], marker = '^', c = \"r\")\n",
    "plt.scatter(TX[TY.reshape((-1)) == 0, 0], TX[TY.reshape((-1)) == 0, 1], marker = '.', c = \"b\")\n",
    "plt.plot([xmin, xmax], [my_lda.k * xmin + my_lda.zero_x, my_lda.k * xmax + my_lda.zero_x], c = \"black\")\n",
    "plt.title(\"LDA - Data C\")\n",
    "plt.grid()\n",
    "plt.show()"
   ]
  },
  {
   "cell_type": "markdown",
   "metadata": {},
   "source": [
    "## Logistic Regression"
   ]
  },
  {
   "cell_type": "code",
   "execution_count": 11,
   "metadata": {},
   "outputs": [],
   "source": [
    "def sigmoid(x, w, derivative = False):\n",
    "    \n",
    "    z = np.matmul(x, w)\n",
    "    \n",
    "    return z * (1 - z) if derivative else 1 / (1 + np.exp(-z))"
   ]
  },
  {
   "cell_type": "code",
   "execution_count": 12,
   "metadata": {},
   "outputs": [],
   "source": [
    "def logistic_loss(x, y, w):\n",
    "    \n",
    "    x_sigmoid = sigmoid(x, w)\n",
    "    \n",
    "    return (y * np.log(x_sigmoid) + (1 - y) * np.log(1 - x_sigmoid)).sum()"
   ]
  },
  {
   "cell_type": "code",
   "execution_count": 13,
   "metadata": {},
   "outputs": [],
   "source": [
    "def calc_gradient(x, y, w):\n",
    "    \n",
    "    return ((y - sigmoid(x, w)) * x).sum(0)"
   ]
  },
  {
   "cell_type": "code",
   "execution_count": 45,
   "metadata": {},
   "outputs": [],
   "source": [
    "def calc_hessian(x, w):\n",
    "    \n",
    "    return np.matmul(np.matmul(x.T, np.diagflat(sigmoid(x, w, True))), x)"
   ]
  },
  {
   "cell_type": "code",
   "execution_count": 46,
   "metadata": {},
   "outputs": [],
   "source": [
    "class logistic_regression:\n",
    "    \n",
    "    def __init__(self, max_iter = 3000, threshold = 1e-5):\n",
    "        self.max_iter = max_iter\n",
    "        self.threshold = threshold\n",
    "        # avoid evaluation before training\n",
    "        self.flag_trained = False\n",
    "        \n",
    "    def train(self, X, Y):\n",
    "        X = np.hstack((X, np.ones((len(X), 1))))\n",
    "        self.W = np.random.randn(X.shape[1], 1)\n",
    "        self.llose = [np.infty, logistic_loss(X, Y, self.W)]\n",
    "        counter = 0\n",
    "        \n",
    "        while (counter < self.max_iter) and (np.abs(self.llose[-1] - self.llose[-2]) > self.threshold):\n",
    "            H = calc_hessian(X, self.W)\n",
    "            G = calc_gradient(X, Y, self.W)\n",
    "            self.W = self.W - np.matmul(np.linalg.inv(H), G.reshape((-1, 1)))\n",
    "            self.llose.append(logistic_loss(X, Y, self.W))\n",
    "            counter += 1\n",
    "            \n",
    "        self.flag_trained = True\n",
    "            \n",
    "        \n",
    "    def score(self, test_X, test_Y):\n",
    "        N = len(test_X)\n",
    "        pred_Y = self.test(test_X)\n",
    "        err = float(np.abs(pred_Y - test_Y).sum()) / N\n",
    "        print(\"The misclassification rate of the prediction is: %f\" % err)\n",
    "        \n",
    "        \n",
    "    def test(self, test_X):\n",
    "        if self.flag_trained:\n",
    "            test_X = np.hstack((test_X, np.ones((len(test_X), 1))))\n",
    "            pred = (sigmoid(test_X, self.W) > 0.5).astype(int)\n",
    "            return pred\n",
    "        else:\n",
    "            print(\"Error! The classifier has not been trained yet!\")"
   ]
  },
  {
   "cell_type": "code",
   "execution_count": 50,
   "metadata": {},
   "outputs": [
    {
     "name": "stdout",
     "output_type": "stream",
     "text": [
      "---Train---\n",
      "The misclassification rate of the prediction is: 0.020000\n",
      "---Test---\n",
      "The misclassification rate of the prediction is: 0.038500\n"
     ]
    }
   ],
   "source": [
    "logist = logistic_regression()\n",
    "logist.train(X, Y)\n",
    "print(\"---Train---\")\n",
    "logist.score(X, Y)\n",
    "print(\"---Test---\")\n",
    "logist.score(TX, TY)"
   ]
  },
  {
   "cell_type": "code",
   "execution_count": 40,
   "metadata": {},
   "outputs": [
    {
     "data": {
      "text/plain": [
       "array([[-1.16082232],\n",
       "       [ 0.65229086],\n",
       "       [ 0.63539313]])"
      ]
     },
     "execution_count": 40,
     "metadata": {},
     "output_type": "execute_result"
    }
   ],
   "source": [
    "logist.W"
   ]
  },
  {
   "cell_type": "code",
   "execution_count": 202,
   "metadata": {},
   "outputs": [
    {
     "data": {
      "image/png": "[encoded data removed]",
      "text/plain": [
       "<matplotlib.figure.Figure at 0x10b408510>"
      ]
     },
     "metadata": {},
     "output_type": "display_data"
    }
   ],
   "source": [
    "xmin, xmax = TX[:, 0].min(), TX[:, 0].max()\n",
    "plt.figure()\n",
    "plt.scatter(TX[TY.reshape((-1)) == 1, 0], TX[TY.reshape((-1)) == 1, 1], marker = '^', c = \"r\")\n",
    "plt.scatter(TX[TY.reshape((-1)) == 0, 0], TX[TY.reshape((-1)) == 0, 1], marker = '.', c = \"b\")\n",
    "plt.plot([xmin, xmax], [- (logist.W[0, 0] * xmin + logist.W[2, 0]) / logist.W[1, 0] , - (logist.W[0, 0] * xmax + logist.W[2, 0]) / logist.W[1, 0]], c = \"black\")\n",
    "plt.title(\"Logistic Regression - Data C\")\n",
    "plt.grid()\n",
    "plt.show()"
   ]
  },
  {
   "cell_type": "markdown",
   "metadata": {},
   "source": [
    "## Linear Regression"
   ]
  },
  {
   "cell_type": "code",
   "execution_count": 25,
   "metadata": {},
   "outputs": [],
   "source": [
    "class linear_regression:\n",
    "    \n",
    "    def __init__(self):\n",
    "        # avoid evaluation before training\n",
    "        self.flag_trained = False\n",
    "        \n",
    "    def train(self, X, Y):\n",
    "        X = np.hstack((X, np.ones((len(X), 1))))\n",
    "        xtx_inv = np.linalg.inv(np.matmul(X.T, X))\n",
    "        self.A = np.matmul(np.matmul(xtx_inv, X.T), Y)\n",
    "        self.flag_trained = True\n",
    "            \n",
    "    def score(self, test_X, test_Y):\n",
    "        N = len(test_X)\n",
    "        pred_Y = self.test(test_X)\n",
    "        err = float(np.abs(pred_Y - test_Y).sum()) / N\n",
    "        print(\"The misclassification rate of the prediction is: %f\" % err)\n",
    "        \n",
    "    def test(self, test_X):\n",
    "        if self.flag_trained:\n",
    "            test_X = np.hstack((test_X, np.ones((len(test_X), 1))))\n",
    "            pred = (np.matmul(test_X, self.A) > 0.5).astype(int)\n",
    "            return pred\n",
    "        else:\n",
    "            print(\"Error! The classifier has not been trained yet!\")"
   ]
  },
  {
   "cell_type": "code",
   "execution_count": 51,
   "metadata": {},
   "outputs": [
    {
     "name": "stdout",
     "output_type": "stream",
     "text": [
      "---Train---\n",
      "The misclassification rate of the prediction is: 0.030000\n",
      "---Test---\n",
      "The misclassification rate of the prediction is: 0.041500\n"
     ]
    }
   ],
   "source": [
    "linerg = linear_regression()\n",
    "linerg.train(X, Y)\n",
    "print(\"---Train---\")\n",
    "linerg.score(X, Y)\n",
    "print(\"---Test---\")\n",
    "linerg.score(TX, TY)"
   ]
  },
  {
   "cell_type": "code",
   "execution_count": 204,
   "metadata": {},
   "outputs": [
    {
     "data": {
      "image/png": "[encoded data removed]",
      "text/plain": [
       "<matplotlib.figure.Figure at 0x10a818510>"
      ]
     },
     "metadata": {},
     "output_type": "display_data"
    }
   ],
   "source": [
    "xmin, xmax = TX[:, 0].min(), TX[:, 0].max()\n",
    "plt.figure()\n",
    "plt.scatter(TX[TY.reshape((-1)) == 1, 0], TX[TY.reshape((-1)) == 1, 1], marker = '^', c = \"r\")\n",
    "plt.scatter(TX[TY.reshape((-1)) == 0, 0], TX[TY.reshape((-1)) == 0, 1], marker = '.', c = \"b\")\n",
    "plt.plot([xmin, xmax], [- (linerg.A[0, 0] * xmin + linerg.A[2, 0] - 0.5) / linerg.A[1, 0] , - (linerg.A[0, 0] * xmax + linerg.A[2, 0] - 0.5) / linerg.A[1, 0]], c = \"black\")\n",
    "plt.title(\"Linear Regression - Data C\")\n",
    "plt.grid()\n",
    "plt.show()"
   ]
  },
  {
   "cell_type": "markdown",
   "metadata": {},
   "source": [
    "## QDA"
   ]
  },
  {
   "cell_type": "code",
   "execution_count": 27,
   "metadata": {},
   "outputs": [],
   "source": [
    "class qda:\n",
    "    \n",
    "    def __init__(self):\n",
    "        # avoid evaluation before training\n",
    "        self.flag_trained = False\n",
    "        \n",
    "    def train(self, X, Y):\n",
    "        N, N1 = len(X), Y.sum()\n",
    "        self.pi = float(N1) / N\n",
    "        self.mu_0 = ((X * (1 - Y)).sum(0) / (N - N1)).reshape((1, 2))\n",
    "        self.mu_1 = ((X * Y).sum(0) / N1).reshape((1, 2))\n",
    "        var_elem = X - (1 - Y) * self.mu_0 - Y * self.mu_1\n",
    "        mask_1 = (Y.reshape((-1)) == 1)\n",
    "        self.sigma_0 = np.matmul(var_elem[~mask_1].T, var_elem[~mask_1]) / (N - N1)\n",
    "        self.sigma_1 = np.matmul(var_elem[mask_1].T, var_elem[mask_1]) / N1\n",
    "        self.inv_sigma_0 = np.linalg.inv(self.sigma_0)\n",
    "        self.inv_sigma_1 = np.linalg.inv(self.sigma_1)\n",
    "        # Training finished\n",
    "        self.flag_trained = True\n",
    "        \n",
    "    def score(self, test_X, test_Y):\n",
    "        N = len(test_X)\n",
    "        pred_Y = self.test(test_X)\n",
    "        err = float(np.abs(pred_Y - test_Y).sum()) / N\n",
    "        print(\"The misclassification rate of the prediction is: %f\" % err)\n",
    "        \n",
    "    def test(self, test_X):\n",
    "        if self.flag_trained:\n",
    "            N = len(test_X)\n",
    "            avg_0, avg_1 = (test_X - self.mu_0), (test_X - self.mu_1) \n",
    "            pred_0, pred_1 = np.zeros((N, 3)), np.zeros((N, 3))\n",
    "            pred_0[:, 0] = (avg_0[:, 0] ** 2) * self.inv_sigma_0[0, 0]\n",
    "            pred_0[:, 1] = (avg_0[:, 1] ** 2) * self.inv_sigma_0[1, 1]\n",
    "            pred_0[:, 2] = 2 * avg_0.prod(1) * self.inv_sigma_0[0, 1]\n",
    "            pred_0 = np.exp(-0.5 * pred_0.sum(1)) * (1 - self.pi)\n",
    "\n",
    "            pred_1[:, 0] = (avg_1[:, 0] ** 2) * self.inv_sigma_1[0, 0]\n",
    "            pred_1[:, 1] = (avg_1[:, 1] ** 2) * self.inv_sigma_1[1, 1]\n",
    "            pred_1[:, 2] = 2 * avg_1.prod(1) * self.inv_sigma_1[0, 1]\n",
    "            pred_1 = np.exp(-0.5 * pred_1.sum(1)) * self.pi\n",
    "\n",
    "            pred = (pred_1 >= pred_0).reshape((-1, 1)).astype(int)\n",
    "            return pred\n",
    "        else:\n",
    "            print(\"Error! The classifier has not been trained yet!\")\n",
    "            \n",
    "    def find_boundary(self, x):\n",
    "        if self.flag_trained:\n",
    "            c = np.log(np.linalg.det(self.sigma_0)) - np.log(np.linalg.det(self.sigma_1)) + 2 * np.log(self.pi) - 2 * np.log(1 - self.pi)\n",
    "            u = self.inv_sigma_1[1, 1] - self.inv_sigma_0[1, 1]\n",
    "            v = -2 * self.inv_sigma_1[1, 1] * self.mu_1[0, 1] + 2 * self.inv_sigma_0[1, 1] * self.mu_0[0, 1] \\\n",
    "                + 2 * self.inv_sigma_1[0, 1] * (x - self.mu_1[0, 0]) - 2 * self.inv_sigma_0[0, 1] * (x - self.mu_0[0, 0])\n",
    "            w = c - self.inv_sigma_1[0, 0] * ((x - self.mu_1[0, 0]) ** 2) + self.inv_sigma_0[0, 0] * ((x - self.mu_0[0, 0]) ** 2) \\\n",
    "                + 2 * self.inv_sigma_1[0, 1] * self.mu_1[0, 1] * x - 2 * self.inv_sigma_0[0, 1] * self.mu_0[0, 1] * x \\\n",
    "                - self.inv_sigma_1[1, 1] * self.mu_1[0, 1] ** 2 + self.inv_sigma_0[1, 1] * self.mu_0[0, 1] ** 2 \\\n",
    "                - 2 * self.inv_sigma_1[0, 1] * self.mu_1.prod() + 2 * self.inv_sigma_0[0, 1] * self.mu_0.prod()\n",
    "            det = v ** 2 + 4 * u * w\n",
    "            mask = (det >= 0)\n",
    "            y0 = (-v[mask] + np.sqrt(det[mask])) / (2 * u)\n",
    "            y1 = (-v[mask] - np.sqrt(det[mask])) / (2 * u)\n",
    "            return (x[mask], y0, y1)\n",
    "        else:\n",
    "            print(\"Error! The classifier has not been trained yet!\")"
   ]
  },
  {
   "cell_type": "code",
   "execution_count": 52,
   "metadata": {},
   "outputs": [
    {
     "name": "stdout",
     "output_type": "stream",
     "text": [
      "---Train---\n",
      "The misclassification rate of the prediction is: 0.023333\n",
      "---Test---\n",
      "The misclassification rate of the prediction is: 0.023500\n"
     ]
    }
   ],
   "source": [
    "my_qda = qda()\n",
    "my_qda.train(X, Y)\n",
    "print(\"---Train---\")\n",
    "my_qda.score(X, Y)\n",
    "print(\"---Test---\")\n",
    "my_qda.score(TX, TY)"
   ]
  },
  {
   "cell_type": "code",
   "execution_count": 249,
   "metadata": {},
   "outputs": [
    {
     "data": {
      "image/png": "[encoded data removed]",
      "text/plain": [
       "<matplotlib.figure.Figure at 0x10aed0c10>"
      ]
     },
     "metadata": {},
     "output_type": "display_data"
    }
   ],
   "source": [
    "xmin, xmax = TX[:, 0].min(), TX[:, 0].max()\n",
    "grid_x = np.arange(xmin, xmax, (xmax - xmin) / 1000)\n",
    "grid_x, grid_y0, grid_y1 = my_qda.find_boundary(grid_x)\n",
    "plt.figure()\n",
    "plt.scatter(TX[TY.reshape((-1)) == 1, 0], TX[TY.reshape((-1)) == 1, 1], marker = '^', c = \"r\")\n",
    "plt.scatter(TX[TY.reshape((-1)) == 0, 0], TX[TY.reshape((-1)) == 0, 1], marker = '.', c = \"b\")\n",
    "plt.plot(grid_x, grid_y0, c = \"black\")\n",
    "plt.plot(grid_x, grid_y1, c = \"black\")\n",
    "plt.title(\"QDA - Data C\")\n",
    "plt.grid()\n",
    "plt.show()"
   ]
  }
 ],
 "metadata": {
  "kernelspec": {
   "display_name": "Python 3",
   "language": "python",
   "name": "python3"
  },
  "language_info": {
   "codemirror_mode": {
    "name": "ipython",
    "version": 3
   },
   "file_extension": ".py",
   "mimetype": "text/x-python",
   "name": "python",
   "nbconvert_exporter": "python",
   "pygments_lexer": "ipython3",
   "version": "3.7.0"
  }
 },
 "nbformat": 4,
 "nbformat_minor": 2
}
