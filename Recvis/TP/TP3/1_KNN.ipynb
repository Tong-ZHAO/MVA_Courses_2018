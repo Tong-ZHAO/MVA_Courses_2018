{
 "cells": [
  {
   "cell_type": "code",
   "execution_count": 1,
   "metadata": {},
   "outputs": [],
   "source": [
    "import torch\n",
    "import torch.nn as nn\n",
    "import torch.optim as optim\n",
    "from torch.optim import lr_scheduler\n",
    "\n",
    "import torchvision\n",
    "from torchvision import datasets, models, transforms\n",
    "\n",
    "import numpy as np\n",
    "import matplotlib.pyplot as plt\n",
    "import time\n",
    "import os\n",
    "import copy\n",
    "from PIL import Image, ImageFilter\n",
    "import random\n",
    "\n",
    "from collections import OrderedDict\n",
    "import time\n",
    "import datetime"
   ]
  },
  {
   "cell_type": "code",
   "execution_count": 2,
   "metadata": {},
   "outputs": [],
   "source": [
    "class Model_extractor:\n",
    "    \n",
    "    def __init__(self, model = 'resnet-101', layer = 'default', layer_output_size = 2048, cuda = True):\n",
    "        \n",
    "        \"\"\"The initialization of model extractor\n",
    "        \n",
    "        Params:\n",
    "            model (str): name of requested model\n",
    "            layer (str): decide which layer we extract\n",
    "            layer_output_size (int): depicting the output size of the requested layer\n",
    "            cuda (bool): if true, the model will run forward pass on GPU\n",
    "        \"\"\"\n",
    "        \n",
    "        self.device = torch.device(\"cuda\" if cuda else \"cpu\")\n",
    "        self.model, self.extraction_layer = self.get_model_and_layer(model, layer)\n",
    "        self.layer_output_size = layer_output_size\n",
    "        self.model = self.model.to(self.device)\n",
    "        self.model.eval()\n",
    "\n",
    "        self.scaler = transforms.Resize((224, 224))\n",
    "        self.normalize = transforms.Normalize(mean=[0.485, 0.456, 0.406],\n",
    "                                              std=[0.229, 0.224, 0.225])\n",
    "        self.to_tensor = transforms.ToTensor()\n",
    "        \n",
    "    def get_model_and_layer(self, model_name, layer):\n",
    "        \n",
    "        \"\"\" Internal method for getting layer from model\n",
    "        \n",
    "        Params:\n",
    "            model_name (str): model name\n",
    "            layer      (str): layer as a string for the model\n",
    "            \n",
    "        Returns:\n",
    "            model: the pretrained model\n",
    "            layer: the selected layer\n",
    "        \"\"\"\n",
    "        \n",
    "        if model_name == 'resnet-101':\n",
    "            model = models.resnet101(pretrained=True)\n",
    "            if layer == 'default':\n",
    "                layer = model._modules.get('avgpool')\n",
    "                self.layer_output_size = 2048\n",
    "            else:\n",
    "                layer = model._modules.get(layer)\n",
    "\n",
    "            return model, layer\n",
    "\n",
    "        elif model_name == 'alexnet':\n",
    "            model = models.alexnet(pretrained=True)\n",
    "            if layer == 'default':\n",
    "                layer = model.classifier[-2]\n",
    "                self.layer_output_size = 4096\n",
    "            else:\n",
    "                layer = model.classifier[-layer]\n",
    "\n",
    "            return model, layer\n",
    "\n",
    "        else:\n",
    "            raise KeyError('Model %s was not found' % model_name)\n",
    "            \n",
    "    def get_pretrained_feature(self, imgs, batch_size = 16, tensor = False, augment = True):\n",
    "        \n",
    "        n = len(imgs)\n",
    "        num_batch = int(np.ceil(float(n) / batch_size))\n",
    "        my_embeddings = []\n",
    "        \n",
    "        for i in range(num_batch  - 1):\n",
    "            my_embeddings.append(self.get_pretrained_feature_batch(imgs[i * batch_size: (i + 1) * batch_size], tensor, augment))\n",
    "            \n",
    "        my_embeddings.append(self.get_pretrained_feature_batch(imgs[(num_batch - 1) * batch_size:], tensor, augment))\n",
    "        \n",
    "        if tensor:\n",
    "            return torch.cat(my_embeddings)\n",
    "        else:\n",
    "            return np.vstack(my_embeddings)\n",
    "            \n",
    "\n",
    "    def get_pretrained_feature_batch(self, imgs, tensor, augment):\n",
    "        \n",
    "        nimgs = []\n",
    "\n",
    "        for img in imgs:\n",
    "            my_img = Image.open(img)\n",
    "            if augment:\n",
    "                new_imgs = [self.normalize(self.to_tensor(self.scaler(random_process(my_img)))).unsqueeze(0).to(self.device) for i in range(10)]\n",
    "            else:\n",
    "                new_imgs = [self.normalize(self.to_tensor(self.scaler(my_img))).unsqueeze(0).to(self.device)]\n",
    "            \n",
    "            nimgs = nimgs + new_imgs\n",
    "            \n",
    "        nimgs = torch.cat(nimgs)\n",
    "        \n",
    "        my_embedding = torch.zeros(len(imgs) * 10, self.layer_output_size, 1, 1) if augment else torch.zeros(len(imgs), self.layer_output_size, 1, 1)\n",
    "\n",
    "        def copy_data(m, i, o):\n",
    "            my_embedding.copy_(o.data)\n",
    "\n",
    "        h = self.extraction_layer.register_forward_hook(copy_data)\n",
    "        h_x = self.model(nimgs)\n",
    "        h.remove()\n",
    "\n",
    "        if tensor:\n",
    "            return np.squeeze(my_embedding)\n",
    "        else:\n",
    "            return my_embedding.numpy()[:, :, 0, 0]"
   ]
  },
  {
   "cell_type": "code",
   "execution_count": 3,
   "metadata": {},
   "outputs": [],
   "source": [
    "def random_process(image_array):\n",
    "    \n",
    "    method = np.random.randint(0, 4)\n",
    "    \n",
    "    if method == 0:\n",
    "        return random_crop(image_array)\n",
    "    elif method == 1:\n",
    "        return random_rotation(image_array)\n",
    "    elif method == 2:\n",
    "        return random_noise(image_array)\n",
    "    else:\n",
    "        return random_flip(image_array)\n",
    "\n",
    "def random_crop(image_array):\n",
    "    w, h = image_array.size\n",
    "    [start_x, start_y] = np.random.randint(0, 40, size = 2) / float(100)\n",
    "    [ratio_x, ratio_y] = np.random.randint(0, 20, size = 2) / float(100)\n",
    "    \n",
    "    end_x = min(w, int(start_x + w * ratio_x))\n",
    "    end_y = min(w, int(start_y + w * ratio_y))\n",
    "    \n",
    "    return image_array.crop([start_x, start_y, end_x, end_y])\n",
    "\n",
    "def random_rotation(image_array):\n",
    "    # pick a random degree of rotation between 25% on the left and 25% on the right\n",
    "    random_degree = random.uniform(-25, 25)\n",
    "    return image_array.rotate(random_degree)\n",
    "\n",
    "def random_noise(image_array):\n",
    "    # add random noise to the image\n",
    "    random_method = np.random.randint(0, 2)\n",
    "    \n",
    "    if random_method == 0:\n",
    "        return image_array.filter(ImageFilter.UnsharpMask())\n",
    "    elif random_method == 1:\n",
    "        return image_array.filter(ImageFilter.GaussianBlur(1))\n",
    "\n",
    "\n",
    "def random_flip(image_array):\n",
    "    # horizontal flip doesn't need skimage, it's easy as flipping the image array of pixels !\n",
    "    random_method = np.random.randint(0, 6)\n",
    "    return image_array.transpose(random_method)"
   ]
  },
  {
   "cell_type": "code",
   "execution_count": 4,
   "metadata": {},
   "outputs": [],
   "source": [
    "def read_labels(base_path):\n",
    "    \n",
    "    folders = os.listdir(os.path.join(base_path, \"train_images/\"))\n",
    "    folders.sort()\n",
    "    labels_idx = OrderedDict(zip(folders, range(len(folders))))\n",
    "    \n",
    "    return labels_idx"
   ]
  },
  {
   "cell_type": "code",
   "execution_count": 5,
   "metadata": {},
   "outputs": [],
   "source": [
    "def read_images(base_path, labels_idx, mode = \"train\", augment = True):\n",
    "    \n",
    "    folders = os.listdir(os.path.join(base_path, mode + \"_images/\"))\n",
    "    imgs, labels = [], []\n",
    "    \n",
    "    for folder in folders:\n",
    "        root = os.path.abspath(os.path.join(os.path.join(base_path, mode + \"_images\"), folder))\n",
    "        new_imgs = [os.path.join(root, file) for file in os.listdir(root)]\n",
    "            \n",
    "        if mode != \"test\":\n",
    "            imgs = imgs + new_imgs\n",
    "            labels = labels + [labels_idx[folder]] * (10 * len(new_imgs)) if augment else labels + [labels_idx[folder]] * len(new_imgs)\n",
    "        else:\n",
    "            imgs = new_imgs\n",
    "    \n",
    "    return (imgs, labels) if mode != \"test\" else imgs"
   ]
  },
  {
   "cell_type": "code",
   "execution_count": 6,
   "metadata": {},
   "outputs": [],
   "source": [
    "base_path = \"/home/pkq/tong/MVA/S1/objet/A3/bird_dataset/\""
   ]
  },
  {
   "cell_type": "code",
   "execution_count": 13,
   "metadata": {},
   "outputs": [],
   "source": [
    "labels_idx = read_labels(base_path)\n",
    "train_imgs, train_labels = read_images(base_path, labels_idx, augment = True)\n",
    "val_imgs, val_labels = read_images(base_path, labels_idx, mode = \"val\", augment = False)\n",
    "test_imgs = read_images(base_path, None, mode = \"test\", augment = False)"
   ]
  },
  {
   "cell_type": "code",
   "execution_count": 8,
   "metadata": {},
   "outputs": [],
   "source": [
    "ResNet101 = Model_extractor()"
   ]
  },
  {
   "cell_type": "code",
   "execution_count": 14,
   "metadata": {},
   "outputs": [],
   "source": [
    "train_features = ResNet101.get_pretrained_feature(train_imgs, batch_size = 2, tensor = False, augment = True)\n",
    "val_features = ResNet101.get_pretrained_feature(val_imgs, batch_size = 16, tensor = False, augment = False)\n",
    "test_features = ResNet101.get_pretrained_feature(test_imgs, batch_size = 16, tensor = False, augment = False)"
   ]
  },
  {
   "cell_type": "markdown",
   "metadata": {},
   "source": [
    "## KNN"
   ]
  },
  {
   "cell_type": "code",
   "execution_count": 13,
   "metadata": {},
   "outputs": [],
   "source": [
    "from sklearn.neighbors import KNeighborsClassifier"
   ]
  },
  {
   "cell_type": "code",
   "execution_count": 40,
   "metadata": {},
   "outputs": [
    {
     "data": {
      "image/png": "[encoded data removed]",
      "text/plain": [
       "<Figure size 432x288 with 1 Axes>"
      ]
     },
     "metadata": {
      "needs_background": "light"
     },
     "output_type": "display_data"
    },
    {
     "name": "stdout",
     "output_type": "stream",
     "text": [
      "Best K       :  150\n",
      "Best Accuracy:  0.8155339805825242\n"
     ]
    }
   ],
   "source": [
    "lk = [1, 5, 10, 50, 80, 100, 120, 150, 200, 300, 500, 1000]\n",
    "laccu = []\n",
    "\n",
    "for k in lk:\n",
    "    neigh = KNeighborsClassifier(n_neighbors = k, metric = \"cosine\")\n",
    "    neigh.fit(train_features, np.array(train_labels))\n",
    "    val_hat = neigh.predict(val_features)\n",
    "\n",
    "    laccu.append((val_hat == np.array(val_labels)).sum() / float(len(val_labels)))\n",
    "    \n",
    "plt.figure()\n",
    "plt.plot(lk, laccu, label = \"KNN\")\n",
    "#plt.plot([[lk[np.argmax(np.array(laccu))], min(laccu)], [lk[np.argmax(np.array(laccu))], max(laccu)]], marker='o')\n",
    "plt.xlabel(\"K\")\n",
    "plt.ylabel(\"Val Accuracy\")\n",
    "plt.title(\"KNN with Augmented Resnet101 Features\")\n",
    "plt.legend()\n",
    "plt.grid()\n",
    "plt.show()\n",
    "\n",
    "print(\"Best K       : \", lk[np.argmax(laccu)])\n",
    "print(\"Best Accuracy: \", np.max(laccu))"
   ]
  },
  {
   "cell_type": "code",
   "execution_count": 40,
   "metadata": {},
   "outputs": [
    {
     "data": {
      "text/plain": [
       "KNeighborsClassifier(algorithm='auto', leaf_size=30, metric='cosine',\n",
       "           metric_params=None, n_jobs=1, n_neighbors=100, p=2,\n",
       "           weights='uniform')"
      ]
     },
     "execution_count": 40,
     "metadata": {},
     "output_type": "execute_result"
    }
   ],
   "source": [
    "neigh = KNeighborsClassifier(n_neighbors = 100, metric = \"cosine\")\n",
    "neigh.fit(train_features, np.array(train_labels))"
   ]
  },
  {
   "cell_type": "code",
   "execution_count": 41,
   "metadata": {},
   "outputs": [
    {
     "data": {
      "text/plain": [
       "0.8252427184466019"
      ]
     },
     "execution_count": 41,
     "metadata": {},
     "output_type": "execute_result"
    }
   ],
   "source": [
    "val_hat = neigh.predict(val_features)\n",
    "(val_hat == np.array(val_labels)).sum() / float(len(val_labels))"
   ]
  },
  {
   "cell_type": "code",
   "execution_count": 75,
   "metadata": {},
   "outputs": [],
   "source": [
    "test_yhat = neigh.predict(test_features.numpy())"
   ]
  },
  {
   "cell_type": "markdown",
   "metadata": {},
   "source": [
    "## SVM"
   ]
  },
  {
   "cell_type": "code",
   "execution_count": 15,
   "metadata": {},
   "outputs": [],
   "source": [
    "from sklearn.svm import SVC"
   ]
  },
  {
   "cell_type": "code",
   "execution_count": 16,
   "metadata": {},
   "outputs": [
    {
     "data": {
      "image/png": "[encoded data removed]",
      "text/plain": [
       "<Figure size 432x288 with 1 Axes>"
      ]
     },
     "metadata": {
      "needs_background": "light"
     },
     "output_type": "display_data"
    },
    {
     "name": "stdout",
     "output_type": "stream",
     "text": [
      "Best C       :  1\n",
      "Best Accuracy:  0.8640776699029126\n"
     ]
    }
   ],
   "source": [
    "lc = [0.0001 ,0.001, 0.1, 1, 10, 100, 1000]\n",
    "laccu = []\n",
    "\n",
    "for c in lc:\n",
    "    clf = SVC(C = c, gamma = 'auto')\n",
    "    clf.fit(train_features, np.array(train_labels))\n",
    "    val_hat = clf.predict(val_features)\n",
    "\n",
    "    laccu.append((val_hat == np.array(val_labels)).sum() / float(len(val_labels)))\n",
    "    \n",
    "plt.figure()\n",
    "plt.plot(np.log(lc), laccu)\n",
    "#plt.plot([[lk[np.argmax(np.array(laccu))], min(laccu)], [lk[np.argmax(np.array(laccu))], max(laccu)]], marker='o')\n",
    "plt.xlabel(\"C\")\n",
    "plt.ylabel(\"Val Accuracy\")\n",
    "plt.title(\"SVM with Resnet101 Features\")\n",
    "plt.grid()\n",
    "plt.show()\n",
    "\n",
    "print(\"Best C       : \", lc[np.argmax(laccu)])\n",
    "print(\"Best Accuracy: \", np.max(laccu))"
   ]
  },
  {
   "cell_type": "code",
   "execution_count": 50,
   "metadata": {},
   "outputs": [
    {
     "data": {
      "text/plain": [
       "0.8543689320388349"
      ]
     },
     "execution_count": 50,
     "metadata": {},
     "output_type": "execute_result"
    }
   ],
   "source": [
    "clf = SVC(C = 0.5, gamma = 'auto')\n",
    "clf.fit(train_features, np.array(train_labels))\n",
    "val_hat = clf.predict(val_features)\n",
    "(val_hat == np.array(val_labels)).sum() / float(len(val_labels))"
   ]
  },
  {
   "cell_type": "code",
   "execution_count": 53,
   "metadata": {},
   "outputs": [],
   "source": [
    "test_yhat = clf.predict(test_features)"
   ]
  },
  {
   "cell_type": "markdown",
   "metadata": {},
   "source": [
    "## Xgboost"
   ]
  },
  {
   "cell_type": "code",
   "execution_count": 12,
   "metadata": {},
   "outputs": [],
   "source": [
    "import xgboost as xgb"
   ]
  },
  {
   "cell_type": "code",
   "execution_count": 13,
   "metadata": {},
   "outputs": [],
   "source": [
    "dtrain = xgb.DMatrix(train_features, label = train_labels)\n",
    "dval = xgb.DMatrix(val_features, label = val_labels)"
   ]
  },
  {
   "cell_type": "code",
   "execution_count": 27,
   "metadata": {},
   "outputs": [],
   "source": [
    "param = {'max_depth': 2, 'eta': 0.1, 'silent': 1, 'objective': 'multi:softmax'}\n",
    "param['nthread'] = 4\n",
    "param['num_class'] = 20\n",
    "param['eval_metric'] = 'merror'\n",
    "\n",
    "evallist = [(dval, 'eval'), (dtrain, 'train')]"
   ]
  },
  {
   "cell_type": "code",
   "execution_count": 29,
   "metadata": {},
   "outputs": [
    {
     "name": "stdout",
     "output_type": "stream",
     "text": [
      "[0]\teval-merror:0.38835\ttrain-merror:0.516189\n",
      "[1]\teval-merror:0.378641\ttrain-merror:0.444866\n",
      "[2]\teval-merror:0.349515\ttrain-merror:0.397317\n",
      "[3]\teval-merror:0.359223\ttrain-merror:0.362165\n",
      "[4]\teval-merror:0.330097\ttrain-merror:0.332655\n",
      "[5]\teval-merror:0.31068\ttrain-merror:0.309343\n",
      "[6]\teval-merror:0.271845\ttrain-merror:0.287697\n",
      "[7]\teval-merror:0.291262\ttrain-merror:0.268085\n",
      "[8]\teval-merror:0.291262\ttrain-merror:0.252729\n",
      "[9]\teval-merror:0.300971\ttrain-merror:0.239223\n",
      "[10]\teval-merror:0.291262\ttrain-merror:0.219981\n",
      "[11]\teval-merror:0.281553\ttrain-merror:0.207216\n",
      "[12]\teval-merror:0.281553\ttrain-merror:0.193525\n",
      "[13]\teval-merror:0.281553\ttrain-merror:0.181221\n",
      "[14]\teval-merror:0.262136\ttrain-merror:0.173636\n",
      "[15]\teval-merror:0.271845\ttrain-merror:0.16161\n",
      "[16]\teval-merror:0.262136\ttrain-merror:0.152544\n",
      "[17]\teval-merror:0.271845\ttrain-merror:0.141813\n",
      "[18]\teval-merror:0.281553\ttrain-merror:0.133025\n",
      "[19]\teval-merror:0.271845\ttrain-merror:0.125532\n",
      "[20]\teval-merror:0.281553\ttrain-merror:0.116004\n",
      "[21]\teval-merror:0.271845\ttrain-merror:0.109066\n",
      "[22]\teval-merror:0.262136\ttrain-merror:0.101295\n",
      "[23]\teval-merror:0.252427\ttrain-merror:0.095837\n",
      "[24]\teval-merror:0.252427\ttrain-merror:0.088899\n",
      "[25]\teval-merror:0.242718\ttrain-merror:0.082701\n",
      "[26]\teval-merror:0.252427\ttrain-merror:0.077521\n",
      "[27]\teval-merror:0.262136\ttrain-merror:0.07123\n",
      "[28]\teval-merror:0.262136\ttrain-merror:0.064662\n",
      "[29]\teval-merror:0.262136\ttrain-merror:0.0605\n",
      "[30]\teval-merror:0.262136\ttrain-merror:0.056337\n",
      "[31]\teval-merror:0.262136\ttrain-merror:0.053654\n",
      "[32]\teval-merror:0.262136\ttrain-merror:0.050139\n",
      "[33]\teval-merror:0.262136\ttrain-merror:0.046716\n",
      "[34]\teval-merror:0.252427\ttrain-merror:0.043478\n",
      "[35]\teval-merror:0.271845\ttrain-merror:0.03987\n",
      "[36]\teval-merror:0.271845\ttrain-merror:0.037743\n",
      "[37]\teval-merror:0.271845\ttrain-merror:0.035523\n",
      "[38]\teval-merror:0.271845\ttrain-merror:0.034228\n",
      "[39]\teval-merror:0.262136\ttrain-merror:0.0321\n",
      "[40]\teval-merror:0.262136\ttrain-merror:0.030157\n",
      "[41]\teval-merror:0.242718\ttrain-merror:0.029602\n",
      "[42]\teval-merror:0.262136\ttrain-merror:0.028307\n",
      "[43]\teval-merror:0.262136\ttrain-merror:0.027752\n",
      "[44]\teval-merror:0.252427\ttrain-merror:0.026364\n",
      "[45]\teval-merror:0.242718\ttrain-merror:0.025809\n",
      "[46]\teval-merror:0.242718\ttrain-merror:0.025532\n",
      "[47]\teval-merror:0.242718\ttrain-merror:0.025162\n",
      "[48]\teval-merror:0.23301\ttrain-merror:0.024977\n",
      "[49]\teval-merror:0.23301\ttrain-merror:0.024422\n"
     ]
    }
   ],
   "source": [
    "num_round = 50\n",
    "bst = xgb.train(param, dtrain, num_round, evallist)"
   ]
  },
  {
   "cell_type": "code",
   "execution_count": 32,
   "metadata": {},
   "outputs": [],
   "source": [
    "dtest = xgb.DMatrix(test_features)\n",
    "test_yhat = bst.predict(dtest).astype(int)"
   ]
  },
  {
   "cell_type": "markdown",
   "metadata": {},
   "source": [
    "## Write Result"
   ]
  },
  {
   "cell_type": "code",
   "execution_count": 36,
   "metadata": {},
   "outputs": [],
   "source": [
    "def write_file(file_path, file_name, test_imgs, test_yhat):\n",
    "    \n",
    "    timestamp = datetime.datetime.fromtimestamp(time.time()).strftime('%Y-%m-%d_%H:%M:%S')\n",
    "    with open(os.path.join(file_path, file_name + timestamp + \".csv\"), \"w\") as fp:\n",
    "        fp.write(\"Id,Category\\n\")\n",
    "        for i in range(len(test_imgs)):\n",
    "            fp.write(test_imgs[i].split(\"/\")[-1][:-4] + \",\" + str(test_yhat[i]) + \"\\n\")"
   ]
  },
  {
   "cell_type": "code",
   "execution_count": 37,
   "metadata": {},
   "outputs": [],
   "source": [
    "write_file(\"results/\", \"baseline\", test_imgs, test_yhat)"
   ]
  }
 ],
 "metadata": {
  "kernelspec": {
   "display_name": "Python 3",
   "language": "python",
   "name": "python3"
  },
  "language_info": {
   "codemirror_mode": {
    "name": "ipython",
    "version": 3
   },
   "file_extension": ".py",
   "mimetype": "text/x-python",
   "name": "python",
   "nbconvert_exporter": "python",
   "pygments_lexer": "ipython3",
   "version": "3.6.6"
  }
 },
 "nbformat": 4,
 "nbformat_minor": 2
}
