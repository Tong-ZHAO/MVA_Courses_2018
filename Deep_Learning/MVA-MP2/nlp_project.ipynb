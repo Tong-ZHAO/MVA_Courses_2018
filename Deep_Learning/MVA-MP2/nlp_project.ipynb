{
 "cells": [
  {
   "cell_type": "markdown",
   "metadata": {},
   "source": [
    "# Deep Learning for NLP - Project"
   ]
  },
  {
   "cell_type": "markdown",
   "metadata": {},
   "source": [
    "RULES:\n",
    "\n",
    "* Do not create any additional cell\n",
    "\n",
    "* Fill in the blanks\n",
    "\n",
    "* All cells should be runnable (modulo trivial compatibility bugs that we'd fix)\n",
    "\n",
    "* 4 / 20 points will be allocated to the clarity of your code\n",
    "\n",
    "* Efficient code will have a bonus\n",
    "\n",
    "DELIVERABLE:\n",
    "\n",
    "* this notebook\n",
    "* the predictions of the SST test set\n",
    "\n",
    "DO NOT INCLUDE THE DATASETS IN THE DELIVERABLE.."
   ]
  },
  {
   "cell_type": "code",
   "execution_count": 1,
   "metadata": {},
   "outputs": [],
   "source": [
    "import io\n",
    "import os\n",
    "import numpy as np\n",
    "import scipy\n",
    "\n",
    "from collections import defaultdict"
   ]
  },
  {
   "cell_type": "code",
   "execution_count": 2,
   "metadata": {},
   "outputs": [],
   "source": [
    "PATH_TO_DATA = \"data/\""
   ]
  },
  {
   "cell_type": "markdown",
   "metadata": {},
   "source": [
    "# 1) Monolingual (English) word embeddings "
   ]
  },
  {
   "cell_type": "code",
   "execution_count": 3,
   "metadata": {},
   "outputs": [],
   "source": [
    "class Word2vec():\n",
    "    def __init__(self, fname, nmax=100000):\n",
    "        self.load_wordvec(fname, nmax)\n",
    "        self.word2id = {v: k for k, v in enumerate(self.word2vec.keys())}\n",
    "        self.id2word = {v: k for k, v in self.word2id.items()}\n",
    "        self.embeddings = np.array(list(self.word2vec.values()))\n",
    "    \n",
    "    def load_wordvec(self, fname, nmax):\n",
    "        self.word2vec = {}\n",
    "        with io.open(fname, encoding='utf-8') as f:\n",
    "            next(f)\n",
    "            for i, line in enumerate(f):\n",
    "                word, vec = line.split(' ', 1)\n",
    "                self.word2vec[word] = np.fromstring(vec, sep=' ')\n",
    "                if i == (nmax - 1):\n",
    "                    break\n",
    "        print('Loaded %s pretrained word vectors' % (len(self.word2vec)))\n",
    "\n",
    "    def most_similar(self, w, K=5):\n",
    "        # K most similar words: self.score  -  np.argsort \n",
    "        word_sims = np.apply_along_axis(lambda x: self.score(w, x), 1, self.embeddings)\n",
    "        idx = np.argsort(-word_sims)[:K]\n",
    "        words = [self.id2word[my_id] for my_id in idx]\n",
    "        return words\n",
    "\n",
    "    def score(self, w1, w2):\n",
    "        # cosine similarity: np.dot  -  np.linalg.norm\n",
    "        embed1 = self.word2vec[w1] if type(w1) == str else w1\n",
    "        embed2 = self.word2vec[w2] if type(w2) == str else w2\n",
    "        return np.dot(embed1, embed2) / (np.linalg.norm(embed1) * np.linalg.norm(embed2))"
   ]
  },
  {
   "cell_type": "code",
   "execution_count": 5,
   "metadata": {},
   "outputs": [
    {
     "name": "stdout",
     "output_type": "stream",
     "text": [
      "Loaded 200000 pretrained word vectors\n",
      "cat dog 0.671683666279249\n",
      "dog pet 0.6842064029669219\n",
      "dogs cats 0.7074389328052403\n",
      "paris france 0.7775108541288558\n",
      "germany berlin 0.7420295235998394\n",
      "['cat', 'cats', 'kitty', 'kitten', 'feline']\n",
      "['dog', 'dogs', 'puppy', 'Dog', 'doggie']\n",
      "['dogs', 'dog', 'pooches', 'Dogs', 'doggies']\n",
      "['paris', 'france', 'Paris', 'parisian', 'london']\n",
      "['germany', 'austria', 'europe', 'german', 'berlin']\n"
     ]
    }
   ],
   "source": [
    "w2v = Word2vec(os.path.join(PATH_TO_DATA, 'crawl-300d-200k.vec'), nmax=200000)\n",
    "\n",
    "# You will be evaluated on the output of the following:\n",
    "for w1, w2 in zip(('cat', 'dog', 'dogs', 'paris', 'germany'), ('dog', 'pet', 'cats', 'france', 'berlin')):\n",
    "    print(w1, w2, w2v.score(w1, w2))\n",
    "for w1 in ['cat', 'dog', 'dogs', 'paris', 'germany']:\n",
    "    print(w2v.most_similar(w1))"
   ]
  },
  {
   "cell_type": "code",
   "execution_count": 4,
   "metadata": {},
   "outputs": [],
   "source": [
    "class BoV():\n",
    "    def __init__(self, w2v):\n",
    "        self.w2v = w2v\n",
    "    \n",
    "    def encode(self, sentences, idf=False):\n",
    "        # takes a list of sentences, outputs a numpy array of sentence embeddings\n",
    "        # see TP1 for help\n",
    "        sentemb = []\n",
    "\n",
    "        for sent in sentences:\n",
    "            # invert each word to the correponding embedding\n",
    "            words = sent.split()\n",
    "            if idf is False:\n",
    "                # return mean embedding\n",
    "                sent_emb = np.vstack([self.w2v.word2vec[word] for word in words if word in self.w2v.word2vec])\n",
    "                sentemb.append(sent_emb.mean(0))\n",
    "            else:\n",
    "                # return idf-weighted mean of word vectors\n",
    "                sent_emb = np.vstack([self.w2v.word2vec[word] for word in words if word in self.w2v.word2vec])\n",
    "                sent_weights = [idf.get(word, 0) for word in words if word in self.w2v.word2vec]\n",
    "                sentemb.append(np.ma.average(sent_emb, axis = 0, weights = sent_weights))\n",
    "                \n",
    "        return np.squeeze(np.vstack(sentemb))\n",
    "\n",
    "    def most_similar(self, s, sentences, idf=False, K=5):\n",
    "        # get most similar sentences and **print** them\n",
    "        keys = self.encode(sentences, idf)\n",
    "        query = self.encode([s], idf)\n",
    "        \n",
    "        sent_sims = np.apply_along_axis(lambda x: self.score(query, x, idf), 1, keys)\n",
    "        idx = np.argsort(-sent_sims)[:K]\n",
    "        sents = [sentences[my_id] for my_id in idx]\n",
    "        \n",
    "        return sents\n",
    "\n",
    "    def score(self, s1, s2, idf=False):\n",
    "        # cosine similarity: use   np.dot  and  np.linalg.norm\n",
    "        code1 = self.encode([s1], idf) if type(s1) == str else s1\n",
    "        code2 = self.encode([s2], idf) if type(s2) == str else s2\n",
    "        return np.dot(code1, code2) / (np.linalg.norm(code1) * np.linalg.norm(code2))\n",
    "    \n",
    "    def build_idf(self, sentences):\n",
    "        # build the idf dictionary: associate each word to its idf value\n",
    "        idf = {}\n",
    "        N = float(len(sentences))\n",
    "\n",
    "        for sent in sentences:\n",
    "            for w in set(sent.split()):\n",
    "                idf[w] = idf.get(w, 0) + 1\n",
    "                \n",
    "        idf = dict(map(lambda item: (item[0], max(1, np.log10(N / item[1]))), idf.items()))\n",
    "        # max(1, np.log10(len(sentences) / (idf[word])))\n",
    "        return idf"
   ]
  },
  {
   "cell_type": "code",
   "execution_count": 8,
   "metadata": {},
   "outputs": [
    {
     "name": "stdout",
     "output_type": "stream",
     "text": [
      "Loaded 200000 pretrained word vectors\n",
      "['1 smiling african american boy . ', 'an african american man smiling . ', 'a little african american boy and girl looking up . ', 'an afican american woman standing behind two small african american children . ', 'an african american man is sitting . ']\n",
      "0.5726258859719607\n",
      "['1 smiling african american boy . ', 'an african american man smiling . ', 'an african american man is sitting . ', 'a little african american boy and girl looking up . ', 'an afican american woman standing behind two small african american children . ']\n",
      "0.4751450875368781\n"
     ]
    }
   ],
   "source": [
    "w2v = Word2vec(os.path.join(PATH_TO_DATA, 'crawl-300d-200k.vec'), nmax=200000)\n",
    "s2v = BoV(w2v)\n",
    "\n",
    "# Load sentences in \"PATH_TO_DATA/sentences.txt\"\n",
    "with open(os.path.join(PATH_TO_DATA, 'sentences.txt'), \"r\") as fp:\n",
    "    sentences = fp.read().split(\"\\n\")[:-1]\n",
    "\n",
    "# You will be evaluated on the output of the following:\n",
    "print(s2v.most_similar('' if not sentences else sentences[10], sentences))  # BoV-mean\n",
    "print(s2v.score('' if not sentences else sentences[7], '' if not sentences else sentences[13]))\n",
    "\n",
    "idf = s2v.build_idf(sentences) \n",
    "print(s2v.most_similar('' if not sentences else sentences[10], sentences, idf)) # BoV-idf\n",
    "print(s2v.score('' if not sentences else sentences[7], '' if not sentences else sentences[13], idf))"
   ]
  },
  {
   "cell_type": "markdown",
   "metadata": {},
   "source": [
    "# 2) Multilingual (English-French) word embeddings"
   ]
  },
  {
   "cell_type": "markdown",
   "metadata": {},
   "source": [
    "Let's consider a bilingual dictionary of size V_a (e.g French-English).\n",
    "\n",
    "Let's define **X** and **Y** the **French** and **English** matrices.\n",
    "\n",
    "They contain the embeddings associated to the words in the bilingual dictionary.\n",
    "\n",
    "We want to find a **mapping W** that will project the source word space (e.g French) to the target word space (e.g English).\n",
    "\n",
    "Procrustes : **W\\* = argmin || W.X - Y ||  s.t  W^T.W = Id**\n",
    "has a closed form solution:\n",
    "**W = U.V^T  where  U.Sig.V^T = SVD(Y.X^T)**\n",
    "\n",
    "In what follows, you are asked to: "
   ]
  },
  {
   "cell_type": "code",
   "execution_count": null,
   "metadata": {},
   "outputs": [],
   "source": [
    "# 1 - Download and load 50k first vectors of\n",
    "#     https://s3-us-west-1.amazonaws.com/fasttext-vectors/wiki.en.vec\n",
    "#     https://s3-us-west-1.amazonaws.com/fasttext-vectors/wiki.fr.vec\n",
    "\n",
    "# TYPE CODE HERE\n",
    "!curl -Lo data/wiki.en.vec https://s3-us-west-1.amazonaws.com/fasttext-vectors/wiki.en.vec\n",
    "!curl -Lo data/wiki.fr.vec https://s3-us-west-1.amazonaws.com/fasttext-vectors/wiki.fr.vec"
   ]
  },
  {
   "cell_type": "code",
   "execution_count": 5,
   "metadata": {},
   "outputs": [],
   "source": [
    "# 2 - Get words that appear in both vocabs (= identical character strings)\n",
    "#     Use it to create the matrix X and Y (of aligned embeddings for these words)\n",
    "\n",
    "def get_identical_words(file_en, file_fr, max_len = 1000000):\n",
    "    \"\"\"Find identical words in two vector gloves\n",
    "    \n",
    "    Params:\n",
    "        file_en: the english word embedding\n",
    "        file_fr: the french word embedding\n",
    "        max_len: maximum identical word number\n",
    "        \n",
    "    Return:\n",
    "        id_words: a dict mapping word to index\n",
    "    \"\"\"\n",
    "    \n",
    "    words = defaultdict(int)\n",
    "    \n",
    "    with open(file_fr, \"r\") as fp:\n",
    "        next(fp)\n",
    "        for line in fp:\n",
    "            words[line.split(' ')[0]] += 1\n",
    "            \n",
    "    with open(file_en, \"r\") as fp:\n",
    "        next(fp)\n",
    "        for line in fp:\n",
    "            word = line.split(' ')[0]\n",
    "            if word in words:\n",
    "                words[word] += 1\n",
    "                \n",
    "    id_words = [key for key, val in words.items() if val == 2]\n",
    "\n",
    "    if len(id_words) > max_len:\n",
    "        id_words = id_words[:max_len]\n",
    "\n",
    "    return dict(zip(id_words, range(len(id_words))))\n",
    "\n",
    "\n",
    "def get_identical_vecs(file_en, file_fr, id_words, vec_len = 300):\n",
    "    \"\"\"Load vector embeddings given identical words\n",
    "    \n",
    "    Params:\n",
    "        file_en: the english word embedding\n",
    "        file_fr: the french word embedding\n",
    "        id_words: a dict mapping word to index\n",
    "        vec_len: the feature dimension for each embedding\n",
    "    \n",
    "    Returns:\n",
    "        mat_en: (vec_len, num_words), the embedding for english words\n",
    "        mat_fr: (vec_len, num_words), the embedding for french words\n",
    "    \"\"\"\n",
    "    \n",
    "    num_words = len(id_words)\n",
    "    mat_en, mat_fr = np.zeros((num_words, vec_len)), np.zeros((num_words, vec_len))\n",
    "    \n",
    "    with open(file_en, \"r\") as fp:\n",
    "        next(fp)\n",
    "        for line in fp:\n",
    "            word, vec = line.split(' ', 1)\n",
    "            if word in id_words:\n",
    "                mat_en[id_words[word]] = np.fromstring(vec, sep = ' ')\n",
    "    \n",
    "    with open(file_fr, \"r\") as fp:\n",
    "        next(fp)\n",
    "        for line in fp:\n",
    "            word, vec = line.split(' ', 1)\n",
    "            if word in id_words:\n",
    "                mat_fr[id_words[word]] = np.fromstring(vec, sep = ' ')\n",
    "                          \n",
    "    return mat_en.T, mat_fr.T\n",
    "\n",
    "# file path\n",
    "file_en = os.path.join(PATH_TO_DATA, 'wiki.en.vec')\n",
    "file_fr = os.path.join(PATH_TO_DATA, 'wiki.fr.vec')\n",
    "# load identical embeddings\n",
    "word_idx = get_identical_words(file_en, file_fr)\n",
    "mat_en, mat_fr = get_identical_vecs(file_en, file_fr, word_idx)"
   ]
  },
  {
   "cell_type": "code",
   "execution_count": 6,
   "metadata": {},
   "outputs": [],
   "source": [
    "# 3 - Solve the Procrustes using the scipy package and: scipy.linalg.svd() and get the optimal W\n",
    "#     Now W*French_vector is in the same space as English_vector\n",
    "\n",
    "from scipy.linalg import svd\n",
    "\n",
    "def calc_weight(mat_source, mat_target):\n",
    "    \"\"\"Calculate word alignment matrix W\n",
    "    \n",
    "    Params:\n",
    "        mat_source: of size vec_len * num_word\n",
    "        mat_target: of size vec_len * num_word\n",
    "        \n",
    "    Return:\n",
    "        W: word alignment matrix of size vec_len * vec_len\n",
    "    \"\"\"\n",
    "    U, _, Vh = svd(mat_target.dot(mat_source.T))\n",
    "    W = U.dot(Vh)\n",
    "    \n",
    "    return W\n",
    "\n",
    "def cosine_similarity(x1, x2):\n",
    "\n",
    "    return np.dot(x1, x2) / (np.linalg.norm(x1) * np.linalg.norm(x2))\n",
    "\n",
    "def find_nearest_neigbors(target, mat_proj, mat_target, dict_idx_word, dict_word_idx, K):\n",
    "    \"\"\"Find K nearest neighbors of a word after word alignment\n",
    "    \n",
    "    Params:\n",
    "        target: the target word\n",
    "        mat_proj: the alignment embedding\n",
    "        mat_target: the target embedding\n",
    "        dict_idx_word: a dict mapping index to word\n",
    "        dict_word_idx: a dict mapping word to index\n",
    "        K: number of similar words\n",
    "    \n",
    "    Returns:\n",
    "        match_words: the nearest K similar words\n",
    "    \"\"\"\n",
    "    \n",
    "    idx = dict_word_idx[target]\n",
    "    vec = mat_proj[:, idx].reshape((-1,))\n",
    "    \n",
    "    cos_sim = np.apply_along_axis(lambda x: cosine_similarity(vec, x), 0, mat_target)\n",
    "    match_idx = np.argsort(-cos_sim)[:K]\n",
    "    match_words = [dict_idx_word[idx] for idx in match_idx]\n",
    "    \n",
    "    return match_words\n",
    "\n",
    "W_fr_en = calc_weight(mat_fr, mat_en)\n",
    "proj_fr_en = W_fr_en.dot(mat_fr)\n",
    "\n",
    "W_en_fr = calc_weight(mat_en, mat_fr)\n",
    "proj_en_fr = W_en_fr.dot(mat_en)\n",
    "\n",
    "idx_word = dict(zip(word_idx.values(), word_idx.keys()))"
   ]
  },
  {
   "cell_type": "code",
   "execution_count": 11,
   "metadata": {},
   "outputs": [
    {
     "name": "stdout",
     "output_type": "stream",
     "text": [
      "French -> English\n",
      "Nearest Neighbors for et: and, couverts, visées, pacifiques, pité\n",
      "Nearest Neighbors for famille: family, nemouridae, †family, dynastidae, dipluridae\n",
      "Nearest Neighbors for france: france, francefrance, orléanaise, europe/luxembourg, france»\n",
      "Nearest Neighbors for ville: city, town, cities, suburb, towns\n",
      "Nearest Neighbors for pays: countries, netherlands, country, regions, provinces\n",
      "\n",
      "English -> French\n",
      "Nearest Neighbors for speak: parlé, parlent, parlée, parler, parlant\n",
      "Nearest Neighbors for ship: navire, navires, ship, frégate, croiseur\n",
      "Nearest Neighbors for trip: voyage, excursion, voyagers, périple, excursions\n",
      "Nearest Neighbors for zoom: zoom, zoomshot, megapixels, superzoom, megapixel\n",
      "Nearest Neighbors for fat: fat, stuffed, graisse, blowjobs, smoothed\n"
     ]
    }
   ],
   "source": [
    "# 4 - After alignment with W, give examples of English nearest neighbors of some French words (and vice versa)\n",
    "#     You will be evaluated on that part and the code above\n",
    "\n",
    "fr_words = [\"et\", \"famille\", \"france\", \"ville\", \"pays\"]\n",
    "en_words = [\"speak\", \"ship\", \"trip\", \"zoom\", \"fat\"]\n",
    "\n",
    "print(\"French -> English\")\n",
    "\n",
    "for word in fr_words:\n",
    "    nbs = find_nearest_neigbors(word, proj_fr_en, mat_en, idx_word, word_idx, 5)\n",
    "    print(\"Nearest Neighbors for %s: %s\" % (word, \", \".join(nbs)))\n",
    "\n",
    "print(\"\\nEnglish -> French\")\n",
    "\n",
    "for word in en_words:\n",
    "    nbs = find_nearest_neigbors(word, proj_en_fr, mat_fr, idx_word, word_idx, 5)\n",
    "    print(\"Nearest Neighbors for %s: %s\" % (word, \", \".join(nbs)))"
   ]
  },
  {
   "cell_type": "markdown",
   "metadata": {},
   "source": [
    "If you want to dive deeper on this subject: https://github.com/facebookresearch/MUSE"
   ]
  },
  {
   "cell_type": "markdown",
   "metadata": {},
   "source": [
    "# 3) Sentence classification with BoV and scikit-learn"
   ]
  },
  {
   "cell_type": "code",
   "execution_count": 5,
   "metadata": {},
   "outputs": [],
   "source": [
    "# 1 - Load train/dev/test of Stanford Sentiment TreeBank (SST)\n",
    "#     (https://nlp.stanford.edu/~socherr/EMNLP2013_RNTN.pdf)\n",
    "\n",
    "def read_file(fp_name, label = True):\n",
    "    \"\"\"Read dataset from disk\n",
    "    \n",
    "    Params:\n",
    "        fp_name: the file path\n",
    "        label: if train/dev, set to True, if test, set to False\n",
    "        \n",
    "    Return:\n",
    "        sentences: dataset\n",
    "        labels: groundtruth\n",
    "    \n",
    "    \"\"\"\n",
    "    with open(fp_name, \"r\") as fp:\n",
    "        fp_line = fp.read().split(\"\\n\")[:-1]\n",
    "        \n",
    "        if label:\n",
    "            labels = np.array([int(line[0]) for line in fp_line])\n",
    "            sentences = [line[2:] for line in fp_line]\n",
    "            return sentences, labels\n",
    "        else:\n",
    "            return fp_line\n",
    "\n",
    "train_sents, train_labels = read_file(os.path.join(PATH_TO_DATA, \"SST/stsa.fine.train\"), True)\n",
    "dev_sents, dev_labels = read_file(os.path.join(PATH_TO_DATA, \"SST/stsa.fine.dev\"), True)\n",
    "test_sents = read_file(os.path.join(PATH_TO_DATA, \"SST/stsa.fine.test.X\"), False)"
   ]
  },
  {
   "cell_type": "code",
   "execution_count": 15,
   "metadata": {},
   "outputs": [
    {
     "name": "stdout",
     "output_type": "stream",
     "text": [
      "Loaded 200000 pretrained word vectors\n"
     ]
    }
   ],
   "source": [
    "# 2 - Encode sentences with the BoV model above\n",
    "\n",
    "w2v = Word2vec(os.path.join(PATH_TO_DATA, 'crawl-300d-200k.vec'), nmax = 200000)\n",
    "s2v = BoV(w2v)\n",
    "\n",
    "idf = s2v.build_idf(train_sents + dev_sents) \n",
    "\n",
    "train_mat = s2v.encode(train_sents)\n",
    "dev_mat = s2v.encode(dev_sents)\n",
    "test_mat = s2v.encode(test_sents)\n",
    "\n",
    "train_mat_idf = s2v.encode(train_sents, idf)\n",
    "dev_mat_idf = s2v.encode(dev_sents, idf)\n",
    "test_mat_idf = s2v.encode(test_sents, idf)"
   ]
  },
  {
   "cell_type": "code",
   "execution_count": 32,
   "metadata": {},
   "outputs": [
    {
     "data": {
      "image/png": "[encoded data removed]",
      "text/plain": [
       "<Figure size 432x288 with 1 Axes>"
      ]
     },
     "metadata": {
      "needs_background": "light"
     },
     "output_type": "display_data"
    },
    {
     "data": {
      "text/plain": [
       "LogisticRegression(C=0.8, class_weight=None, dual=False, fit_intercept=True,\n",
       "          intercept_scaling=1, max_iter=500, multi_class='auto',\n",
       "          n_jobs=None, penalty='l2', random_state=None, solver='lbfgs',\n",
       "          tol=0.0001, verbose=0, warm_start=False)"
      ]
     },
     "execution_count": 32,
     "metadata": {},
     "output_type": "execute_result"
    }
   ],
   "source": [
    "# 3 - Learn Logistic Regression on top of sentence embeddings using scikit-learn\n",
    "#     (consider tuning the L2 regularization on the dev set)\n",
    "\n",
    "from sklearn.linear_model import LogisticRegression\n",
    "import matplotlib.pyplot as plt\n",
    "%matplotlib inline\n",
    "\n",
    "def grid_search(lc, train_mat, train_labels, dev_mat, dev_labels):\n",
    "    \n",
    "    lscore = []\n",
    "    \n",
    "    for c in lc:\n",
    "        clf = LogisticRegression(C = c, multi_class = \"auto\", solver = 'lbfgs', max_iter = 500)\n",
    "        clf.fit(train_mat, train_labels)\n",
    "        score = clf.score(dev_mat, dev_labels)\n",
    "        lscore.append(score)\n",
    "        \n",
    "    best_score = max(lscore)\n",
    "    best_c = lc[np.argmax(lscore)]\n",
    "    \n",
    "    plt.figure()\n",
    "    plt.plot(lc, lscore)\n",
    "    plt.title(\"Best C: %f, Best Score: %f\" % (best_c, best_score))\n",
    "    plt.xlabel(\"C\")\n",
    "    plt.ylabel(\"Score\")\n",
    "    plt.grid()\n",
    "    plt.show()\n",
    "    \n",
    "        \n",
    "    return best_score, best_c\n",
    "\n",
    "lc = [0.01, 0.1, 0.2, 0.3, 0.5, 0.6, 0.7, 0.8, 0.9, 1., 1.2, 1.5, 2.]\n",
    "_, c = grid_search(lc, train_mat, train_labels, dev_mat, dev_labels)\n",
    "\n",
    "clf = LogisticRegression(C = c, multi_class = \"auto\", solver = 'lbfgs', max_iter = 500)\n",
    "clf.fit(train_mat, train_labels)"
   ]
  },
  {
   "cell_type": "code",
   "execution_count": 18,
   "metadata": {},
   "outputs": [],
   "source": [
    "# 4 - Produce 2210 predictions for the test set (in the same order). One line = one prediction (=0,1,2,3,4).\n",
    "#     Attach the output file \"logreg_bov_y_test_sst.txt\" to your deliverable.\n",
    "#     You will be evaluated on the results of the test set.\n",
    "\n",
    "# TYPE CODE HERE\n",
    "test_pred = clf.predict(test_mat)\n",
    "\n",
    "with open(os.path.join(PATH_TO_DATA, \"SST/results/logreg_bov_y_test_sst.txt\"), \"w\") as fp:\n",
    "    fp.write(\"\\n\".join(map(str, test_pred)))"
   ]
  },
  {
   "cell_type": "code",
   "execution_count": 33,
   "metadata": {},
   "outputs": [
    {
     "name": "stdout",
     "output_type": "stream",
     "text": [
      "0.43778383287920075\n",
      "0.42779291553133514\n"
     ]
    }
   ],
   "source": [
    "# BONUS!\n",
    "# 5 - Try to improve performance with another classifier\n",
    "#     Attach the output file \"XXX_bov_y_test_sst.txt\" to your deliverable (where XXX = the name of the classifier)\n",
    "\n",
    "from sklearn.linear_model import SGDClassifier\n",
    "from sklearn.ensemble import GradientBoostingClassifier\n",
    "\n",
    "clf = SGDClassifier(max_iter = 5000, tol = 5e-4, penalty = 'elasticnet', \n",
    "                    loss = 'log', l1_ratio = 0.25, alpha = 0.0001)\n",
    "clf.fit(train_mat, train_labels)\n",
    "score = clf.score(dev_mat, dev_labels)\n",
    "\n",
    "print(score)\n",
    "\n",
    "test_pred = clf.predict(test_mat)\n",
    "\n",
    "with open(os.path.join(PATH_TO_DATA, \"SST/results/sgd_bov_y_test_sst.txt\"), \"w\") as fp:\n",
    "    fp.write(\"\\n\".join(map(str, test_pred)))\n",
    "    \n",
    "clf = GradientBoostingClassifier(n_estimators = 150, max_depth = 5)\n",
    "clf.fit(train_mat, train_labels)\n",
    "score = clf.score(dev_mat, dev_labels)\n",
    "\n",
    "print(score)\n",
    "\n",
    "with open(os.path.join(PATH_TO_DATA, \"SST/results/gbt_bov_y_test_sst.txt\"), \"w\") as fp:\n",
    "    fp.write(\"\\n\".join(map(str, test_pred)))"
   ]
  },
  {
   "cell_type": "markdown",
   "metadata": {},
   "source": [
    "# 4) Sentence classification with LSTMs in Keras"
   ]
  },
  {
   "cell_type": "markdown",
   "metadata": {},
   "source": [
    "## 4.1 - Preprocessing"
   ]
  },
  {
   "cell_type": "code",
   "execution_count": 6,
   "metadata": {},
   "outputs": [
    {
     "name": "stderr",
     "output_type": "stream",
     "text": [
      "Using TensorFlow backend.\n"
     ]
    }
   ],
   "source": [
    "import keras"
   ]
  },
  {
   "cell_type": "code",
   "execution_count": 7,
   "metadata": {},
   "outputs": [],
   "source": [
    "# 1 - Load train/dev/test sets of SST\n",
    "PATH_TO_DATA = \"data/\"\n",
    "\n",
    "# TYPE CODE HERE\n",
    "train_sents, train_labels = read_file(os.path.join(PATH_TO_DATA, \"SST/stsa.fine.train\"), True)\n",
    "dev_sents, dev_labels = read_file(os.path.join(PATH_TO_DATA, \"SST/stsa.fine.dev\"), True)\n",
    "test_sents = read_file(os.path.join(PATH_TO_DATA, \"SST/stsa.fine.test.X\"), False)"
   ]
  },
  {
   "cell_type": "code",
   "execution_count": 8,
   "metadata": {},
   "outputs": [],
   "source": [
    "# 2 - Transform text to integers using keras.preprocessing.text.one_hot function\n",
    "#     https://keras.io/preprocessing/text/\n",
    "\n",
    "from keras.preprocessing.text import one_hot\n",
    "\n",
    "num_words = 10000\n",
    "train_onehot = [one_hot(sent, num_words) for sent in train_sents]\n",
    "val_onehot = [one_hot(sent, num_words) for sent in dev_sents]\n",
    "test_onehot = [one_hot(sent, num_words) for sent in test_sents]"
   ]
  },
  {
   "cell_type": "markdown",
   "metadata": {},
   "source": [
    "**Padding input data**\n",
    "\n",
    "Models in Keras (and elsewhere) take batches of sentences of the same length as input. It is because Deep Learning framework have been designed to handle well Tensors, which are particularly suited for fast computation on the GPU.\n",
    "\n",
    "Since sentences have different sizes, we \"pad\" them. That is, we add dummy \"padding\" tokens so that they all have the same length.\n",
    "\n",
    "The input to a Keras model thus has this size : (batchsize, maxseqlen) where maxseqlen is the maximum length of a sentence in the batch."
   ]
  },
  {
   "cell_type": "code",
   "execution_count": 9,
   "metadata": {},
   "outputs": [],
   "source": [
    "# 3 - Pad your sequences using keras.preprocessing.sequence.pad_sequences\n",
    "#     https://keras.io/preprocessing/sequence/\n",
    "\n",
    "from keras.preprocessing.sequence import pad_sequences\n",
    "from keras.utils import to_categorical\n",
    "\n",
    "max_len = 15\n",
    "x_train = pad_sequences(train_onehot, padding = 'post', truncating = 'post', maxlen = max_len)\n",
    "x_val = pad_sequences(val_onehot, padding = 'post', truncating = 'post', maxlen = max_len)\n",
    "x_test = pad_sequences(test_onehot, padding = 'post', truncating = 'post', maxlen = max_len)\n",
    "\n",
    "y_train = to_categorical(train_labels)\n",
    "y_val = to_categorical(dev_labels)"
   ]
  },
  {
   "cell_type": "markdown",
   "metadata": {},
   "source": [
    "## 4.2 - Design and train your model"
   ]
  },
  {
   "cell_type": "code",
   "execution_count": 10,
   "metadata": {},
   "outputs": [],
   "source": [
    "# 4 - Design your encoder + classifier using keras.layers\n",
    "#     In Keras, Torch and other deep learning framework, we create a \"container\" which is the Sequential() module.\n",
    "#     Then we add components to this contained : the lookuptable, the LSTM, the classifier etc.\n",
    "#     All of these components are contained in the Sequential() and are trained together.\n",
    "\n",
    "from keras.models import Sequential\n",
    "from keras.layers import Embedding, LSTM, Dense, Activation\n",
    "\n",
    "embed_dim  = x_train.shape[1]  # word embedding dimension\n",
    "nhid       = 32  # number of hidden units in the LSTM\n",
    "vocab_size = num_words  # size of the vocabulary\n",
    "n_classes  = 5\n",
    "\n",
    "model = Sequential()\n",
    "model.add(Embedding(vocab_size, embed_dim))\n",
    "model.add(LSTM(nhid, dropout=0.9, recurrent_dropout=0.9))\n",
    "model.add(Dense(n_classes, activation='sigmoid'))"
   ]
  },
  {
   "cell_type": "code",
   "execution_count": 11,
   "metadata": {},
   "outputs": [
    {
     "name": "stdout",
     "output_type": "stream",
     "text": [
      "_________________________________________________________________\n",
      "Layer (type)                 Output Shape              Param #   \n",
      "=================================================================\n",
      "embedding_1 (Embedding)      (None, None, 15)          150000    \n",
      "_________________________________________________________________\n",
      "lstm_1 (LSTM)                (None, 32)                6144      \n",
      "_________________________________________________________________\n",
      "dense_1 (Dense)              (None, 5)                 165       \n",
      "=================================================================\n",
      "Total params: 156,309\n",
      "Trainable params: 156,309\n",
      "Non-trainable params: 0\n",
      "_________________________________________________________________\n",
      "None\n"
     ]
    }
   ],
   "source": [
    "# 5 - Define your loss/optimizer/metrics\n",
    "\n",
    "# MODIFY CODE BELOW\n",
    "\n",
    "loss_classif     =  'categorical_crossentropy' # find the right loss for multi-class classification\n",
    "optimizer        =  'adam' # find the right optimizer\n",
    "metrics_classif  =  ['accuracy']\n",
    "\n",
    "# Observe how easy (but blackboxed) this is in Keras\n",
    "model.compile(loss=loss_classif,\n",
    "              optimizer=optimizer,\n",
    "              metrics=metrics_classif)\n",
    "print(model.summary())"
   ]
  },
  {
   "cell_type": "code",
   "execution_count": 50,
   "metadata": {
    "collapsed": true
   },
   "outputs": [
    {
     "name": "stdout",
     "output_type": "stream",
     "text": [
      "Train on 8544 samples, validate on 1101 samples\n",
      "Epoch 1/35\n",
      "8544/8544 [==============================] - 2s 281us/step - loss: 1.6025 - acc: 0.2467 - val_loss: 1.5937 - val_acc: 0.2625\n",
      "\n",
      "Epoch 00001: val_loss improved from inf to 1.59368, saving model to models/model-001.h5\n",
      "Epoch 2/35\n",
      "8544/8544 [==============================] - 1s 145us/step - loss: 1.5860 - acc: 0.2633 - val_loss: 1.5787 - val_acc: 0.2534\n",
      "\n",
      "Epoch 00002: val_loss improved from 1.59368 to 1.57872, saving model to models/model-002.h5\n",
      "Epoch 3/35\n",
      "8544/8544 [==============================] - 1s 144us/step - loss: 1.5762 - acc: 0.2650 - val_loss: 1.5728 - val_acc: 0.2534\n",
      "\n",
      "Epoch 00003: val_loss improved from 1.57872 to 1.57275, saving model to models/model-003.h5\n",
      "Epoch 4/35\n",
      "8544/8544 [==============================] - 1s 149us/step - loss: 1.5757 - acc: 0.2704 - val_loss: 1.5724 - val_acc: 0.2534\n",
      "\n",
      "Epoch 00004: val_loss improved from 1.57275 to 1.57241, saving model to models/model-004.h5\n",
      "Epoch 5/35\n",
      "8544/8544 [==============================] - 1s 143us/step - loss: 1.5698 - acc: 0.2708 - val_loss: 1.5725 - val_acc: 0.2534\n",
      "\n",
      "Epoch 00005: val_loss did not improve from 1.57241\n",
      "Epoch 6/35\n",
      "8544/8544 [==============================] - 1s 145us/step - loss: 1.5694 - acc: 0.2755 - val_loss: 1.5726 - val_acc: 0.2534\n",
      "\n",
      "Epoch 00006: val_loss did not improve from 1.57241\n",
      "Epoch 7/35\n",
      "8544/8544 [==============================] - 1s 143us/step - loss: 1.5695 - acc: 0.2708 - val_loss: 1.5726 - val_acc: 0.2534\n",
      "\n",
      "Epoch 00007: val_loss did not improve from 1.57241\n",
      "Epoch 8/35\n",
      "8544/8544 [==============================] - 1s 152us/step - loss: 1.5668 - acc: 0.2742 - val_loss: 1.5727 - val_acc: 0.2534\n",
      "\n",
      "Epoch 00008: val_loss did not improve from 1.57241\n",
      "Epoch 9/35\n",
      "8544/8544 [==============================] - 1s 145us/step - loss: 1.5663 - acc: 0.2777 - val_loss: 1.5722 - val_acc: 0.2534\n",
      "\n",
      "Epoch 00009: val_loss improved from 1.57241 to 1.57222, saving model to models/model-009.h5\n",
      "Epoch 10/35\n",
      "8544/8544 [==============================] - 1s 145us/step - loss: 1.5650 - acc: 0.2766 - val_loss: 1.5716 - val_acc: 0.2534\n",
      "\n",
      "Epoch 00010: val_loss improved from 1.57222 to 1.57165, saving model to models/model-010.h5\n",
      "Epoch 11/35\n",
      "8544/8544 [==============================] - 1s 146us/step - loss: 1.5632 - acc: 0.2798 - val_loss: 1.5719 - val_acc: 0.2534\n",
      "\n",
      "Epoch 00011: val_loss did not improve from 1.57165\n",
      "Epoch 12/35\n",
      "8544/8544 [==============================] - 1s 146us/step - loss: 1.5600 - acc: 0.2773 - val_loss: 1.5713 - val_acc: 0.2543\n",
      "\n",
      "Epoch 00012: val_loss improved from 1.57165 to 1.57131, saving model to models/model-012.h5\n",
      "Epoch 13/35\n",
      "8544/8544 [==============================] - 1s 150us/step - loss: 1.5564 - acc: 0.2862 - val_loss: 1.5706 - val_acc: 0.2561\n",
      "\n",
      "Epoch 00013: val_loss improved from 1.57131 to 1.57064, saving model to models/model-013.h5\n",
      "Epoch 14/35\n",
      "8544/8544 [==============================] - 1s 145us/step - loss: 1.5522 - acc: 0.2885 - val_loss: 1.5702 - val_acc: 0.2652\n",
      "\n",
      "Epoch 00014: val_loss improved from 1.57064 to 1.57018, saving model to models/model-014.h5\n",
      "Epoch 15/35\n",
      "8544/8544 [==============================] - 1s 145us/step - loss: 1.5459 - acc: 0.2986 - val_loss: 1.5681 - val_acc: 0.2743\n",
      "\n",
      "Epoch 00015: val_loss improved from 1.57018 to 1.56808, saving model to models/model-015.h5\n",
      "Epoch 16/35\n",
      "8544/8544 [==============================] - 1s 148us/step - loss: 1.5357 - acc: 0.3022 - val_loss: 1.5664 - val_acc: 0.2861\n",
      "\n",
      "Epoch 00016: val_loss improved from 1.56808 to 1.56643, saving model to models/model-016.h5\n",
      "Epoch 17/35\n",
      "8544/8544 [==============================] - 1s 147us/step - loss: 1.5243 - acc: 0.3058 - val_loss: 1.5608 - val_acc: 0.3261\n",
      "\n",
      "Epoch 00017: val_loss improved from 1.56643 to 1.56076, saving model to models/model-017.h5\n",
      "Epoch 18/35\n",
      "8544/8544 [==============================] - 1s 146us/step - loss: 1.5111 - acc: 0.3222 - val_loss: 1.5560 - val_acc: 0.3233\n",
      "\n",
      "Epoch 00018: val_loss improved from 1.56076 to 1.55603, saving model to models/model-018.h5\n",
      "Epoch 19/35\n",
      "8544/8544 [==============================] - 1s 146us/step - loss: 1.5010 - acc: 0.3268 - val_loss: 1.5430 - val_acc: 0.3424\n",
      "\n",
      "Epoch 00019: val_loss improved from 1.55603 to 1.54304, saving model to models/model-019.h5\n",
      "Epoch 20/35\n",
      "8544/8544 [==============================] - 1s 148us/step - loss: 1.4879 - acc: 0.3359 - val_loss: 1.5428 - val_acc: 0.3388\n",
      "\n",
      "Epoch 00020: val_loss improved from 1.54304 to 1.54277, saving model to models/model-020.h5\n",
      "Epoch 21/35\n",
      "8544/8544 [==============================] - 1s 148us/step - loss: 1.4699 - acc: 0.3440 - val_loss: 1.5245 - val_acc: 0.3433\n",
      "\n",
      "Epoch 00021: val_loss improved from 1.54277 to 1.52448, saving model to models/model-021.h5\n",
      "Epoch 22/35\n",
      "8544/8544 [==============================] - 1s 146us/step - loss: 1.4573 - acc: 0.3581 - val_loss: 1.5127 - val_acc: 0.3488\n",
      "\n",
      "Epoch 00022: val_loss improved from 1.52448 to 1.51268, saving model to models/model-022.h5\n",
      "Epoch 23/35\n",
      "8544/8544 [==============================] - 1s 144us/step - loss: 1.4399 - acc: 0.3614 - val_loss: 1.5081 - val_acc: 0.3451\n",
      "\n",
      "Epoch 00023: val_loss improved from 1.51268 to 1.50807, saving model to models/model-023.h5\n",
      "Epoch 24/35\n",
      "8544/8544 [==============================] - 1s 147us/step - loss: 1.4161 - acc: 0.3757 - val_loss: 1.5034 - val_acc: 0.3588\n",
      "\n",
      "Epoch 00024: val_loss improved from 1.50807 to 1.50344, saving model to models/model-024.h5\n",
      "Epoch 25/35\n",
      "8544/8544 [==============================] - 1s 146us/step - loss: 1.4055 - acc: 0.3770 - val_loss: 1.4929 - val_acc: 0.3506\n",
      "\n",
      "Epoch 00025: val_loss improved from 1.50344 to 1.49292, saving model to models/model-025.h5\n",
      "Epoch 26/35\n",
      "8544/8544 [==============================] - 1s 143us/step - loss: 1.3866 - acc: 0.3915 - val_loss: 1.4776 - val_acc: 0.3660\n",
      "\n",
      "Epoch 00026: val_loss improved from 1.49292 to 1.47759, saving model to models/model-026.h5\n",
      "Epoch 27/35\n",
      "8544/8544 [==============================] - 1s 142us/step - loss: 1.3781 - acc: 0.3947 - val_loss: 1.4986 - val_acc: 0.3624\n",
      "\n",
      "Epoch 00027: val_loss did not improve from 1.47759\n",
      "Epoch 28/35\n",
      "8544/8544 [==============================] - 1s 151us/step - loss: 1.3633 - acc: 0.4051 - val_loss: 1.4870 - val_acc: 0.3588\n",
      "\n",
      "Epoch 00028: val_loss did not improve from 1.47759\n",
      "Epoch 29/35\n",
      "8544/8544 [==============================] - 1s 145us/step - loss: 1.3469 - acc: 0.4163 - val_loss: 1.5118 - val_acc: 0.3579\n",
      "\n",
      "Epoch 00029: val_loss did not improve from 1.47759\n",
      "Epoch 30/35\n",
      "8544/8544 [==============================] - 1s 143us/step - loss: 1.3366 - acc: 0.4202 - val_loss: 1.5338 - val_acc: 0.3433\n",
      "\n",
      "Epoch 00030: val_loss did not improve from 1.47759\n",
      "Epoch 31/35\n",
      "8544/8544 [==============================] - 1s 145us/step - loss: 1.3134 - acc: 0.4281 - val_loss: 1.5090 - val_acc: 0.3524\n",
      "\n",
      "Epoch 00031: val_loss did not improve from 1.47759\n",
      "Epoch 32/35\n",
      "8544/8544 [==============================] - 1s 146us/step - loss: 1.3041 - acc: 0.4342 - val_loss: 1.5227 - val_acc: 0.3615\n",
      "\n",
      "Epoch 00032: val_loss did not improve from 1.47759\n",
      "Epoch 33/35\n",
      "8544/8544 [==============================] - 1s 149us/step - loss: 1.2879 - acc: 0.4417 - val_loss: 1.5352 - val_acc: 0.3470\n",
      "\n",
      "Epoch 00033: val_loss did not improve from 1.47759\n",
      "Epoch 34/35\n",
      "8544/8544 [==============================] - 1s 145us/step - loss: 1.2781 - acc: 0.4544 - val_loss: 1.5411 - val_acc: 0.3533\n",
      "\n",
      "Epoch 00034: val_loss did not improve from 1.47759\n",
      "Epoch 35/35\n",
      "8544/8544 [==============================] - 1s 145us/step - loss: 1.2662 - acc: 0.4511 - val_loss: 1.5669 - val_acc: 0.3615\n",
      "\n",
      "Epoch 00035: val_loss did not improve from 1.47759\n"
     ]
    }
   ],
   "source": [
    "# 6 - Train your model and find the best hyperparameters for your dev set\n",
    "#     you will be evaluated on the quality of your predictions on the test set\n",
    "\n",
    "# ADAPT CODE BELOW\n",
    "bs = 128\n",
    "n_epochs = 35\n",
    "\n",
    "from keras.callbacks import ModelCheckpoint\n",
    "\n",
    "checkpoint = ModelCheckpoint('models/model-{epoch:03d}.h5', verbose=1, monitor='val_loss',save_best_only=True, mode='auto') \n",
    "history = model.fit(x_train, y_train, batch_size = bs, callbacks = [checkpoint], epochs = n_epochs, validation_data = (x_val, y_val))"
   ]
  },
  {
   "cell_type": "code",
   "execution_count": 76,
   "metadata": {},
   "outputs": [
    {
     "data": {
      "image/png": "[encoded data removed]",
      "text/plain": [
       "<Figure size 864x360 with 2 Axes>"
      ]
     },
     "metadata": {
      "needs_background": "light"
     },
     "output_type": "display_data"
    }
   ],
   "source": [
    "def plot_history(history):\n",
    "    \n",
    "    plt.figure(figsize = (12, 5))\n",
    "    plt.subplot(1, 2, 1)\n",
    "    plt.plot(history.history[\"loss\"], label = \"train\")\n",
    "    plt.plot(history.history[\"val_loss\"], label = \"dev\")\n",
    "    plt.legend()\n",
    "    plt.grid()\n",
    "    plt.title(\"Evolution of Loss\")\n",
    "    plt.xlabel(\"Epoch\")\n",
    "    plt.ylabel(\"Loss\")\n",
    "    \n",
    "    plt.subplot(1, 2, 2)\n",
    "    plt.plot(history.history[\"acc\"], label = \"train\")\n",
    "    plt.plot(history.history[\"val_acc\"], label = \"dev\")\n",
    "    plt.legend()\n",
    "    plt.grid()\n",
    "    plt.title(\"Evolution of Accuracy\")\n",
    "    plt.xlabel(\"Epoch\")\n",
    "    plt.ylabel(\"accuracy\")\n",
    "    \n",
    "    plt.show()\n",
    "    \n",
    "plot_history(history)"
   ]
  },
  {
   "cell_type": "code",
   "execution_count": 70,
   "metadata": {},
   "outputs": [],
   "source": [
    "# 7 - Generate your predictions on the test set using model.predict(x_test)\n",
    "#     https://keras.io/models/model/\n",
    "#     Log your predictions in a file (one line = one integer: 0,1,2,3,4)\n",
    "#     Attach the output file \"logreg_lstm_y_test_sst.txt\" to your deliverable.\n",
    "\n",
    "# TYPE CODE HERE\n",
    "model.load_weights(\"models/model-026.h5\")\n",
    "test_pred = model.predict(x_test)\n",
    "test_pred = test_pred.argmax(axis = -1).tolist()\n",
    "\n",
    "with open(os.path.join(PATH_TO_DATA, \"SST/results/logreg_lstm_y_test_sst.txt\"), \"w\") as fp:\n",
    "    fp.write(\"\\n\".join(map(str, test_pred)))"
   ]
  },
  {
   "cell_type": "markdown",
   "metadata": {},
   "source": [
    "## 4.3 -- innovate !"
   ]
  },
  {
   "cell_type": "code",
   "execution_count": 13,
   "metadata": {},
   "outputs": [],
   "source": [
    "# 8 - Open question: find a model that is better on your dev set\n",
    "#     (e.g: use a 1D ConvNet, use a better classifier, pretrain your lookup tables ..)\n",
    "#     you will get point if the results on the test set are better: be careful of not overfitting your dev set too much..\n",
    "#     Attach the output file \"XXX_XXX_y_test_sst.txt\" to your deliverable.\n",
    "\n",
    "from keras.preprocessing import text\n",
    "from keras.layers import Flatten, Dropout, Bidirectional, Reshape, Conv2D, MaxPool2D"
   ]
  },
  {
   "cell_type": "code",
   "execution_count": 46,
   "metadata": {},
   "outputs": [],
   "source": [
    "unique_word = np.unique(sum([sent.split() for sent in train_sents + dev_sents + test_sents], []))\n",
    "num_words = unique_word.shape[0]\n",
    "\n",
    "tokenizer = text.Tokenizer(num_words = num_words)\n",
    "tokenizer.fit_on_texts(train_sents + dev_sents + test_sents)\n",
    "\n",
    "X_train = pad_sequences(tokenizer.texts_to_sequences(train_sents), maxlen = 50)\n",
    "X_val = pad_sequences(tokenizer.texts_to_sequences(dev_sents), maxlen = 50)\n",
    "X_test = pad_sequences(tokenizer.texts_to_sequences(test_sents), maxlen = 50)\n",
    "\n",
    "w2v = Word2vec(os.path.join(PATH_TO_DATA, 'crawl-300d-200k.vec'), nmax = 200000)\n",
    "word_idx = tokenizer.word_index\n",
    "my_num_words = len(word_idx) + 1\n",
    "embed_mat = np.zeros((my_num_words, 300))\n",
    "\n",
    "for word, i in word_idx.items():\n",
    "    if word in w2v.word2vec:\n",
    "        embed_mat[i] = w2v.word2vec[word]"
   ]
  },
  {
   "cell_type": "code",
   "execution_count": 57,
   "metadata": {},
   "outputs": [],
   "source": [
    "def my_model(n_classes = 5):\n",
    "    \n",
    "    model = Sequential()\n",
    "    model.add(Embedding(my_num_words, 300, weights = [embed_mat], input_length = 50))\n",
    "    model.add(Dropout(0.7))\n",
    "    model.add(Bidirectional(LSTM(300, return_sequences = True), merge_mode = 'sum'))\n",
    "    model.add(Dropout(0.7))\n",
    "    model.add(Reshape((-1, 300, 1)))\n",
    "    \n",
    "    model.add(Conv2D(100, kernel_size = (3, 3), padding = 'valid', kernel_initializer = 'glorot_uniform'))\n",
    "    model.add(MaxPool2D(pool_size = (2, 2)))\n",
    "    \n",
    "    model.add(Flatten())\n",
    "    model.add(Dropout(0.7))\n",
    "    model.add(Dense(n_classes, activation='sigmoid'))\n",
    "    \n",
    "    return model"
   ]
  },
  {
   "cell_type": "code",
   "execution_count": 58,
   "metadata": {},
   "outputs": [
    {
     "name": "stdout",
     "output_type": "stream",
     "text": [
      "_________________________________________________________________\n",
      "Layer (type)                 Output Shape              Param #   \n",
      "=================================================================\n",
      "embedding_11 (Embedding)     (None, 50, 300)           5352000   \n",
      "_________________________________________________________________\n",
      "dropout_28 (Dropout)         (None, 50, 300)           0         \n",
      "_________________________________________________________________\n",
      "bidirectional_10 (Bidirectio (None, 50, 300)           1442400   \n",
      "_________________________________________________________________\n",
      "dropout_29 (Dropout)         (None, 50, 300)           0         \n",
      "_________________________________________________________________\n",
      "reshape_10 (Reshape)         (None, 50, 300, 1)        0         \n",
      "_________________________________________________________________\n",
      "conv2d_10 (Conv2D)           (None, 48, 298, 100)      1000      \n",
      "_________________________________________________________________\n",
      "max_pooling2d_10 (MaxPooling (None, 24, 149, 100)      0         \n",
      "_________________________________________________________________\n",
      "flatten_10 (Flatten)         (None, 357600)            0         \n",
      "_________________________________________________________________\n",
      "dropout_30 (Dropout)         (None, 357600)            0         \n",
      "_________________________________________________________________\n",
      "dense_11 (Dense)             (None, 5)                 1788005   \n",
      "=================================================================\n",
      "Total params: 8,583,405\n",
      "Trainable params: 8,583,405\n",
      "Non-trainable params: 0\n",
      "_________________________________________________________________\n",
      "None\n"
     ]
    }
   ],
   "source": [
    "model_opt = my_model()\n",
    "print(model_opt.summary())\n",
    "model_opt.compile(loss = loss_classif,\n",
    "                  optimizer = optimizer,\n",
    "                  metrics = metrics_classif)"
   ]
  },
  {
   "cell_type": "code",
   "execution_count": 59,
   "metadata": {},
   "outputs": [
    {
     "name": "stdout",
     "output_type": "stream",
     "text": [
      "Train on 8544 samples, validate on 1101 samples\n",
      "Epoch 1/5\n",
      "8544/8544 [==============================] - 21s 2ms/step - loss: 1.5025 - acc: 0.3220 - val_loss: 1.3971 - val_acc: 0.3933\n",
      "\n",
      "Epoch 00001: val_loss improved from inf to 1.39708, saving model to models/model-001.h5\n",
      "Epoch 2/5\n",
      "8544/8544 [==============================] - 18s 2ms/step - loss: 1.3286 - acc: 0.4039 - val_loss: 1.3069 - val_acc: 0.4024\n",
      "\n",
      "Epoch 00002: val_loss improved from 1.39708 to 1.30692, saving model to models/model-002.h5\n",
      "Epoch 3/5\n",
      "8544/8544 [==============================] - 18s 2ms/step - loss: 1.2283 - acc: 0.4307 - val_loss: 1.2920 - val_acc: 0.3987\n",
      "\n",
      "Epoch 00003: val_loss improved from 1.30692 to 1.29198, saving model to models/model-003.h5\n",
      "Epoch 4/5\n",
      "8544/8544 [==============================] - 18s 2ms/step - loss: 1.1502 - acc: 0.4539 - val_loss: 1.2875 - val_acc: 0.4015\n",
      "\n",
      "Epoch 00004: val_loss improved from 1.29198 to 1.28754, saving model to models/model-004.h5\n",
      "Epoch 5/5\n",
      "8544/8544 [==============================] - 18s 2ms/step - loss: 1.0788 - acc: 0.4814 - val_loss: 1.3861 - val_acc: 0.3915\n",
      "\n",
      "Epoch 00005: val_loss did not improve from 1.28754\n"
     ]
    }
   ],
   "source": [
    "bs = 64\n",
    "n_epochs = 5\n",
    "\n",
    "checkpoint = ModelCheckpoint('models/model-{epoch:03d}.h5', verbose = 1, monitor = 'val_loss',save_best_only = True, mode = 'auto') \n",
    "history = model_opt.fit(X_train, y_train, batch_size = bs, callbacks = [checkpoint], epochs = n_epochs, validation_data = (X_val, y_val))"
   ]
  },
  {
   "cell_type": "code",
   "execution_count": 60,
   "metadata": {},
   "outputs": [],
   "source": [
    "model_opt.load_weights(\"models/model-004.h5\")\n",
    "test_pred = model_opt.predict(X_test)\n",
    "test_pred = test_pred.argmax(axis = -1).tolist()\n",
    "\n",
    "with open(os.path.join(PATH_TO_DATA, \"SST/results/logreg_bilstm2_y_test_sst.txt\"), \"w\") as fp:\n",
    "    fp.write(\"\\n\".join(map(str, test_pred)))"
   ]
  }
 ],
 "metadata": {
  "kernelspec": {
   "display_name": "Python 3",
   "language": "python",
   "name": "python3"
  },
  "language_info": {
   "codemirror_mode": {
    "name": "ipython",
    "version": 3
   },
   "file_extension": ".py",
   "mimetype": "text/x-python",
   "name": "python",
   "nbconvert_exporter": "python",
   "pygments_lexer": "ipython3",
   "version": "3.6.7"
  }
 },
 "nbformat": 4,
 "nbformat_minor": 1
}
